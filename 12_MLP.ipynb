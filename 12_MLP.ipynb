{
  "nbformat": 4,
  "nbformat_minor": 0,
  "metadata": {
    "colab": {
      "provenance": [],
      "authorship_tag": "ABX9TyPVwYfg3DzT5hgQ3OIAFYUs",
      "include_colab_link": true
    },
    "kernelspec": {
      "name": "python3",
      "display_name": "Python 3"
    },
    "language_info": {
      "name": "python"
    }
  },
  "cells": [
    {
      "cell_type": "markdown",
      "metadata": {
        "id": "view-in-github",
        "colab_type": "text"
      },
      "source": [
        "<a href=\"https://colab.research.google.com/github/tomonari-masada/course2024-intro2ml/blob/main/12_MLP.ipynb\" target=\"_parent\"><img src=\"https://colab.research.google.com/assets/colab-badge.svg\" alt=\"Open In Colab\"/></a>"
      ]
    },
    {
      "cell_type": "markdown",
      "metadata": {
        "id": "Gan0WLEv-ZGC"
      },
      "source": [
        "# 多層パーセプトロン(MLP; multi-layer perceptron)\n",
        "* シンプルなニューラルネットワークである。\n",
        " * CNNやRNNのようなアーキテクチャに比べてシンプル、ということ。"
      ]
    },
    {
      "cell_type": "code",
      "metadata": {
        "id": "JIcOWnYu-YMX"
      },
      "source": [
        "import numpy as np\n",
        "import matplotlib.pyplot as plt\n",
        "\n",
        "%config InlineBackend.figure_format = 'retina'"
      ],
      "execution_count": null,
      "outputs": []
    },
    {
      "cell_type": "markdown",
      "metadata": {
        "id": "6JMlbF526uNS"
      },
      "source": [
        "## toy dataでMLPを試す"
      ]
    },
    {
      "cell_type": "code",
      "metadata": {
        "id": "M7_1iQKj6t9x"
      },
      "source": [
        "from sklearn.neural_network import MLPClassifier\n",
        "\n",
        "X_xor = [[0., 0.], [1., 1.], [0., 1.], [1., 0.]]\n",
        "y_xor = [0, 0, 1, 1]\n",
        "clf = MLPClassifier(random_state=1)\n",
        "clf.fit(X_xor, y_xor)"
      ],
      "execution_count": null,
      "outputs": []
    },
    {
      "cell_type": "markdown",
      "metadata": {
        "id": "iJC-T8gxFut2"
      },
      "source": [
        "* どういうデータを分類していたかを確認\n",
        " * 線形なモデルは学習できない問題。"
      ]
    },
    {
      "cell_type": "code",
      "metadata": {
        "id": "6FPHK22cExXG"
      },
      "source": [
        "X_xor = np.array([[0., 0.], [1., 1.], [0., 1.], [1., 0.]])\n",
        "plt.scatter(X_xor[:,0], X_xor[:,1], c=y_xor)\n",
        "plt.xlim(-.5,1.5)\n",
        "plt.ylim(-.5,1.5)\n",
        "plt.show()"
      ],
      "execution_count": null,
      "outputs": []
    },
    {
      "cell_type": "markdown",
      "metadata": {
        "id": "EZ8k8wOc6z5S"
      },
      "source": [
        "### 分類境界を可視化する\n",
        "* 直線ではなく、曲線で分割できていることに注意。"
      ]
    },
    {
      "cell_type": "code",
      "metadata": {
        "id": "AZgVfgNP631W"
      },
      "source": [
        "x1 = np.linspace(-0.5, 1.5, 101)\n",
        "x2 = np.linspace(-0.5, 1.5, 101)\n",
        "z = clf.predict(np.array([[i, j] for j in x2 for i in x1])).reshape(101,101)\n",
        "plt.figure(figsize=(9,9))\n",
        "plt.contourf(x1, x2, z, 100, alpha=0.1)\n",
        "plt.scatter(X_xor[:,0], X_xor[:,1], c=y_xor)\n",
        "plt.show()"
      ],
      "execution_count": null,
      "outputs": []
    },
    {
      "cell_type": "markdown",
      "metadata": {
        "id": "jW09_g8mBZAc"
      },
      "source": [
        "## MNISTデータを使う"
      ]
    },
    {
      "cell_type": "markdown",
      "metadata": {
        "id": "qalamp07dMpR"
      },
      "source": [
        "* scikit-learnに用意されている仕組みを利用してMNISTデータをダウンロードする。"
      ]
    },
    {
      "cell_type": "code",
      "metadata": {
        "id": "k5T4xL1tBWoV"
      },
      "source": [
        "from sklearn.datasets import fetch_openml\n",
        "mnist = fetch_openml('mnist_784')\n",
        "X, y = mnist.data, mnist.target\n",
        "print(X.shape)\n",
        "print(y.shape)"
      ],
      "execution_count": null,
      "outputs": []
    },
    {
      "cell_type": "markdown",
      "metadata": {
        "id": "7ActyQkLdS4d"
      },
      "source": [
        "* 通常、MNISTデータは最後の10000件をテストデータとして使う。"
      ]
    },
    {
      "cell_type": "code",
      "metadata": {
        "id": "xAcCKb0_Bgud"
      },
      "source": [
        "X_train, X_test = X[:60000], X[60000:]\n",
        "y_train, y_test = y[:60000], y[60000:]"
      ],
      "execution_count": null,
      "outputs": []
    },
    {
      "cell_type": "markdown",
      "metadata": {
        "id": "JX8Jf3OPdeIE"
      },
      "source": [
        "* テストデータ以外の60000件を、訓練データ50000件と検証データ10000件へ分割しておく。"
      ]
    },
    {
      "cell_type": "code",
      "metadata": {
        "id": "Hf0hxjN0BlcM"
      },
      "source": [
        "from sklearn.model_selection import train_test_split\n",
        "\n",
        "X_train, X_valid, y_train, y_valid = train_test_split(X_train, y_train,\n",
        "                                                      test_size=10000,\n",
        "                                                      random_state=42)"
      ],
      "execution_count": null,
      "outputs": []
    },
    {
      "cell_type": "markdown",
      "metadata": {
        "id": "QecEjxyMdXQe"
      },
      "source": [
        "* 訓練データの最初の100個を可視化してみる。"
      ]
    },
    {
      "cell_type": "code",
      "metadata": {
        "id": "zacmZ9O3BjVW"
      },
      "source": [
        "fig, axes = plt.subplots(10, 10)\n",
        "for x, ax in zip(X_train.values, axes.ravel()):\n",
        "  ax.axis('off') # 軸を消す\n",
        "  ax.matshow(x.reshape(28, 28), cmap=plt.cm.gray)\n",
        "plt.show()"
      ],
      "execution_count": null,
      "outputs": []
    },
    {
      "cell_type": "markdown",
      "metadata": {
        "id": "F3sU13WRB6F3"
      },
      "source": [
        "* 今回は、「０」から「９」の10種類へと分類する10値分類の問題を解く。\n",
        " * 前回までのように2値分類に変換したりはしない。"
      ]
    },
    {
      "cell_type": "markdown",
      "metadata": {
        "id": "CSgR0kbFH18a"
      },
      "source": [
        "* 実は、今までのロジスティック回帰やSVMも、2値分類に変換しなければ、10値分類として実行できていた！\n",
        " * 各自確認してみてください。"
      ]
    },
    {
      "cell_type": "markdown",
      "metadata": {
        "id": "dVBy-HpMmBOZ"
      },
      "source": [
        "## 前処理：標準化\n",
        "* 各ピクセルでの平均が0、標準偏差が1になるように、データを標準化しておく。\n",
        "* こうすると分類精度が良くなったりする。"
      ]
    },
    {
      "cell_type": "code",
      "metadata": {
        "id": "uMjXRf6LmBla"
      },
      "source": [
        "from sklearn.preprocessing import StandardScaler\n",
        "\n",
        "scaler = StandardScaler()\n",
        "scaler.fit(X_train) # 訓練データで平均と標準偏差を計算\n",
        "X_train = scaler.transform(X_train) # 訓練データで求めた平均と標準偏差を使って標準化する\n",
        "X_valid = scaler.transform(X_valid)\n",
        "X_test = scaler.transform(X_test)\n"
      ],
      "execution_count": null,
      "outputs": []
    },
    {
      "cell_type": "markdown",
      "metadata": {
        "id": "XOQeYKAdn85i"
      },
      "source": [
        "## MLPによる分類の実行\n"
      ]
    },
    {
      "cell_type": "markdown",
      "source": [
        "* MLPを使う準備\n",
        " * いろいろな設定項目を指定する。"
      ],
      "metadata": {
        "id": "NovGl2710KrC"
      }
    },
    {
      "cell_type": "code",
      "metadata": {
        "id": "Zk_p8Cp-oDzA"
      },
      "source": [
        "clf = MLPClassifier(solver='adam', alpha=1e-5,\n",
        "                    hidden_layer_sizes=100, random_state=1,\n",
        "                    verbose=True, # 損失関数の値を表示\n",
        "                    warm_start=True) # 学習を再開できるようにする"
      ],
      "execution_count": null,
      "outputs": []
    },
    {
      "cell_type": "markdown",
      "source": [
        "* 待てないときは、強制的に止めることもできる。（学習結果は残っている。）"
      ],
      "metadata": {
        "id": "YFd5vjO80IYZ"
      }
    },
    {
      "cell_type": "code",
      "metadata": {
        "id": "5reit8l2JP44"
      },
      "source": [
        "clf.fit(X_train, y_train)"
      ],
      "execution_count": null,
      "outputs": []
    },
    {
      "cell_type": "code",
      "metadata": {
        "id": "5OvA1L_gpw3g"
      },
      "source": [
        "print(f'Accuracy: {clf.score(X_valid, y_valid):.4f}')"
      ],
      "execution_count": null,
      "outputs": []
    },
    {
      "cell_type": "markdown",
      "metadata": {
        "id": "kITRwRt2kX7f"
      },
      "source": [
        "* どの数字をどのクラスに何個間違ったかを表す混同行列を可視化する。"
      ]
    },
    {
      "cell_type": "code",
      "metadata": {
        "id": "yEvBK8yUkXLO"
      },
      "source": [
        "from sklearn.metrics import confusion_matrix\n",
        "confusion_matrix(y_valid, clf.predict(X_valid))"
      ],
      "execution_count": null,
      "outputs": []
    },
    {
      "cell_type": "code",
      "metadata": {
        "id": "AIvFy5hf9BNp"
      },
      "source": [
        "from sklearn.metrics import ConfusionMatrixDisplay\n",
        "cm = confusion_matrix(y_valid, clf.predict(X_valid))\n",
        "cm_display = ConfusionMatrixDisplay(cm).plot()"
      ],
      "execution_count": null,
      "outputs": []
    },
    {
      "cell_type": "markdown",
      "metadata": {
        "id": "Wa2ury-amZ7U"
      },
      "source": [
        "## 見つけ出した最善の設定を使ってテストデータ上で評価\n"
      ]
    },
    {
      "cell_type": "code",
      "metadata": {
        "id": "xKJT7Fe0kZy3"
      },
      "source": [
        "clf = MLPClassifier(solver='adam', alpha=1e-5,\n",
        "                    hidden_layer_sizes=100, random_state=1,\n",
        "                    verbose=True,\n",
        "                    warm_start=True)"
      ],
      "execution_count": null,
      "outputs": []
    },
    {
      "cell_type": "code",
      "source": [
        "X_train_valid = np.concatenate([X_train, X_valid])"
      ],
      "metadata": {
        "id": "bhazlQbz0tv_"
      },
      "execution_count": null,
      "outputs": []
    },
    {
      "cell_type": "code",
      "source": [
        "y_train_valid = np.concatenate([y_train, y_valid])"
      ],
      "metadata": {
        "id": "0YJm0oZS04qF"
      },
      "execution_count": null,
      "outputs": []
    },
    {
      "cell_type": "code",
      "metadata": {
        "id": "8ozFpXA_JLgJ"
      },
      "source": [
        "clf.fit(X_train_valid, y_train_valid)"
      ],
      "execution_count": null,
      "outputs": []
    },
    {
      "cell_type": "code",
      "metadata": {
        "id": "dBNvKQX4JNFM"
      },
      "source": [
        "print(f'Test Accuracy: {clf.score(X_test, y_test):.4f}')"
      ],
      "execution_count": null,
      "outputs": []
    },
    {
      "cell_type": "code",
      "source": [],
      "metadata": {
        "id": "Om_W6e4x1IKY"
      },
      "execution_count": null,
      "outputs": []
    }
  ]
}