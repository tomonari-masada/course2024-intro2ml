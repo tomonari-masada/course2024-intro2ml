{
  "nbformat": 4,
  "nbformat_minor": 0,
  "metadata": {
    "colab": {
      "provenance": [],
      "authorship_tag": "ABX9TyMhbM17GdtCC5G3lirH4Pl6",
      "include_colab_link": true
    },
    "kernelspec": {
      "name": "python3",
      "display_name": "Python 3"
    },
    "language_info": {
      "name": "python"
    }
  },
  "cells": [
    {
      "cell_type": "markdown",
      "metadata": {
        "id": "view-in-github",
        "colab_type": "text"
      },
      "source": [
        "<a href=\"https://colab.research.google.com/github/tomonari-masada/course2024-intro2ml/blob/main/03_Python_2.ipynb\" target=\"_parent\"><img src=\"https://colab.research.google.com/assets/colab-badge.svg\" alt=\"Open In Colab\"/></a>"
      ]
    },
    {
      "cell_type": "markdown",
      "metadata": {
        "id": "nnrbBOomw2H4"
      },
      "source": [
        "# Python入門（２）"
      ]
    },
    {
      "cell_type": "markdown",
      "metadata": {
        "id": "BKC1aUbuiAvC"
      },
      "source": [
        "## `for`ループ"
      ]
    },
    {
      "cell_type": "code",
      "metadata": {
        "id": "ZePLcX9Sw1uZ"
      },
      "source": [
        "for i in range(6):\n",
        "  print(i)"
      ],
      "execution_count": null,
      "outputs": []
    },
    {
      "cell_type": "code",
      "metadata": {
        "id": "7lsv6XDww5kE"
      },
      "source": [
        "x = 10\n",
        "for i in range(x):\n",
        "  print(i)"
      ],
      "execution_count": null,
      "outputs": []
    },
    {
      "cell_type": "code",
      "metadata": {
        "id": "SRAwafrow7M0"
      },
      "source": [
        "for i in range(3, 80, 23):\n",
        "  print(i)"
      ],
      "execution_count": null,
      "outputs": []
    },
    {
      "cell_type": "code",
      "metadata": {
        "id": "z34yEWFFw8fD"
      },
      "source": [
        "s = 0\n",
        "for i in range(1, 101):\n",
        "  s += i\n",
        "print(s)"
      ],
      "execution_count": null,
      "outputs": []
    },
    {
      "cell_type": "markdown",
      "metadata": {
        "id": "dXuDdH1oiE-Q"
      },
      "source": [
        "## アサーション"
      ]
    },
    {
      "cell_type": "markdown",
      "metadata": {
        "id": "L16qSytSiIOL"
      },
      "source": [
        "* 与えられた条件が成り立っていないとき、エラーを出す\n",
        "* プログラムが期待通りの動きをしているかのチェックに使う"
      ]
    },
    {
      "cell_type": "code",
      "metadata": {
        "id": "aQBFVNcRw-JT"
      },
      "source": [
        "x = int(input('非負の整数を入力してください: '))\n",
        "assert x >= 0 #次スライドで説明\n",
        "for a in range(x):\n",
        "  if a**2 >= x:\n",
        "    break\n",
        "if a**2 == x:\n",
        "  print(f'{a} is a square root of {x}.')"
      ],
      "execution_count": null,
      "outputs": []
    },
    {
      "cell_type": "markdown",
      "metadata": {
        "id": "m6_aOseSiMiA"
      },
      "source": [
        "## シーケンスとしての文字列"
      ]
    },
    {
      "cell_type": "code",
      "metadata": {
        "id": "RXtC1Goaw_4r"
      },
      "source": [
        "n = 0\n",
        "for c in 'abracadabra':\n",
        "  if c == 'a':\n",
        "    n += 1\n",
        "print(n)"
      ],
      "execution_count": null,
      "outputs": []
    },
    {
      "cell_type": "markdown",
      "metadata": {
        "id": "EiQ-lHpniPLP"
      },
      "source": [
        "## 関数定義の詳細"
      ]
    },
    {
      "cell_type": "code",
      "metadata": {
        "id": "k6ss_752xDzJ"
      },
      "source": [
        "def maxValue(x, y):\n",
        "  if x > y:\n",
        "    return x\n",
        "  else:\n",
        "    return y"
      ],
      "execution_count": null,
      "outputs": []
    },
    {
      "cell_type": "code",
      "metadata": {
        "id": "9jvrnoU0xF7b"
      },
      "source": [
        "print(maxValue(8, 3))"
      ],
      "execution_count": null,
      "outputs": []
    },
    {
      "cell_type": "code",
      "metadata": {
        "id": "H62HhnAVxOva"
      },
      "source": [
        "def printName(firstName, lastName, reverse):\n",
        "  if reverse:\n",
        "    print(lastName + ', ' + firstName)\n",
        "  else:\n",
        "    print(firstName + ' ' + lastName)"
      ],
      "execution_count": null,
      "outputs": []
    },
    {
      "cell_type": "code",
      "metadata": {
        "id": "ZmDIX2tYxQ1L"
      },
      "source": [
        "printName('Taro', 'Yamada', True)"
      ],
      "execution_count": null,
      "outputs": []
    },
    {
      "cell_type": "code",
      "metadata": {
        "id": "j5pheTLCxTiK"
      },
      "source": [
        "printName('Taro', 'Yamada')"
      ],
      "execution_count": null,
      "outputs": []
    },
    {
      "cell_type": "code",
      "metadata": {
        "id": "U2eo2ZCuxVUq"
      },
      "source": [
        "printName('Taro', 'Yamada', reverse=False)"
      ],
      "execution_count": null,
      "outputs": []
    },
    {
      "cell_type": "markdown",
      "metadata": {
        "id": "M6L1IqaFidhy"
      },
      "source": [
        "### デフォルト値"
      ]
    },
    {
      "cell_type": "code",
      "metadata": {
        "id": "2JCvKlyPxW7a"
      },
      "source": [
        "def printName(firstName, lastName, reverse=False):\n",
        "  if reverse:\n",
        "    print(lastName + ', ' + firstName)\n",
        "  else:\n",
        "    print(firstName + ' ' + lastName)"
      ],
      "execution_count": null,
      "outputs": []
    },
    {
      "cell_type": "code",
      "metadata": {
        "id": "YNffn7VSxd76"
      },
      "source": [
        "printName('Taro', 'Yamada')"
      ],
      "execution_count": null,
      "outputs": []
    },
    {
      "cell_type": "markdown",
      "metadata": {
        "id": "P879qVkjigtO"
      },
      "source": [
        "### スコープ"
      ]
    },
    {
      "cell_type": "code",
      "metadata": {
        "id": "y2Ydh-HOxfR6"
      },
      "source": [
        "def f(x):\n",
        "  y = 1\n",
        "  x = x + y\n",
        "  print('x =', x)\n",
        "  return x\n",
        "\n",
        "x, y = 3, 2\n",
        "z = f(x)\n",
        "print(f'x = {x}, y = {y}, z = {z}')"
      ],
      "execution_count": null,
      "outputs": []
    },
    {
      "cell_type": "markdown",
      "metadata": {
        "id": "edY7FqjIikzm"
      },
      "source": [
        "### ドキュメンテーション\n",
        "* Pythonのコードのなかで、`\"\"\"`で囲まれた部分は、ドキュメンテーション文字列と呼ばれる\n",
        "  * 例えば関数の仕様を説明するために用いる。\n",
        "  * 組み込み関数`help`でドキュメンテーション文字列にアクセスできる。"
      ]
    },
    {
      "cell_type": "code",
      "metadata": {
        "id": "IhAT4dm2xhOZ"
      },
      "source": [
        "def f(x):\n",
        "  \"\"\"xの値を表示する\"\"\"\n",
        "  print(x)\n",
        "\n",
        "help(f)"
      ],
      "execution_count": null,
      "outputs": []
    },
    {
      "cell_type": "markdown",
      "metadata": {
        "id": "DGok5X8CirjU"
      },
      "source": [
        "### 再帰呼出し"
      ]
    },
    {
      "cell_type": "code",
      "metadata": {
        "id": "zevrEgm6xjcx"
      },
      "source": [
        "def fact(n):\n",
        "  if n == 1:\n",
        "    return n\n",
        "  else:\n",
        "    return n * fact(n - 1)"
      ],
      "execution_count": null,
      "outputs": []
    },
    {
      "cell_type": "code",
      "metadata": {
        "id": "C0bOQ8vLxlgZ"
      },
      "source": [
        "print(fact(8))"
      ],
      "execution_count": null,
      "outputs": []
    },
    {
      "cell_type": "code",
      "metadata": {
        "id": "yW5Jv_qaxm6p"
      },
      "source": [
        "def fib(n):\n",
        "  if n == 0 or n == 1:\n",
        "    return 1\n",
        "  else:\n",
        "    return fib(n - 1) + fib(n - 2)"
      ],
      "execution_count": null,
      "outputs": []
    },
    {
      "cell_type": "code",
      "metadata": {
        "id": "KkCel07OxocZ"
      },
      "source": [
        "for i in range(11):\n",
        "  print(fib(i), end=',')\n",
        "print()"
      ],
      "execution_count": null,
      "outputs": []
    },
    {
      "cell_type": "markdown",
      "metadata": {
        "id": "P6lOTgljiweU"
      },
      "source": [
        "## 補足: `print`関数の`end`仮引数"
      ]
    },
    {
      "cell_type": "code",
      "metadata": {
        "id": "z0bjRT2JxqAY"
      },
      "source": [
        "print('a', end='')\n",
        "print('b', end=' ')\n",
        "print('c', end='---')\n",
        "print('d')\n",
        "print('e')"
      ],
      "execution_count": null,
      "outputs": []
    },
    {
      "cell_type": "markdown",
      "metadata": {
        "id": "jmIEmh7fi16s"
      },
      "source": [
        "## ファイルの読み書き"
      ]
    },
    {
      "cell_type": "code",
      "metadata": {
        "id": "ZRvKC4Ztxrxh"
      },
      "source": [
        "f = open('text.txt', 'w')\n",
        "for i in range(5):\n",
        "  line = input('Enter string: ')\n",
        "  f.write(line + '\\n')\n",
        "f.close()"
      ],
      "execution_count": null,
      "outputs": []
    },
    {
      "cell_type": "code",
      "metadata": {
        "id": "W740VjRzxwkA"
      },
      "source": [
        "f = open('text.txt', 'r')\n",
        "for line in f:\n",
        "  print(line)\n",
        "f.close()"
      ],
      "execution_count": null,
      "outputs": []
    },
    {
      "cell_type": "code",
      "metadata": {
        "id": "USDr1CWJx0mH"
      },
      "source": [
        "f = open('text.txt', 'r')\n",
        "for line in f:\n",
        "  line = line.strip()\n",
        "  print(line)\n",
        "f.close()"
      ],
      "execution_count": null,
      "outputs": []
    },
    {
      "cell_type": "markdown",
      "metadata": {
        "id": "F2Etjjhvi8UD"
      },
      "source": [
        "## Pythonの4つの構造型"
      ]
    },
    {
      "cell_type": "markdown",
      "metadata": {
        "id": "bL4yYdJTi9ej"
      },
      "source": [
        "* タプル\n",
        "  * 文字列の一般化。不変な要素の列。\n",
        "* range\n",
        "  * タプルと同じく不変な要素の列。ただし整数の列。\n",
        "* リスト\n",
        "  * 可変なタプル\n",
        "* 辞書\n",
        "  * 連想配列（添え字が数字でない配列）"
      ]
    },
    {
      "cell_type": "markdown",
      "metadata": {
        "id": "S1dpd3KIjE3k"
      },
      "source": [
        "### タプル(tuple)"
      ]
    },
    {
      "cell_type": "code",
      "metadata": {
        "id": "c-hX3kGax4uA"
      },
      "source": [
        "t1 = ()\n",
        "t2 = ('one', 2, 'three', 4)\n",
        "print(t1)\n",
        "print(t2)"
      ],
      "execution_count": null,
      "outputs": []
    },
    {
      "cell_type": "code",
      "metadata": {
        "id": "0_74orbnx6oX"
      },
      "source": [
        "t3 = (123,)\n",
        "print(t3)"
      ],
      "execution_count": null,
      "outputs": []
    },
    {
      "cell_type": "code",
      "metadata": {
        "id": "3-9XSOyTx7_X"
      },
      "source": [
        "t = tuple()\n",
        "print(t)"
      ],
      "execution_count": null,
      "outputs": []
    },
    {
      "cell_type": "code",
      "metadata": {
        "id": "ExiSxRlpx-Cn"
      },
      "source": [
        "t1 = ('one', 2, 'three', 4)\n",
        "t2 = (0, t1, 'five')\n",
        "print(t2)\n",
        "print(t1 + t2)\n",
        "print((t1 + t2)[2])\n",
        "print((t1 + t2)[1:4])"
      ],
      "execution_count": null,
      "outputs": []
    },
    {
      "cell_type": "code",
      "metadata": {
        "id": "pWw7sE99x_uv"
      },
      "source": [
        "t1 = (2, 4, 6, 8, 10, 12, 14, 16, 18)\n",
        "t2 = (3, 6, 9, 12, 15, 18)\n",
        "for e in t1:\n",
        "    if e in t2:\n",
        "        print(e)"
      ],
      "execution_count": null,
      "outputs": []
    },
    {
      "cell_type": "markdown",
      "metadata": {
        "id": "_HWo0Pr1jIMQ"
      },
      "source": [
        "### 範囲(range)"
      ]
    },
    {
      "cell_type": "code",
      "metadata": {
        "id": "JDvpZMKOyBau"
      },
      "source": [
        "for i in range(21, 100, 7):\n",
        "  print(i)\n",
        "print()\n",
        "for i in range(100, 21, -7):\n",
        "  print(i)"
      ],
      "execution_count": null,
      "outputs": []
    },
    {
      "cell_type": "markdown",
      "metadata": {
        "id": "B_4pwwM_jK2O"
      },
      "source": [
        "### リスト(list)"
      ]
    },
    {
      "cell_type": "code",
      "metadata": {
        "id": "Z9sTk_9zyC9W"
      },
      "source": [
        "l1 = []\n",
        "l2 = ['one', 2, 'three', 4]\n",
        "print(l1)\n",
        "print(l2)"
      ],
      "execution_count": null,
      "outputs": []
    },
    {
      "cell_type": "code",
      "metadata": {
        "id": "37ylEo32yGR-"
      },
      "source": [
        "l3 = [123]\n",
        "print(l3)"
      ],
      "execution_count": null,
      "outputs": []
    },
    {
      "cell_type": "code",
      "metadata": {
        "id": "OJoiRfkDyHqm"
      },
      "source": [
        "l = list()\n",
        "print(l)"
      ],
      "execution_count": null,
      "outputs": []
    },
    {
      "cell_type": "code",
      "metadata": {
        "id": "tDicZI6lyJk9"
      },
      "source": [
        "l1 = [2, 4, 6, 8, 10, 12, 14, 16, 18]\n",
        "l2 = [3, 6, 9, 12, 15, 18]\n",
        "for e in l1:\n",
        "  if e in l2:\n",
        "    print(e)"
      ],
      "execution_count": null,
      "outputs": []
    },
    {
      "cell_type": "markdown",
      "metadata": {
        "id": "SU4HkJ4ljkRJ"
      },
      "source": [
        "* 組み込み関数`id`を使うとオブジェクトの固有識別子が得られる\n"
      ]
    },
    {
      "cell_type": "code",
      "metadata": {
        "id": "KBPRTwp1yLLm"
      },
      "source": [
        "v = ['onion', 'carrot']\n",
        "f = ['apple', 'orange', 'banana']\n",
        "l1 = [v, f]\n",
        "l2 = [['onion', 'carrot'], ['apple', 'orange', 'banana']]\n",
        "print(l1 == l2)\n",
        "print(id(l1) == id(l2))"
      ],
      "execution_count": null,
      "outputs": []
    },
    {
      "cell_type": "markdown",
      "metadata": {
        "id": "6gqluWymjoOS"
      },
      "source": [
        "### リストのメソッド"
      ]
    },
    {
      "cell_type": "code",
      "metadata": {
        "id": "I8xZGN1myMeW"
      },
      "source": [
        "l1 = [1,2,3]\n",
        "l2 = [4,5,6]\n",
        "l2.append(7)\n",
        "print(l2)\n",
        "l1.extend(l2)\n",
        "print(l1)\n",
        "l1.append(l2)\n",
        "print(l1)"
      ],
      "execution_count": null,
      "outputs": []
    },
    {
      "cell_type": "code",
      "metadata": {
        "id": "coCMpQeEyN7m"
      },
      "source": [
        "l = [1,2,3,2,1,2,3,4,3,2,3,4,5]\n",
        "print(l.count(1))\n",
        "print(l.count(3))\n",
        "print(l.index(4))\n",
        "print(l.index(10))"
      ],
      "execution_count": null,
      "outputs": []
    },
    {
      "cell_type": "code",
      "metadata": {
        "id": "xuhaPN3OyPrm"
      },
      "source": [
        "l = [1,2,3,2,1,2,3,4,3,2,3,4,5]\n",
        "l.sort()\n",
        "print(l)\n",
        "l.reverse()\n",
        "print(l)"
      ],
      "execution_count": null,
      "outputs": []
    },
    {
      "cell_type": "code",
      "metadata": {
        "id": "Em66HPnjyV6F"
      },
      "source": [
        "l = [3, 6, 9, 12, 15, 18]\n",
        "l.insert(3, 10)\n",
        "print(l)\n",
        "l.remove(10)\n",
        "print(l)\n",
        "l.pop(4)\n",
        "print(l)"
      ],
      "execution_count": null,
      "outputs": []
    },
    {
      "cell_type": "markdown",
      "metadata": {
        "id": "SKTjVQqTjtIX"
      },
      "source": [
        "### リスト内包(list comprehension)\n",
        "* 順序型のそれぞれの値に対し、特定の処理をおこない、その結果を要素として含むリストを作り出す方法\n"
      ]
    },
    {
      "cell_type": "code",
      "metadata": {
        "id": "QgpN02aD0Sp0"
      },
      "source": [
        "l = [x**3 for x in range(2, 10, 3)]\n",
        "print(l)\n",
        "l = [x for x in range(-10, 10) if x%2 == 0]\n",
        "print(l)\n",
        "words1 = ['apple', 'ball', 'banana', 'orange']\n",
        "words2 = [x for x in words1 if x.count('a') == 1]\n",
        "print(words2)\n",
        "words3 = [x for x in words1 for c in x if c == 'a']\n",
        "print(words3) #出力がなぜそうなるか説明してみよう"
      ],
      "execution_count": null,
      "outputs": []
    },
    {
      "cell_type": "code",
      "metadata": {
        "id": "XIzHrPTg0UdL"
      },
      "source": [
        "numbers = {'one':1, 'two':2, 'four':3, 'seven':7}\n",
        "print(numbers)\n",
        "print(numbers['four'])\n",
        "numbers['seven'] = 70 #値を上書き\n",
        "print(numbers['seven'])\n",
        "numbers['six'] = 6 #新たに追加\n",
        "print(numbers['six'])\n",
        "print('six' in numbers) #キーがあるかどうか調べる"
      ],
      "execution_count": null,
      "outputs": []
    },
    {
      "cell_type": "markdown",
      "metadata": {
        "id": "6-LfUYbaj4qa"
      },
      "source": [
        "## 順序型に対する操作のまとめ\n",
        "* `seq[i]`は順序型のi番目の要素（ただし、最初の要素は0番目）\n",
        "* `len(seq)`は順序型の長さ\n",
        "* `seq1 + seq2`は二つの順序型を連結する（範囲型では使用不可）\n",
        "* `n * seq`は`seq`を`n`回繰り返した順序型（範囲型では使用不可）\n",
        "* `seq[start:end]`は順序型のスライス\n",
        "* `e in seq`は`e`が順序型の要素である場合`True`、それ以外`False`\n",
        "* `e not in seq`は`e`が順序型の要素でない場合`True`、それ以外`False`\n",
        "* `for e in seq`は順序型の要素を反復して取り出す\n"
      ]
    },
    {
      "cell_type": "markdown",
      "metadata": {
        "id": "JUtPMEJJkPSc"
      },
      "source": [
        "## 辞書"
      ]
    },
    {
      "cell_type": "code",
      "metadata": {
        "id": "A4QfcvZq0WMb"
      },
      "source": [
        "d = dict()\n",
        "print(d)"
      ],
      "execution_count": null,
      "outputs": []
    },
    {
      "cell_type": "code",
      "metadata": {
        "id": "FlRwronn0Yeb"
      },
      "source": [
        "numbers = {'three':3 , 'one':1 , 'nine':9, 'four':4}\n",
        "for key in numbers :\n",
        "  print(key, numbers[key])"
      ],
      "execution_count": null,
      "outputs": []
    },
    {
      "cell_type": "markdown",
      "metadata": {
        "id": "t7Hq09pkkSh4"
      },
      "source": [
        "### 辞書の`items`メソッド"
      ]
    },
    {
      "cell_type": "code",
      "metadata": {
        "id": "WQ0D05aH0Z2b"
      },
      "source": [
        "numbers = {'three':3 , 'one':1 , 'nine':9, 'four':4}\n",
        "for item in numbers.items():\n",
        "  print(item)"
      ],
      "execution_count": null,
      "outputs": []
    },
    {
      "cell_type": "markdown",
      "metadata": {
        "id": "qLM1toH4kgbq"
      },
      "source": [
        "### 組み込み関数`sorted`"
      ]
    },
    {
      "cell_type": "code",
      "metadata": {
        "id": "DPXyEVIw0fdq"
      },
      "source": [
        "t = (4, -2, 3, 10, -8, 1)\n",
        "print(sorted(t))\n",
        "print(type(sorted(t)))\n",
        "print(t)\n",
        "l = [1, -2, 8, 3, 23, 14]\n",
        "print(sorted(l))\n",
        "print(type(sorted(l)))\n",
        "print(l)"
      ],
      "execution_count": null,
      "outputs": []
    },
    {
      "cell_type": "markdown",
      "metadata": {
        "id": "nw2hjVE4kfPW"
      },
      "source": [
        "### 辞書の要素をキーでソートする"
      ]
    },
    {
      "cell_type": "code",
      "metadata": {
        "id": "LUSe_4wa0g4K"
      },
      "source": [
        "numbers = {'three':3 , 'one':1 , 'nine':9, 'four':4}\n",
        "for item in sorted(numbers.items()):\n",
        "  print(item)"
      ],
      "execution_count": null,
      "outputs": []
    },
    {
      "cell_type": "markdown",
      "metadata": {
        "id": "ddI1hZ21kjo-"
      },
      "source": [
        "### 辞書の要素を値でソートする"
      ]
    },
    {
      "cell_type": "code",
      "metadata": {
        "id": "PrDVPSKq0idi"
      },
      "source": [
        "numbers = {'three':3 , 'one':1 , 'nine':9, 'four':4}\n",
        "for item in sorted(numbers.items(), key=lambda x: x[1]):\n",
        "  print(item)"
      ],
      "execution_count": null,
      "outputs": []
    },
    {
      "cell_type": "markdown",
      "metadata": {
        "id": "uwrwGkk9kuMR"
      },
      "source": [
        "### 辞書の`get`メソッド"
      ]
    },
    {
      "cell_type": "code",
      "metadata": {
        "id": "vtfT1d650qBy"
      },
      "source": [
        "freq = dict() #空の辞書\n",
        "l = ['a', 'b', 'a', 'a', 'c', 'b', 'c']\n",
        "for e in l:\n",
        "  freq[e] = freq.get(e, 0) + 1 #右辺がfreq[e] + 1だとエラー\n",
        "print(freq)"
      ],
      "execution_count": null,
      "outputs": []
    },
    {
      "cell_type": "markdown",
      "metadata": {
        "id": "TkDxUIJAkmRG"
      },
      "source": [
        "## 補足: 予約語`lambda`"
      ]
    },
    {
      "cell_type": "code",
      "metadata": {
        "id": "I9h5cmSP0kEq"
      },
      "source": [
        "def applyFunc(x, func):\n",
        "  return func(x)\n",
        "\n",
        "print(applyFunc(3, lambda x: x**2))"
      ],
      "execution_count": null,
      "outputs": []
    },
    {
      "cell_type": "markdown",
      "metadata": {
        "id": "4t8eT3Jikoe1"
      },
      "source": [
        "## 補足: 高階関数`map`"
      ]
    },
    {
      "cell_type": "code",
      "metadata": {
        "id": "6hOtwdtm0lfy"
      },
      "source": [
        "ans = map(abs, range(-10, 11, 2))\n",
        "for e in ans:\n",
        "  print(e, end=' ')\n",
        "print()"
      ],
      "execution_count": null,
      "outputs": []
    },
    {
      "cell_type": "code",
      "metadata": {
        "id": "ujloBBOR0nNi"
      },
      "source": [
        "for e in map(lambda x: x//2, range(-10, 11, 2)):\n",
        "  print(e, end=' ')\n",
        "print()"
      ],
      "execution_count": null,
      "outputs": []
    },
    {
      "cell_type": "markdown",
      "metadata": {
        "id": "QjUILhrRkrsq"
      },
      "source": [
        "## 補足: 文字列の`split`メソッド"
      ]
    },
    {
      "cell_type": "code",
      "metadata": {
        "id": "sqdfnVy30oVi"
      },
      "source": [
        "text = 'Donald Trump has his sights set on Amazon. He is reportedly “obsessed” with the internet commerce giant, and as is his wont, spent Thursday morning tweeting about it. And it’s not because he loves online shopping.'\n",
        "word_seq = text.split()\n",
        "for word in word_seq:\n",
        "  print(word)"
      ],
      "execution_count": null,
      "outputs": []
    },
    {
      "cell_type": "markdown",
      "metadata": {
        "id": "qy5aq0R5k-ny"
      },
      "source": [
        "## クラス\n",
        "* データとそれに対する処理とをまとめて扱いたいとき、クラスを自分で定義する。"
      ]
    },
    {
      "cell_type": "code",
      "metadata": {
        "id": "8yfVnKTl0rsI"
      },
      "source": [
        "class Greeter(object):\n",
        "\n",
        "  def __init__(self, name):\n",
        "    self.name = name\n",
        "\n",
        "  def greet(self, loud=False):\n",
        "    if loud:\n",
        "      print(f'HELLO, {self.name.upper()}!')\n",
        "    else:\n",
        "      print(f'Hello, {self.name}')"
      ],
      "execution_count": null,
      "outputs": []
    },
    {
      "cell_type": "markdown",
      "metadata": {
        "id": "Jf5q1h_QlBvH"
      },
      "source": [
        "### インスタンスの作成"
      ]
    },
    {
      "cell_type": "code",
      "metadata": {
        "id": "lYu7hf890tJh"
      },
      "source": [
        "g = Greeter('Fred')"
      ],
      "execution_count": null,
      "outputs": []
    },
    {
      "cell_type": "markdown",
      "metadata": {
        "id": "t1Fsx0BalEH3"
      },
      "source": [
        "### メソッドの呼出し"
      ]
    },
    {
      "cell_type": "code",
      "metadata": {
        "id": "vdstALIZ0uxa"
      },
      "source": [
        "g.greet()\n",
        "g.greet(loud=True)"
      ],
      "execution_count": null,
      "outputs": []
    },
    {
      "cell_type": "markdown",
      "metadata": {
        "id": "dC1Pn6N101tN"
      },
      "source": [
        "## 課題４\n",
        "* 適当な英文ニュース記事から本文だけをコピー・アンド・ペーストし、テキストファイル`news.txt`を作っておく\n",
        "* このテキストファイル`news.txt`を関数`open`で開き、そして読み込み、以下の処理をするコードをPythonで書く\n",
        "* 記事にどの単語が何回出現するかを、単語の出現回数の降順でソートして表示する。\n",
        "  * なお、ニュースサイトから、大量の記事をPythonのプログラムなどで自動的にダウンロードしてはいけません。"
      ]
    },
    {
      "cell_type": "code",
      "metadata": {
        "id": "5rtXSivo0v-B"
      },
      "source": [],
      "execution_count": null,
      "outputs": []
    }
  ]
}