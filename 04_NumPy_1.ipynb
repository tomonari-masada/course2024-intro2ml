{
  "nbformat": 4,
  "nbformat_minor": 0,
  "metadata": {
    "colab": {
      "provenance": [],
      "authorship_tag": "ABX9TyMcFmBZF8fLrRMCQXi8PlhL",
      "include_colab_link": true
    },
    "kernelspec": {
      "name": "python3",
      "display_name": "Python 3"
    },
    "language_info": {
      "name": "python"
    }
  },
  "cells": [
    {
      "cell_type": "markdown",
      "metadata": {
        "id": "view-in-github",
        "colab_type": "text"
      },
      "source": [
        "<a href=\"https://colab.research.google.com/github/tomonari-masada/course2024-intro2ml/blob/main/04_NumPy_1.ipynb\" target=\"_parent\"><img src=\"https://colab.research.google.com/assets/colab-badge.svg\" alt=\"Open In Colab\"/></a>"
      ]
    },
    {
      "cell_type": "markdown",
      "metadata": {
        "id": "AHp3ueBza0PR"
      },
      "source": [
        "# モジュール、パッケージ、ライブラリ\n",
        "https://docs.python.org/3/tutorial/modules.html\n",
        "* \"A module is a file containing Python definitions and statements.\"\n",
        "* \"Packages are a way of structuring Python’s module namespace by using “dotted module names”.\""
      ]
    },
    {
      "cell_type": "markdown",
      "metadata": {
        "id": "iVXwFXEqeDkG"
      },
      "source": [
        "https://realpython.com/lessons/scripts-modules-packages-and-libraries/\n",
        "* \"A module is a Python file that’s intended to be imported into scripts or other modules.\"\n",
        "* \"A package is a collection of related modules that work together to provide certain functionality.\"\n",
        "* \"A library is an umbrella term that loosely means “a bundle of code.” These can have tens or even hundreds of individual modules that can provide a wide range of functionality.\""
      ]
    },
    {
      "cell_type": "markdown",
      "metadata": {
        "id": "Tlv9lakya36X"
      },
      "source": [
        "## mathモジュール"
      ]
    },
    {
      "cell_type": "code",
      "metadata": {
        "id": "_ctew8faYguj"
      },
      "source": [
        "import math\n",
        "\n",
        "a = 2.0\n",
        "b = math.sqrt(a)\n",
        "print(a, b)\n",
        "b = math.exp(a)\n",
        "print(a, b)"
      ],
      "execution_count": null,
      "outputs": []
    },
    {
      "cell_type": "markdown",
      "metadata": {
        "id": "EN-O9_-ca5sA"
      },
      "source": [
        "## reモジュール\n",
        "* 正規表現"
      ]
    },
    {
      "cell_type": "code",
      "metadata": {
        "id": "8x7ObOCtYhwU"
      },
      "source": [
        "import re\n",
        "\n",
        "s = 'one two one two'\n",
        "m = re.finditer('one', s)\n",
        "for match in m:\n",
        "  print(match.start())"
      ],
      "execution_count": null,
      "outputs": []
    },
    {
      "cell_type": "markdown",
      "metadata": {
        "id": "Hfkm3naOa97O"
      },
      "source": [
        "# NumPyライブラリ"
      ]
    },
    {
      "cell_type": "markdown",
      "metadata": {
        "id": "4-ScijSFbDga"
      },
      "source": [
        "* ベクトルや行列を扱える（他にも様々な機能がある）\n",
        " * ベクトルどうしの内積\n",
        " * 行列とベクトルの積\n",
        " * 行列と行列の積\n",
        " * 逆行列\n",
        "\n",
        "* ndarrayという独自のデータ構造を使う\n",
        " * ちゃんとコードを書けば高速（ちゃんと書かないと遅い・・・）\n"
      ]
    },
    {
      "cell_type": "markdown",
      "metadata": {
        "id": "0swi2CAGbNiJ"
      },
      "source": [
        "## ndarray（NumPyの配列）の作り方"
      ]
    },
    {
      "cell_type": "markdown",
      "metadata": {
        "id": "omiKZwz5bhMN"
      },
      "source": [
        "### Pythonのリストから作る"
      ]
    },
    {
      "cell_type": "code",
      "metadata": {
        "id": "srm7ORHZYqfp"
      },
      "source": [
        "import numpy as np\n",
        "\n",
        "a = np.array([-2.0, 1.0, 3.0])\n",
        "print(a)\n",
        "b = np.array([[1,2,3], [4,5,6]])\n",
        "print(b)\n",
        "\n",
        "print(a.T) #ndarrayの属性の例（転置属性）\n",
        "print(b.T)"
      ],
      "execution_count": null,
      "outputs": []
    },
    {
      "cell_type": "code",
      "metadata": {
        "id": "hlUvFI_mYyQh"
      },
      "source": [
        "a = np.array([1, 2, 3])\n",
        "print(a * 3)\n",
        "print(a + 2)\n",
        "b = np.array([2, 2, 0])\n",
        "print(a + b)\n",
        "print(a / b) #エラーが出る（どんなエラー？）\n",
        "print(a * b)\n",
        "print(np.dot(a, b)) #内積"
      ],
      "execution_count": null,
      "outputs": []
    },
    {
      "cell_type": "markdown",
      "metadata": {
        "id": "LPZn1uvTbQwL"
      },
      "source": [
        "### ndarrayの属性"
      ]
    },
    {
      "cell_type": "code",
      "metadata": {
        "id": "zqnXK4utYvRC"
      },
      "source": [
        "a = np.array([-2.0, 1.0, 3.0])\n",
        "b = np.array([[1,2,3], [4,5,6]])\n",
        "\n",
        "print(type(a)) #ndarray自体のデータ型\n",
        "print(a.data) #メモリ上での位置\n",
        "print(a.dtype) #要素のデータ型\n",
        "print(a.size, b.size)\n",
        "print(a.itemsize, b.itemsize) #要素のサイズ\n",
        "print(a.ndim, b.ndim) #次元数\n",
        "print(a.shape, b.shape) #形状"
      ],
      "execution_count": null,
      "outputs": []
    },
    {
      "cell_type": "markdown",
      "metadata": {
        "id": "Gn13GaIUbawK"
      },
      "source": [
        "### ndarrayの作り方のいろいろ"
      ]
    },
    {
      "cell_type": "code",
      "metadata": {
        "id": "3f6iGuw6Yz-q"
      },
      "source": [
        "a = np.arange(10)\n",
        "print(a)\n",
        "b = np.arange(0, 10, 2)\n",
        "print(b)\n",
        "x = np.linspace(0, 10, 15) #0以上10以下を14等分\n",
        "print(x)"
      ],
      "execution_count": null,
      "outputs": []
    },
    {
      "cell_type": "code",
      "metadata": {
        "id": "cTjr9VdUY58Z"
      },
      "source": [
        "print(np.random.randn()) #正規乱数\n",
        "a = np.random.randn(2, 3)\n",
        "print(a)\n",
        "b = np.random.randn(3, 4)\n",
        "print(b)\n",
        "print(np.dot(a, b))\n",
        "print(np.dot(b, a)) #エラー（なぜ？）"
      ],
      "execution_count": null,
      "outputs": []
    },
    {
      "cell_type": "code",
      "metadata": {
        "id": "juezWtTpY7fh"
      },
      "source": [
        "a = np.zeros((3,3)) #()で囲む必要あり\n",
        "print(a)\n",
        "b = np.ones((3,3))\n",
        "print(b)\n",
        "print(np.dot(b, b)) #なぜこうなる？\n",
        "\n",
        "c = np.full((2,2), 7)\n",
        "print(c)"
      ],
      "execution_count": null,
      "outputs": []
    },
    {
      "cell_type": "markdown",
      "metadata": {
        "id": "YRd5MaWsbupX"
      },
      "source": [
        "## 配列の要素を指定する"
      ]
    },
    {
      "cell_type": "markdown",
      "metadata": {
        "id": "AIUg61oUb-lM"
      },
      "source": [
        "### インデックス"
      ]
    },
    {
      "cell_type": "code",
      "metadata": {
        "id": "rzLp8AQHY9jB"
      },
      "source": [
        "a = np.arange(1, 20, 3)\n",
        "print(a)\n",
        "print(a[0])\n",
        "print(a[1])\n",
        "a[3] = 11\n",
        "print(a)\n",
        "c = np.array([[1,2,3],[4,5,6]])\n",
        "print(c)\n",
        "print(c[0,0])\n",
        "print(c[0,2])\n",
        "print(c[1,2])"
      ],
      "execution_count": null,
      "outputs": []
    },
    {
      "cell_type": "markdown",
      "metadata": {
        "id": "VGTRdkLDZIYJ"
      },
      "source": [
        "### 良くないコードの例"
      ]
    },
    {
      "cell_type": "code",
      "metadata": {
        "id": "Jn7bUVa6ZAPx"
      },
      "source": [
        "import time\n",
        "import numpy as np\n",
        "\n",
        "x = np.ones(10000000)\n",
        "y = np.ones(10000000)\n",
        "s = np.zeros(10000000)\n",
        "for _ in range(10):\n",
        "  a = time.time()\n",
        "  for i in range(10000000):\n",
        "    s[i] = x[i] + y[i]\n",
        "  b = time.time()\n",
        "  print(b - a)"
      ],
      "execution_count": null,
      "outputs": []
    },
    {
      "cell_type": "markdown",
      "metadata": {
        "id": "rPzYF1AkZMom"
      },
      "source": [
        "* 上のセルのように書くより、こう書くほうが良い"
      ]
    },
    {
      "cell_type": "code",
      "metadata": {
        "id": "7s8cFdShZQn-"
      },
      "source": [
        "import time\n",
        "import numpy as np\n",
        "\n",
        "x = np.ones(10000000)\n",
        "y = np.ones(10000000)\n",
        "s = np.zeros(10000000)\n",
        "for _ in range(10):\n",
        "  a = time.time()\n",
        "  s = x + y\n",
        "  b = time.time()\n",
        "  print(b - a)"
      ],
      "execution_count": null,
      "outputs": []
    },
    {
      "cell_type": "markdown",
      "metadata": {
        "id": "ku21YYlpb6I_"
      },
      "source": [
        "### スライシング"
      ]
    },
    {
      "cell_type": "code",
      "metadata": {
        "id": "2V5VfCO4ZUrZ"
      },
      "source": [
        "a = np.arange(1, 20, 3)\n",
        "print(a)\n",
        "print(a[1:5])\n",
        "print(a[0:6:2])\n",
        "print(a[::-1])\n",
        "print(a[-2::-1])\n",
        "print(a[-2:1:-1])"
      ],
      "execution_count": null,
      "outputs": []
    },
    {
      "cell_type": "markdown",
      "metadata": {
        "id": "mQ2JhxBJcBuS"
      },
      "source": [
        "### fancy index"
      ]
    },
    {
      "cell_type": "code",
      "metadata": {
        "id": "v9XiqHT-ZWSR"
      },
      "source": [
        "np.random.seed(1234)\n",
        "a = np.random.randint(10,size=10)\n",
        "print(a)\n",
        "m = a % 3 == 0\n",
        "print(m)\n",
        "print(type(m))\n",
        "print(m.dtype)\n",
        "b = a[m]\n",
        "print(b)"
      ],
      "execution_count": null,
      "outputs": []
    },
    {
      "cell_type": "markdown",
      "metadata": {
        "id": "8sAWN6YIcFMp"
      },
      "source": [
        "### where関数"
      ]
    },
    {
      "cell_type": "code",
      "metadata": {
        "id": "vdQeMI1mZXvR"
      },
      "source": [
        "np.random.seed(1234)\n",
        "a = np.random.randint(10,size=10)\n",
        "print(a)\n",
        "m = np.where(a % 3 == 0) #インデックスのtupleを返す\n",
        "print(m)\n",
        "print(type(m))\n",
        "b = a[m]\n",
        "print(b)"
      ],
      "execution_count": null,
      "outputs": []
    },
    {
      "cell_type": "code",
      "metadata": {
        "id": "lDGpLYtDZaG5"
      },
      "source": [
        "np.random.seed(1234)\n",
        "a = np.random.randint(10,size=10)\n",
        "print(a)\n",
        "m = np.where(a % 2 == 0, 'even', 'odd')\n",
        "print(m)\n",
        "\n",
        "print(a[m == 'even'])"
      ],
      "execution_count": null,
      "outputs": []
    },
    {
      "cell_type": "markdown",
      "metadata": {
        "id": "M5ZVnM-4cIjb"
      },
      "source": [
        "## 配列のコピー"
      ]
    },
    {
      "cell_type": "markdown",
      "metadata": {
        "id": "FzalREx9cVCr"
      },
      "source": [
        "### 配列のビュー\n",
        "* コピーではない"
      ]
    },
    {
      "cell_type": "code",
      "metadata": {
        "id": "Bajlb7q3cXGK"
      },
      "source": [
        "a = np.array([1, 2, 3])\n",
        "b = a #ビューを作っている\n",
        "print(id(a) == id(b))"
      ],
      "execution_count": null,
      "outputs": []
    },
    {
      "cell_type": "markdown",
      "metadata": {
        "id": "QBaj4afYZf9M"
      },
      "source": [
        "### 復習：リストのコピー"
      ]
    },
    {
      "cell_type": "code",
      "metadata": {
        "id": "9s7sI0f6Zb9Q"
      },
      "source": [
        "a = [1, 2, 3]\n",
        "b = a\n",
        "b[1] = 22\n",
        "print(a)\n",
        "print(b)\n",
        "c = a[:] #リストがコピーされる\n",
        "c[2] = 234\n",
        "print(a)\n",
        "print(c)"
      ],
      "execution_count": null,
      "outputs": []
    },
    {
      "cell_type": "markdown",
      "metadata": {
        "id": "oBRFhX3NZvrC"
      },
      "source": [
        "## ndarrayの場合の`a[:]`"
      ]
    },
    {
      "cell_type": "code",
      "metadata": {
        "id": "CTOUB97jZgr5"
      },
      "source": [
        "a = np.array([1, 2, 3])\n",
        "c = a[:] #コピーされるかどうか？\n",
        "print(id(a) == id(c))\n",
        "c[1] = 22\n",
        "print(a) #変化している"
      ],
      "execution_count": null,
      "outputs": []
    },
    {
      "cell_type": "markdown",
      "metadata": {
        "id": "EaVzJy8XccaI"
      },
      "source": [
        "### `copy`メソッド"
      ]
    },
    {
      "cell_type": "code",
      "metadata": {
        "id": "HpvXCyFhZim5"
      },
      "source": [
        "a = np.array([1, 2, 3])\n",
        "d = a.copy() #コピーを作る\n",
        "print(id(a) == id(d))\n",
        "d[2] = 234\n",
        "print(a) #変化していない"
      ],
      "execution_count": null,
      "outputs": []
    },
    {
      "cell_type": "markdown",
      "metadata": {
        "id": "DE6_XyE7ctDL"
      },
      "source": [
        "## in-place演算"
      ]
    },
    {
      "cell_type": "code",
      "metadata": {
        "id": "YBDEJIiaZqcJ"
      },
      "source": [
        "a = np.array([1, 2, 3])\n",
        "c = a #ビューを作る\n",
        "a = a + 1 #ここで別のオブジェクトになる\n",
        "print(c)\n",
        "\n",
        "a = np.array([1, 2, 3])\n",
        "c = a #ビューを作る\n",
        "a += 1 #in-place演算\n",
        "print(c) #変化している"
      ],
      "execution_count": null,
      "outputs": []
    },
    {
      "cell_type": "markdown",
      "metadata": {
        "id": "6ADmfSvXcv6i"
      },
      "source": [
        "### in-place演算と演算関数の比較"
      ]
    },
    {
      "cell_type": "code",
      "metadata": {
        "id": "c7bVUN5kaLMc"
      },
      "source": [
        "import time\n",
        "import numpy as np"
      ],
      "execution_count": null,
      "outputs": []
    },
    {
      "cell_type": "code",
      "metadata": {
        "id": "7aPtHu-jZ_GT"
      },
      "source": [
        "size = 100000000\n",
        "x = np.ones(size)\n",
        "y = np.ones(size)\n",
        "for _ in range(10):\n",
        "  a = time.time()\n",
        "  x = x * 4 + y * 3\n",
        "  b = time.time()\n",
        "  print(b - a)\n",
        "  x = np.ones(size)\n",
        "  y = np.ones(size)"
      ],
      "execution_count": null,
      "outputs": []
    },
    {
      "cell_type": "code",
      "metadata": {
        "id": "N7WerW8caDw3"
      },
      "source": [
        "size = 100000000\n",
        "x = np.ones(size)\n",
        "y = np.ones(size)\n",
        "for _ in range(10):\n",
        "  a = time.time()\n",
        "  x *= 4\n",
        "  y *= 3\n",
        "  x += y\n",
        "  b = time.time()\n",
        "  print(b - a)\n",
        "  x = np.ones(size)\n",
        "  y = np.ones(size)"
      ],
      "execution_count": null,
      "outputs": []
    },
    {
      "cell_type": "code",
      "metadata": {
        "id": "MKG48zxCaQe7"
      },
      "source": [
        "import time\n",
        "import numpy as np\n",
        "\n",
        "size = 100000000\n",
        "x = np.ones(size)\n",
        "y = np.ones(size)\n",
        "for _ in range(10):\n",
        "  a = time.time()\n",
        "  np.multiply(x, 4, out=x)\n",
        "  np.multiply(y, 3, out=y)\n",
        "  np.add(x, y, out=x)\n",
        "  b = time.time()\n",
        "  print(b - a)\n",
        "  x = np.ones(size)\n",
        "  y = np.ones(size)"
      ],
      "execution_count": null,
      "outputs": []
    },
    {
      "cell_type": "markdown",
      "metadata": {
        "id": "w9XBDkJRc19M"
      },
      "source": [
        "## 配列の形状を変更する"
      ]
    },
    {
      "cell_type": "code",
      "metadata": {
        "id": "galRR6uCaVAK"
      },
      "source": [
        "a = np.arange(12)\n",
        "print(a)\n",
        "b = np.reshape(a, (3, 4)) #NumPyの関数reshape\n",
        "print(b)\n",
        "a[3] *= -1\n",
        "print(a)\n",
        "print(b) #変化している\n",
        "c = a.reshape((2,6)) #ndarrayのreshapeメソッド\n",
        "print(c)"
      ],
      "execution_count": null,
      "outputs": []
    }
  ]
}