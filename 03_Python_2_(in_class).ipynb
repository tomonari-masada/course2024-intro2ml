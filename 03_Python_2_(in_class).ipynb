{
  "nbformat": 4,
  "nbformat_minor": 0,
  "metadata": {
    "colab": {
      "provenance": [],
      "authorship_tag": "ABX9TyNM3PUO6Y87AVLwjk5XWTjX",
      "include_colab_link": true
    },
    "kernelspec": {
      "name": "python3",
      "display_name": "Python 3"
    },
    "language_info": {
      "name": "python"
    }
  },
  "cells": [
    {
      "cell_type": "markdown",
      "metadata": {
        "id": "view-in-github",
        "colab_type": "text"
      },
      "source": [
        "<a href=\"https://colab.research.google.com/github/tomonari-masada/course2024-intro2ml/blob/main/03_Python_2_(in_class).ipynb\" target=\"_parent\"><img src=\"https://colab.research.google.com/assets/colab-badge.svg\" alt=\"Open In Colab\"/></a>"
      ]
    },
    {
      "cell_type": "markdown",
      "metadata": {
        "id": "nnrbBOomw2H4"
      },
      "source": [
        "# Python入門（２）"
      ]
    },
    {
      "cell_type": "markdown",
      "metadata": {
        "id": "BKC1aUbuiAvC"
      },
      "source": [
        "## `for`ループ"
      ]
    },
    {
      "cell_type": "code",
      "metadata": {
        "id": "ZePLcX9Sw1uZ",
        "colab": {
          "base_uri": "https://localhost:8080/"
        },
        "outputId": "e7d37435-e3c0-40b5-edca-a7003039c7ef"
      },
      "source": [
        "for i in range(6): # [0, 1, 2, 3, 4, 5]\n",
        "  print(i)"
      ],
      "execution_count": null,
      "outputs": [
        {
          "output_type": "stream",
          "name": "stdout",
          "text": [
            "0\n",
            "1\n",
            "2\n",
            "3\n",
            "4\n",
            "5\n"
          ]
        }
      ]
    },
    {
      "cell_type": "code",
      "metadata": {
        "id": "7lsv6XDww5kE",
        "colab": {
          "base_uri": "https://localhost:8080/"
        },
        "outputId": "0ac51dbf-867f-4c68-a507-bb54f42fa171"
      },
      "source": [
        "x = 10\n",
        "for i in range(x):\n",
        "  print(i)"
      ],
      "execution_count": null,
      "outputs": [
        {
          "output_type": "stream",
          "name": "stdout",
          "text": [
            "0\n",
            "1\n",
            "2\n",
            "3\n",
            "4\n",
            "5\n",
            "6\n",
            "7\n",
            "8\n",
            "9\n"
          ]
        }
      ]
    },
    {
      "cell_type": "code",
      "metadata": {
        "id": "SRAwafrow7M0",
        "colab": {
          "base_uri": "https://localhost:8080/"
        },
        "outputId": "50fc8388-5d48-4b31-d84c-7f539bd7ab30"
      },
      "source": [
        "for i in range(3, 80, 23):\n",
        "  print(i)"
      ],
      "execution_count": null,
      "outputs": [
        {
          "output_type": "stream",
          "name": "stdout",
          "text": [
            "3\n",
            "26\n",
            "49\n",
            "72\n"
          ]
        }
      ]
    },
    {
      "cell_type": "code",
      "source": [
        "for i in range(3, 8):\n",
        "  print(i)"
      ],
      "metadata": {
        "colab": {
          "base_uri": "https://localhost:8080/"
        },
        "id": "C7q5LM9kofuR",
        "outputId": "4bbec4ae-3127-48a2-b383-99288b160091"
      },
      "execution_count": null,
      "outputs": [
        {
          "output_type": "stream",
          "name": "stdout",
          "text": [
            "3\n",
            "4\n",
            "5\n",
            "6\n",
            "7\n"
          ]
        }
      ]
    },
    {
      "cell_type": "code",
      "metadata": {
        "id": "z34yEWFFw8fD",
        "colab": {
          "base_uri": "https://localhost:8080/"
        },
        "outputId": "41ad0f0c-f019-43c7-bd4d-409ec44d53aa"
      },
      "source": [
        "s = 0\n",
        "for i in range(1, 101): # 100回まわる\n",
        "  s += i\n",
        "print(s)"
      ],
      "execution_count": null,
      "outputs": [
        {
          "output_type": "stream",
          "name": "stdout",
          "text": [
            "5050\n"
          ]
        }
      ]
    },
    {
      "cell_type": "code",
      "source": [
        "100 * (100 + 1) // 2"
      ],
      "metadata": {
        "colab": {
          "base_uri": "https://localhost:8080/"
        },
        "id": "FPwgdVKJpeuI",
        "outputId": "ee09c321-ce16-4872-f310-339240eaf007"
      },
      "execution_count": null,
      "outputs": [
        {
          "output_type": "execute_result",
          "data": {
            "text/plain": [
              "5050"
            ]
          },
          "metadata": {},
          "execution_count": 7
        }
      ]
    },
    {
      "cell_type": "code",
      "source": [
        "for a in [\"xxx\", \"yyyyyy\", \"zzzz\"]:\n",
        "  print(a)"
      ],
      "metadata": {
        "colab": {
          "base_uri": "https://localhost:8080/"
        },
        "id": "diwDieg_ptGQ",
        "outputId": "d5e2a812-444d-4118-a38b-2668bdf94027"
      },
      "execution_count": null,
      "outputs": [
        {
          "output_type": "stream",
          "name": "stdout",
          "text": [
            "xxx\n",
            "yyyyyy\n",
            "zzzz\n"
          ]
        }
      ]
    },
    {
      "cell_type": "markdown",
      "metadata": {
        "id": "dXuDdH1oiE-Q"
      },
      "source": [
        "## アサーション"
      ]
    },
    {
      "cell_type": "markdown",
      "metadata": {
        "id": "L16qSytSiIOL"
      },
      "source": [
        "* 与えられた条件が成り立っていないとき、エラーを出す\n",
        "* プログラムが期待通りの動きをしているかのチェックに使う"
      ]
    },
    {
      "cell_type": "code",
      "metadata": {
        "id": "aQBFVNcRw-JT"
      },
      "source": [
        "x = int(input('非負の整数を入力してください: '))\n",
        "assert x >= 0 #次スライドで説明\n",
        "for a in range(x):\n",
        "  if a**2 >= x:\n",
        "    break\n",
        "if a**2 == x:\n",
        "  print(f'{a} is a square root of {x}.')"
      ],
      "execution_count": null,
      "outputs": []
    },
    {
      "cell_type": "markdown",
      "metadata": {
        "id": "m6_aOseSiMiA"
      },
      "source": [
        "## シーケンスとしての文字列"
      ]
    },
    {
      "cell_type": "code",
      "source": [
        "for c in 'abracadabra':\n",
        "  print(c)"
      ],
      "metadata": {
        "colab": {
          "base_uri": "https://localhost:8080/"
        },
        "id": "McOWzYmqqGDD",
        "outputId": "650ceead-1fb6-4961-b7b9-11f59cd133a7"
      },
      "execution_count": null,
      "outputs": [
        {
          "output_type": "stream",
          "name": "stdout",
          "text": [
            "a\n",
            "b\n",
            "r\n",
            "a\n",
            "c\n",
            "a\n",
            "d\n",
            "a\n",
            "b\n",
            "r\n",
            "a\n"
          ]
        }
      ]
    },
    {
      "cell_type": "code",
      "metadata": {
        "id": "RXtC1Goaw_4r",
        "colab": {
          "base_uri": "https://localhost:8080/"
        },
        "outputId": "a90b990e-b60d-448c-fe8b-f2e61bcb8a6a"
      },
      "source": [
        "n = 0\n",
        "for c in 'abracadabra':\n",
        "  if c == 'a':\n",
        "    n += 1 # nの値を1ふやす\n",
        "print(n)"
      ],
      "execution_count": null,
      "outputs": [
        {
          "output_type": "stream",
          "name": "stdout",
          "text": [
            "5\n"
          ]
        }
      ]
    },
    {
      "cell_type": "markdown",
      "metadata": {
        "id": "EiQ-lHpniPLP"
      },
      "source": [
        "## 関数定義の詳細"
      ]
    },
    {
      "cell_type": "code",
      "metadata": {
        "id": "k6ss_752xDzJ"
      },
      "source": [
        "def max_value(x, y):\n",
        "  if x > y:\n",
        "    return x\n",
        "  else:\n",
        "    return y"
      ],
      "execution_count": null,
      "outputs": []
    },
    {
      "cell_type": "code",
      "metadata": {
        "id": "9jvrnoU0xF7b",
        "colab": {
          "base_uri": "https://localhost:8080/"
        },
        "outputId": "eff17366-4527-4d75-f2fd-159fe5ec2084"
      },
      "source": [
        "print(max_value(8, 3))"
      ],
      "execution_count": null,
      "outputs": [
        {
          "output_type": "stream",
          "name": "stdout",
          "text": [
            "8\n"
          ]
        }
      ]
    },
    {
      "cell_type": "code",
      "source": [
        "max_value(7, 12)"
      ],
      "metadata": {
        "colab": {
          "base_uri": "https://localhost:8080/"
        },
        "id": "DvINwvTWry-D",
        "outputId": "a93ad72b-8211-4bdc-e9d4-8bf83653226f"
      },
      "execution_count": null,
      "outputs": [
        {
          "output_type": "execute_result",
          "data": {
            "text/plain": [
              "12"
            ]
          },
          "metadata": {},
          "execution_count": 18
        }
      ]
    },
    {
      "cell_type": "code",
      "metadata": {
        "id": "H62HhnAVxOva"
      },
      "source": [
        "def printName(firstName, lastName, reverse): # 引数\n",
        "  if reverse: # reverseはbool型でないといけないことがわかる\n",
        "    print(lastName + ', ' + firstName)\n",
        "  else:\n",
        "    print(firstName + ' ' + lastName)"
      ],
      "execution_count": null,
      "outputs": []
    },
    {
      "cell_type": "code",
      "metadata": {
        "id": "ZmDIX2tYxQ1L",
        "colab": {
          "base_uri": "https://localhost:8080/"
        },
        "outputId": "4f23fd95-a1a6-44e6-8276-8d9ed0545198"
      },
      "source": [
        "printName('Taro', 'Yamada', True)"
      ],
      "execution_count": null,
      "outputs": [
        {
          "output_type": "stream",
          "name": "stdout",
          "text": [
            "Yamada, Taro\n"
          ]
        }
      ]
    },
    {
      "cell_type": "code",
      "metadata": {
        "id": "j5pheTLCxTiK",
        "colab": {
          "base_uri": "https://localhost:8080/",
          "height": 153
        },
        "outputId": "d2eb67c1-b0b4-4ff2-f6b9-60de6b9dd4b0"
      },
      "source": [
        "printName('Taro', 'Yamada')"
      ],
      "execution_count": null,
      "outputs": [
        {
          "output_type": "error",
          "ename": "TypeError",
          "evalue": "printName() missing 1 required positional argument: 'reverse'",
          "traceback": [
            "\u001b[0;31m---------------------------------------------------------------------------\u001b[0m",
            "\u001b[0;31mTypeError\u001b[0m                                 Traceback (most recent call last)",
            "\u001b[0;32m<ipython-input-24-ccc89bee49d9>\u001b[0m in \u001b[0;36m<cell line: 1>\u001b[0;34m()\u001b[0m\n\u001b[0;32m----> 1\u001b[0;31m \u001b[0mprintName\u001b[0m\u001b[0;34m(\u001b[0m\u001b[0;34m'Taro'\u001b[0m\u001b[0;34m,\u001b[0m \u001b[0;34m'Yamada'\u001b[0m\u001b[0;34m)\u001b[0m\u001b[0;34m\u001b[0m\u001b[0;34m\u001b[0m\u001b[0m\n\u001b[0m",
            "\u001b[0;31mTypeError\u001b[0m: printName() missing 1 required positional argument: 'reverse'"
          ]
        }
      ]
    },
    {
      "cell_type": "code",
      "metadata": {
        "id": "U2eo2ZCuxVUq",
        "colab": {
          "base_uri": "https://localhost:8080/"
        },
        "outputId": "df93c7f0-d4c4-4a10-df89-236dad1d0cf0"
      },
      "source": [
        "printName('Taro', 'Yamada', reverse=False)"
      ],
      "execution_count": null,
      "outputs": [
        {
          "output_type": "stream",
          "name": "stdout",
          "text": [
            "Taro Yamada\n"
          ]
        }
      ]
    },
    {
      "cell_type": "markdown",
      "metadata": {
        "id": "M6L1IqaFidhy"
      },
      "source": [
        "### デフォルト値 （既定の値）"
      ]
    },
    {
      "cell_type": "code",
      "metadata": {
        "id": "2JCvKlyPxW7a"
      },
      "source": [
        "def printName(firstName, lastName, reverse=False):\n",
        "  if reverse:\n",
        "    print(lastName + ', ' + firstName)\n",
        "  else:\n",
        "    print(firstName + ' ' + lastName)"
      ],
      "execution_count": null,
      "outputs": []
    },
    {
      "cell_type": "code",
      "metadata": {
        "id": "YNffn7VSxd76",
        "colab": {
          "base_uri": "https://localhost:8080/"
        },
        "outputId": "70e42cfd-178a-46ec-9374-9953e09b6aa7"
      },
      "source": [
        "printName('Taro', 'Yamada')"
      ],
      "execution_count": null,
      "outputs": [
        {
          "output_type": "stream",
          "name": "stdout",
          "text": [
            "Taro Yamada\n"
          ]
        }
      ]
    },
    {
      "cell_type": "markdown",
      "metadata": {
        "id": "P879qVkjigtO"
      },
      "source": [
        "### スコープ"
      ]
    },
    {
      "cell_type": "code",
      "source": [
        "def f(x):\n",
        "  y = 1\n",
        "  x = x + y\n",
        "  print('x =', x)\n",
        "  return x"
      ],
      "metadata": {
        "id": "NS-v6Qzxu26p"
      },
      "execution_count": null,
      "outputs": []
    },
    {
      "cell_type": "code",
      "metadata": {
        "id": "y2Ydh-HOxfR6",
        "colab": {
          "base_uri": "https://localhost:8080/"
        },
        "outputId": "0c95cdb7-2ff4-4f11-a17f-8fc60e1863e1"
      },
      "source": [
        "x, y = 3, 2\n",
        "z = f(x)\n",
        "print(f'x = {x}, y = {y}, z = {z}')"
      ],
      "execution_count": null,
      "outputs": [
        {
          "output_type": "stream",
          "name": "stdout",
          "text": [
            "x = 4\n",
            "x = 3, y = 2, z = 4\n"
          ]
        }
      ]
    },
    {
      "cell_type": "markdown",
      "metadata": {
        "id": "edY7FqjIikzm"
      },
      "source": [
        "### ドキュメンテーション\n",
        "* Pythonのコードのなかで、`\"\"\"`で囲まれた部分は、ドキュメンテーション文字列と呼ばれる\n",
        "  * 例えば関数の仕様を説明するために用いる。\n",
        "  * 組み込み関数`help`でドキュメンテーション文字列にアクセスできる。"
      ]
    },
    {
      "cell_type": "code",
      "metadata": {
        "id": "IhAT4dm2xhOZ"
      },
      "source": [
        "def f(x):\n",
        "  \"\"\"xの値を表示する\"\"\"\n",
        "  print(x)\n",
        "\n",
        "help(f)"
      ],
      "execution_count": null,
      "outputs": []
    },
    {
      "cell_type": "markdown",
      "metadata": {
        "id": "DGok5X8CirjU"
      },
      "source": [
        "### 再帰呼出し"
      ]
    },
    {
      "cell_type": "code",
      "metadata": {
        "id": "zevrEgm6xjcx"
      },
      "source": [
        "def fact(n):\n",
        "  if n == 1:\n",
        "    return n\n",
        "  else:\n",
        "    return n * fact(n - 1)"
      ],
      "execution_count": null,
      "outputs": []
    },
    {
      "cell_type": "code",
      "metadata": {
        "id": "C0bOQ8vLxlgZ"
      },
      "source": [
        "print(fact(8))"
      ],
      "execution_count": null,
      "outputs": []
    },
    {
      "cell_type": "code",
      "metadata": {
        "id": "yW5Jv_qaxm6p"
      },
      "source": [
        "def fib(n):\n",
        "  if n == 0 or n == 1:\n",
        "    return 1\n",
        "  else:\n",
        "    return fib(n - 1) + fib(n - 2)"
      ],
      "execution_count": null,
      "outputs": []
    },
    {
      "cell_type": "code",
      "metadata": {
        "id": "KkCel07OxocZ"
      },
      "source": [
        "for i in range(11):\n",
        "  print(fib(i), end=',')\n",
        "print()"
      ],
      "execution_count": null,
      "outputs": []
    },
    {
      "cell_type": "markdown",
      "metadata": {
        "id": "P6lOTgljiweU"
      },
      "source": [
        "## 補足: `print`関数の`end`仮引数"
      ]
    },
    {
      "cell_type": "code",
      "metadata": {
        "id": "z0bjRT2JxqAY"
      },
      "source": [
        "print('a', end='')\n",
        "print('b', end=' ')\n",
        "print('c', end='---')\n",
        "print('d')\n",
        "print('e')"
      ],
      "execution_count": null,
      "outputs": []
    },
    {
      "cell_type": "markdown",
      "metadata": {
        "id": "jmIEmh7fi16s"
      },
      "source": [
        "## ファイルの読み書き"
      ]
    },
    {
      "cell_type": "code",
      "metadata": {
        "id": "ZRvKC4Ztxrxh",
        "colab": {
          "base_uri": "https://localhost:8080/"
        },
        "outputId": "dbd4be11-b711-4fee-e696-d42945ceeaf8"
      },
      "source": [
        "f = open(\"text.txt\", \"w\") # w = write\n",
        "for i in range(5):\n",
        "  line = input('Enter string: ')\n",
        "  f.write(line + '\\n') # \\nは改行記号\n",
        "f.close()"
      ],
      "execution_count": null,
      "outputs": [
        {
          "name": "stdout",
          "output_type": "stream",
          "text": [
            "Enter string: aaaa\n",
            "Enter string: 2efasfgawrfw\n",
            "Enter string: fdadsf\n",
            "Enter string: thrsgv\n",
            "Enter string: yjysrd\n"
          ]
        }
      ]
    },
    {
      "cell_type": "code",
      "metadata": {
        "id": "W740VjRzxwkA",
        "colab": {
          "base_uri": "https://localhost:8080/"
        },
        "outputId": "56158171-384a-4e17-97e1-96dea23d7f40"
      },
      "source": [
        "f = open('text.txt', 'r') # r = read\n",
        "for sss in f:\n",
        "  print(sss.strip())\n",
        "f.close()"
      ],
      "execution_count": 76,
      "outputs": [
        {
          "output_type": "stream",
          "name": "stdout",
          "text": [
            "['Traditionally,', 'custody', 'is', 'granted', 'to', 'a', 'single', 'parent', 'who', 'is', 'then', 'able', 'to', 'completely', 'cut', 'off', 'the', 'other', \"parent's\", 'access', 'to', 'their', 'children.']\n",
            "[]\n",
            "['Until', 'Friday,', 'Japan', 'was', 'the', 'only', 'G7', 'country', 'that', 'did', 'not', 'recognise', 'the', 'legal', 'concept', 'of', 'joint', 'custody.']\n",
            "[]\n",
            "['Most', 'divorces', 'in', 'Japan', 'happen', 'through', '\"consent', 'divorce\"', '-', 'where', 'both', 'parties', 'sign', 'a', 'paper', 'and', 'mutually', 'end', 'a', 'marriage.']\n",
            "[]\n",
            "['In', 'this', 'scenario,', 'lawyers', 'say,', 'the', 'couple', 'is', 'free', 'to', 'decide', 'custody', 'and', 'visitation', 'arrangements.', 'But', 'if', 'the', 'two', 'parties', 'go', 'to', 'court,', 'the', 'judge', 'awards', 'custody', 'to', 'one', 'parent.']\n"
          ]
        }
      ]
    },
    {
      "cell_type": "code",
      "metadata": {
        "id": "USDr1CWJx0mH",
        "colab": {
          "base_uri": "https://localhost:8080/"
        },
        "outputId": "ed7193aa-e908-4a3c-ab36-57b1decee8ac"
      },
      "source": [
        "f = open('text.txt', 'r')\n",
        "for line in f:\n",
        "  line = line.strip()\n",
        "  print(line)\n",
        "f.close()"
      ],
      "execution_count": null,
      "outputs": [
        {
          "output_type": "stream",
          "name": "stdout",
          "text": [
            "aaaa\n",
            "2efasfgawrfw\n",
            "fdadsf\n",
            "thrsgv\n",
            "yjysrd\n"
          ]
        }
      ]
    },
    {
      "cell_type": "code",
      "source": [
        "\"   ssaasa   \".strip()"
      ],
      "metadata": {
        "colab": {
          "base_uri": "https://localhost:8080/",
          "height": 36
        },
        "id": "-zTRUhHl1hg9",
        "outputId": "26905765-0f39-419b-f224-8fd5c3534a05"
      },
      "execution_count": null,
      "outputs": [
        {
          "output_type": "execute_result",
          "data": {
            "text/plain": [
              "'ssaasa'"
            ],
            "application/vnd.google.colaboratory.intrinsic+json": {
              "type": "string"
            }
          },
          "metadata": {},
          "execution_count": 36
        }
      ]
    },
    {
      "cell_type": "markdown",
      "metadata": {
        "id": "F2Etjjhvi8UD"
      },
      "source": [
        "## Pythonの4つの構造型"
      ]
    },
    {
      "cell_type": "markdown",
      "metadata": {
        "id": "bL4yYdJTi9ej"
      },
      "source": [
        "* タプル\n",
        "  * 文字列の一般化。不変な要素の列。\n",
        "* range\n",
        "  * タプルと同じく不変な要素の列。ただし整数の列。\n",
        "* リスト\n",
        "  * 可変なタプル\n",
        "* 辞書\n",
        "  * 連想配列（添え字が数字でない配列）"
      ]
    },
    {
      "cell_type": "markdown",
      "metadata": {
        "id": "S1dpd3KIjE3k"
      },
      "source": [
        "### タプル(tuple)"
      ]
    },
    {
      "cell_type": "code",
      "metadata": {
        "id": "c-hX3kGax4uA",
        "colab": {
          "base_uri": "https://localhost:8080/"
        },
        "outputId": "ac0b721f-23f3-4306-9cff-bc4c28cc921c"
      },
      "source": [
        "t1 = ()\n",
        "t2 = ('one', 2, 'three', 4)\n",
        "print(t1)\n",
        "print(t2)"
      ],
      "execution_count": null,
      "outputs": [
        {
          "output_type": "stream",
          "name": "stdout",
          "text": [
            "()\n",
            "('one', 2, 'three', 4)\n"
          ]
        }
      ]
    },
    {
      "cell_type": "code",
      "source": [
        "t2[0] = \"two\""
      ],
      "metadata": {
        "colab": {
          "base_uri": "https://localhost:8080/",
          "height": 153
        },
        "id": "IhB0ykab2qGm",
        "outputId": "63481435-8489-42d6-f691-bdc58c52f9da"
      },
      "execution_count": null,
      "outputs": [
        {
          "output_type": "error",
          "ename": "TypeError",
          "evalue": "'tuple' object does not support item assignment",
          "traceback": [
            "\u001b[0;31m---------------------------------------------------------------------------\u001b[0m",
            "\u001b[0;31mTypeError\u001b[0m                                 Traceback (most recent call last)",
            "\u001b[0;32m<ipython-input-40-ef7d91e3f6d3>\u001b[0m in \u001b[0;36m<cell line: 1>\u001b[0;34m()\u001b[0m\n\u001b[0;32m----> 1\u001b[0;31m \u001b[0mt2\u001b[0m\u001b[0;34m[\u001b[0m\u001b[0;36m0\u001b[0m\u001b[0;34m]\u001b[0m \u001b[0;34m=\u001b[0m \u001b[0;34m\"two\"\u001b[0m\u001b[0;34m\u001b[0m\u001b[0;34m\u001b[0m\u001b[0m\n\u001b[0m",
            "\u001b[0;31mTypeError\u001b[0m: 'tuple' object does not support item assignment"
          ]
        }
      ]
    },
    {
      "cell_type": "code",
      "metadata": {
        "id": "0_74orbnx6oX",
        "colab": {
          "base_uri": "https://localhost:8080/"
        },
        "outputId": "059c8749-a208-4f65-eff5-98fd7cf9a97d"
      },
      "source": [
        "t3 = (123,)\n",
        "print(t3)"
      ],
      "execution_count": 13,
      "outputs": [
        {
          "output_type": "stream",
          "name": "stdout",
          "text": [
            "(123,)\n"
          ]
        }
      ]
    },
    {
      "cell_type": "code",
      "source": [
        "t4 = (\"123\",)\n",
        "print(t4)"
      ],
      "metadata": {
        "colab": {
          "base_uri": "https://localhost:8080/"
        },
        "id": "_8DQrx0h23Ii",
        "outputId": "bec124d5-523e-4201-ff40-5f1dffa0ee0a"
      },
      "execution_count": null,
      "outputs": [
        {
          "output_type": "stream",
          "name": "stdout",
          "text": [
            "('123',)\n"
          ]
        }
      ]
    },
    {
      "cell_type": "code",
      "metadata": {
        "id": "3-9XSOyTx7_X",
        "colab": {
          "base_uri": "https://localhost:8080/"
        },
        "outputId": "2c9c82b7-6769-43e8-c30c-9bdb050ca690"
      },
      "source": [
        "t = ()\n",
        "print(t)"
      ],
      "execution_count": null,
      "outputs": [
        {
          "output_type": "stream",
          "name": "stdout",
          "text": [
            "()\n"
          ]
        }
      ]
    },
    {
      "cell_type": "code",
      "source": [
        "t = tuple()\n",
        "print(t)"
      ],
      "metadata": {
        "colab": {
          "base_uri": "https://localhost:8080/"
        },
        "id": "i3SdmFMDr39s",
        "outputId": "733b66ba-f301-4920-a0af-b9e8bc8e0e55"
      },
      "execution_count": 15,
      "outputs": [
        {
          "output_type": "stream",
          "name": "stdout",
          "text": [
            "()\n"
          ]
        }
      ]
    },
    {
      "cell_type": "code",
      "metadata": {
        "id": "ExiSxRlpx-Cn",
        "colab": {
          "base_uri": "https://localhost:8080/"
        },
        "outputId": "1aadac24-1e15-4957-d20c-a253c365cdde"
      },
      "source": [
        "t1 = ('one', 2, 'three', 4)\n",
        "t2 = (0, t1, 'five')\n",
        "print(t2)\n",
        "print(t1 + t2)\n",
        "print((t1 + t2)[2])\n",
        "print((t1 + t2)[1:4])"
      ],
      "execution_count": null,
      "outputs": [
        {
          "output_type": "stream",
          "name": "stdout",
          "text": [
            "(0, ('one', 2, 'three', 4), 'five')\n",
            "('one', 2, 'three', 4, 0, ('one', 2, 'three', 4), 'five')\n",
            "three\n",
            "(2, 'three', 4)\n"
          ]
        }
      ]
    },
    {
      "cell_type": "code",
      "source": [
        "t1 = (2, 4, 6, 8, 10, 12, 14, 16, 18)\n",
        "for e in t1:\n",
        "  print(e)"
      ],
      "metadata": {
        "colab": {
          "base_uri": "https://localhost:8080/"
        },
        "id": "4gnV7JwS4XEw",
        "outputId": "20be2968-b8ce-4ea5-ccd6-bbb85eecf603"
      },
      "execution_count": null,
      "outputs": [
        {
          "output_type": "stream",
          "name": "stdout",
          "text": [
            "2\n",
            "4\n",
            "6\n",
            "8\n",
            "10\n",
            "12\n",
            "14\n",
            "16\n",
            "18\n"
          ]
        }
      ]
    },
    {
      "cell_type": "code",
      "metadata": {
        "id": "pWw7sE99x_uv",
        "colab": {
          "base_uri": "https://localhost:8080/"
        },
        "outputId": "13d33024-7fe0-4a34-f529-6118c541045d"
      },
      "source": [
        "t1 = (2, 4, 6, 8, 10, 12, 14, 16, 18)\n",
        "t2 = (3, 6, 9, 12, 15, 18)\n",
        "for e in t1:\n",
        "    if e in t2:\n",
        "        print(e)"
      ],
      "execution_count": null,
      "outputs": [
        {
          "output_type": "stream",
          "name": "stdout",
          "text": [
            "6\n",
            "12\n",
            "18\n"
          ]
        }
      ]
    },
    {
      "cell_type": "code",
      "source": [
        "for i in range(6):\n",
        "  a = int(input(\"値を入力してください:\"))\n",
        "  if i == 0:\n",
        "    m = a\n",
        "  elif a > m:\n",
        "    m = a\n",
        "print(m)"
      ],
      "metadata": {
        "colab": {
          "base_uri": "https://localhost:8080/"
        },
        "id": "XTXyBrdApLcg",
        "outputId": "823aa5a7-4b94-4e35-e17d-c19ab571d675"
      },
      "execution_count": 4,
      "outputs": [
        {
          "output_type": "stream",
          "name": "stdout",
          "text": [
            "値を入力してください:21\n",
            "値を入力してください:1232\n",
            "値を入力してください:84\n",
            "値を入力してください:3\n",
            "値を入力してください:99\n",
            "値を入力してください:3\n",
            "1232\n"
          ]
        }
      ]
    },
    {
      "cell_type": "markdown",
      "metadata": {
        "id": "_HWo0Pr1jIMQ"
      },
      "source": [
        "### 範囲(range)"
      ]
    },
    {
      "cell_type": "code",
      "source": [
        "for i in range(21, 100, 7):\n",
        "  print(i)"
      ],
      "metadata": {
        "colab": {
          "base_uri": "https://localhost:8080/"
        },
        "id": "JsylOSGCrCCG",
        "outputId": "8e352d67-3ebe-4836-f2f1-aeb46983a1a1"
      },
      "execution_count": 5,
      "outputs": [
        {
          "output_type": "stream",
          "name": "stdout",
          "text": [
            "21\n",
            "28\n",
            "35\n",
            "42\n",
            "49\n",
            "56\n",
            "63\n",
            "70\n",
            "77\n",
            "84\n",
            "91\n",
            "98\n"
          ]
        }
      ]
    },
    {
      "cell_type": "code",
      "metadata": {
        "id": "JDvpZMKOyBau",
        "colab": {
          "base_uri": "https://localhost:8080/"
        },
        "outputId": "4042eafe-e7bd-4733-8cc8-1adc82cd063a"
      },
      "source": [
        "for i in range(99, 21, -7):\n",
        "  print(i)"
      ],
      "execution_count": 8,
      "outputs": [
        {
          "output_type": "stream",
          "name": "stdout",
          "text": [
            "99\n",
            "92\n",
            "85\n",
            "78\n",
            "71\n",
            "64\n",
            "57\n",
            "50\n",
            "43\n",
            "36\n",
            "29\n",
            "22\n"
          ]
        }
      ]
    },
    {
      "cell_type": "markdown",
      "metadata": {
        "id": "B_4pwwM_jK2O"
      },
      "source": [
        "### リスト(list)"
      ]
    },
    {
      "cell_type": "code",
      "metadata": {
        "id": "Z9sTk_9zyC9W",
        "colab": {
          "base_uri": "https://localhost:8080/"
        },
        "outputId": "3b8ad05f-b0d4-4942-fefd-69d802a20491"
      },
      "source": [
        "l1 = []\n",
        "l2 = ['one', 2, 'three', 4]\n",
        "print(l1)\n",
        "print(l2)"
      ],
      "execution_count": 9,
      "outputs": [
        {
          "output_type": "stream",
          "name": "stdout",
          "text": [
            "[]\n",
            "['one', 2, 'three', 4]\n"
          ]
        }
      ]
    },
    {
      "cell_type": "code",
      "metadata": {
        "id": "37ylEo32yGR-",
        "colab": {
          "base_uri": "https://localhost:8080/"
        },
        "outputId": "6514df7c-a614-40bc-ad37-1d3ebea2e521"
      },
      "source": [
        "l3 = [123]\n",
        "print(l3)"
      ],
      "execution_count": 10,
      "outputs": [
        {
          "output_type": "stream",
          "name": "stdout",
          "text": [
            "[123]\n"
          ]
        }
      ]
    },
    {
      "cell_type": "code",
      "metadata": {
        "id": "OJoiRfkDyHqm",
        "colab": {
          "base_uri": "https://localhost:8080/"
        },
        "outputId": "07ccfe59-47c9-4323-98d3-931c6b2dcdb1"
      },
      "source": [
        "l = list()\n",
        "print(l)"
      ],
      "execution_count": 14,
      "outputs": [
        {
          "output_type": "stream",
          "name": "stdout",
          "text": [
            "[]\n"
          ]
        }
      ]
    },
    {
      "cell_type": "code",
      "metadata": {
        "id": "tDicZI6lyJk9",
        "colab": {
          "base_uri": "https://localhost:8080/"
        },
        "outputId": "2ef7d717-aa8e-4fa6-f2f2-7ce072b68d05"
      },
      "source": [
        "l1 = [2, 4, 6, 8, 10, 12, 14, 16, 18]\n",
        "l2 = [3, 6, 9, 12, 15, 18]\n",
        "for e in l1:\n",
        "  if e in l2:\n",
        "    print(e)"
      ],
      "execution_count": 16,
      "outputs": [
        {
          "output_type": "stream",
          "name": "stdout",
          "text": [
            "6\n",
            "12\n",
            "18\n"
          ]
        }
      ]
    },
    {
      "cell_type": "markdown",
      "metadata": {
        "id": "SU4HkJ4ljkRJ"
      },
      "source": [
        "* 組み込み関数`id`を使うとオブジェクトの固有識別子が得られる\n"
      ]
    },
    {
      "cell_type": "code",
      "metadata": {
        "id": "KBPRTwp1yLLm"
      },
      "source": [
        "v = ['onion', 'carrot']\n",
        "f = ['apple', 'orange', 'banana']\n",
        "l1 = [v, f]\n",
        "l2 = [['onion', 'carrot'], ['apple', 'orange', 'banana']]\n",
        "print(l1 == l2)\n",
        "print(id(l1) == id(l2))"
      ],
      "execution_count": null,
      "outputs": []
    },
    {
      "cell_type": "markdown",
      "metadata": {
        "id": "6gqluWymjoOS"
      },
      "source": [
        "### リストのメソッド"
      ]
    },
    {
      "cell_type": "code",
      "source": [
        "l1 = [1,2,3]\n",
        "l2 = [4,5,6]\n",
        "l2.append(7)\n",
        "print(l2)"
      ],
      "metadata": {
        "colab": {
          "base_uri": "https://localhost:8080/"
        },
        "id": "97CRGK8IskqD",
        "outputId": "790deda4-de6c-49e4-a1ee-2b4a761f6713"
      },
      "execution_count": 17,
      "outputs": [
        {
          "output_type": "stream",
          "name": "stdout",
          "text": [
            "[4, 5, 6, 7]\n"
          ]
        }
      ]
    },
    {
      "cell_type": "code",
      "source": [
        "l1.extend(l2)\n",
        "print(l1)"
      ],
      "metadata": {
        "colab": {
          "base_uri": "https://localhost:8080/"
        },
        "id": "VL6ggpizsoyh",
        "outputId": "b4b055c7-c649-4a93-9fe4-99216dfb54c0"
      },
      "execution_count": 18,
      "outputs": [
        {
          "output_type": "stream",
          "name": "stdout",
          "text": [
            "[1, 2, 3, 4, 5, 6, 7]\n"
          ]
        }
      ]
    },
    {
      "cell_type": "code",
      "metadata": {
        "id": "I8xZGN1myMeW",
        "colab": {
          "base_uri": "https://localhost:8080/"
        },
        "outputId": "696ac310-e9ca-4cfa-9f95-2cc9d36184cb"
      },
      "source": [
        "l1.append(l2)\n",
        "print(l1)"
      ],
      "execution_count": 19,
      "outputs": [
        {
          "output_type": "stream",
          "name": "stdout",
          "text": [
            "[1, 2, 3, 4, 5, 6, 7, [4, 5, 6, 7]]\n"
          ]
        }
      ]
    },
    {
      "cell_type": "code",
      "metadata": {
        "id": "coCMpQeEyN7m",
        "colab": {
          "base_uri": "https://localhost:8080/",
          "height": 250
        },
        "outputId": "0fc98c6c-0b04-41d6-fecb-feba660a895f"
      },
      "source": [
        "l = [1,2,3,2,1,2,3,4,3,2,3,4,5]\n",
        "print(l.count(1))\n",
        "print(l.count(3))\n",
        "print(l.index(4)) # Pythonのインデックス（添え字）は0から始まる\n",
        "print(l.index(10))"
      ],
      "execution_count": 20,
      "outputs": [
        {
          "output_type": "stream",
          "name": "stdout",
          "text": [
            "2\n",
            "4\n",
            "7\n"
          ]
        },
        {
          "output_type": "error",
          "ename": "ValueError",
          "evalue": "10 is not in list",
          "traceback": [
            "\u001b[0;31m---------------------------------------------------------------------------\u001b[0m",
            "\u001b[0;31mValueError\u001b[0m                                Traceback (most recent call last)",
            "\u001b[0;32m<ipython-input-20-b3b778d42533>\u001b[0m in \u001b[0;36m<cell line: 5>\u001b[0;34m()\u001b[0m\n\u001b[1;32m      3\u001b[0m \u001b[0mprint\u001b[0m\u001b[0;34m(\u001b[0m\u001b[0ml\u001b[0m\u001b[0;34m.\u001b[0m\u001b[0mcount\u001b[0m\u001b[0;34m(\u001b[0m\u001b[0;36m3\u001b[0m\u001b[0;34m)\u001b[0m\u001b[0;34m)\u001b[0m\u001b[0;34m\u001b[0m\u001b[0;34m\u001b[0m\u001b[0m\n\u001b[1;32m      4\u001b[0m \u001b[0mprint\u001b[0m\u001b[0;34m(\u001b[0m\u001b[0ml\u001b[0m\u001b[0;34m.\u001b[0m\u001b[0mindex\u001b[0m\u001b[0;34m(\u001b[0m\u001b[0;36m4\u001b[0m\u001b[0;34m)\u001b[0m\u001b[0;34m)\u001b[0m\u001b[0;34m\u001b[0m\u001b[0;34m\u001b[0m\u001b[0m\n\u001b[0;32m----> 5\u001b[0;31m \u001b[0mprint\u001b[0m\u001b[0;34m(\u001b[0m\u001b[0ml\u001b[0m\u001b[0;34m.\u001b[0m\u001b[0mindex\u001b[0m\u001b[0;34m(\u001b[0m\u001b[0;36m10\u001b[0m\u001b[0;34m)\u001b[0m\u001b[0;34m)\u001b[0m\u001b[0;34m\u001b[0m\u001b[0;34m\u001b[0m\u001b[0m\n\u001b[0m",
            "\u001b[0;31mValueError\u001b[0m: 10 is not in list"
          ]
        }
      ]
    },
    {
      "cell_type": "code",
      "source": [
        "l = [1,2,3,2,1,2,3,4,3,2,3,4,5]\n",
        "l.sort() # 昇順に並べ替え\n",
        "print(l)"
      ],
      "metadata": {
        "colab": {
          "base_uri": "https://localhost:8080/"
        },
        "id": "h1atENlRtqZg",
        "outputId": "1db04868-78b0-4a20-ebea-d033ae8754aa"
      },
      "execution_count": 21,
      "outputs": [
        {
          "output_type": "stream",
          "name": "stdout",
          "text": [
            "[1, 1, 2, 2, 2, 2, 3, 3, 3, 3, 4, 4, 5]\n"
          ]
        }
      ]
    },
    {
      "cell_type": "code",
      "metadata": {
        "id": "xuhaPN3OyPrm",
        "colab": {
          "base_uri": "https://localhost:8080/"
        },
        "outputId": "d5cb7265-996e-4b9f-fb59-f4a60521903f"
      },
      "source": [
        "l.reverse()\n",
        "print(l)"
      ],
      "execution_count": 22,
      "outputs": [
        {
          "output_type": "stream",
          "name": "stdout",
          "text": [
            "[5, 4, 4, 3, 3, 3, 3, 2, 2, 2, 2, 1, 1]\n"
          ]
        }
      ]
    },
    {
      "cell_type": "code",
      "metadata": {
        "id": "Em66HPnjyV6F"
      },
      "source": [
        "l = [3, 6, 9, 12, 15, 18]\n",
        "l.insert(3, 10)\n",
        "print(l)\n",
        "l.remove(10)\n",
        "print(l)\n",
        "l.pop(4)\n",
        "print(l)"
      ],
      "execution_count": null,
      "outputs": []
    },
    {
      "cell_type": "markdown",
      "metadata": {
        "id": "SKTjVQqTjtIX"
      },
      "source": [
        "### リスト内包(list comprehension)\n",
        "* 順序型のそれぞれの値に対し、特定の処理をおこない、その結果を要素として含むリストを作り出す方法\n"
      ]
    },
    {
      "cell_type": "code",
      "source": [
        "l = []\n",
        "for x in range(5):\n",
        "  l.append(x**3)\n",
        "print(l)"
      ],
      "metadata": {
        "colab": {
          "base_uri": "https://localhost:8080/"
        },
        "id": "ZIDaEUfkueY5",
        "outputId": "94804adb-9cb8-4aee-a7b8-8f91ae531fdb"
      },
      "execution_count": 24,
      "outputs": [
        {
          "output_type": "stream",
          "name": "stdout",
          "text": [
            "[0, 1, 8, 27, 64]\n"
          ]
        }
      ]
    },
    {
      "cell_type": "code",
      "source": [
        "l = [x**3 for x in range(5)]\n",
        "print(l)"
      ],
      "metadata": {
        "colab": {
          "base_uri": "https://localhost:8080/"
        },
        "id": "QyyGHr_7uBDk",
        "outputId": "27ddb980-22da-4da5-816e-b22181de127e"
      },
      "execution_count": 23,
      "outputs": [
        {
          "output_type": "stream",
          "name": "stdout",
          "text": [
            "[0, 1, 8, 27, 64]\n"
          ]
        }
      ]
    },
    {
      "cell_type": "code",
      "source": [
        "l = [x for x in range(-10, 10) if x % 2 == 0]\n",
        "print(l)"
      ],
      "metadata": {
        "colab": {
          "base_uri": "https://localhost:8080/"
        },
        "id": "rJnBnzFguz7L",
        "outputId": "62e584d4-85dd-4e89-8af7-9f7fa19fccb2"
      },
      "execution_count": 25,
      "outputs": [
        {
          "output_type": "stream",
          "name": "stdout",
          "text": [
            "[-10, -8, -6, -4, -2, 0, 2, 4, 6, 8]\n"
          ]
        }
      ]
    },
    {
      "cell_type": "code",
      "metadata": {
        "id": "QgpN02aD0Sp0"
      },
      "source": [
        "words1 = ['apple', 'ball', 'banana', 'orange']\n",
        "words2 = [x for x in words1 if x.count('a') == 1]\n",
        "print(words2)\n",
        "words3 = [x for x in words1 for c in x if c == 'a']\n",
        "print(words3) #出力がなぜそうなるか説明してみよう"
      ],
      "execution_count": null,
      "outputs": []
    },
    {
      "cell_type": "markdown",
      "source": [
        "* 辞書型"
      ],
      "metadata": {
        "id": "MwUOfg2wvVPs"
      }
    },
    {
      "cell_type": "code",
      "source": [
        "numbers = {'one':1, 'two':2, 'four':3, 'seven':7}\n",
        "print(numbers)"
      ],
      "metadata": {
        "colab": {
          "base_uri": "https://localhost:8080/"
        },
        "id": "12Q4ZNWQvYYr",
        "outputId": "2f73224d-8acd-46b9-d67c-e612db1931bb"
      },
      "execution_count": 26,
      "outputs": [
        {
          "output_type": "stream",
          "name": "stdout",
          "text": [
            "{'one': 1, 'two': 2, 'four': 3, 'seven': 7}\n"
          ]
        }
      ]
    },
    {
      "cell_type": "code",
      "source": [
        "print(numbers['four'])"
      ],
      "metadata": {
        "colab": {
          "base_uri": "https://localhost:8080/"
        },
        "id": "xVmKzmw5vi32",
        "outputId": "e325ba1d-9991-4ee9-fd51-867d1517be55"
      },
      "execution_count": 27,
      "outputs": [
        {
          "output_type": "stream",
          "name": "stdout",
          "text": [
            "3\n"
          ]
        }
      ]
    },
    {
      "cell_type": "code",
      "source": [
        "numbers[\"four\"] = 4\n",
        "print(numbers)"
      ],
      "metadata": {
        "colab": {
          "base_uri": "https://localhost:8080/"
        },
        "id": "BSaVL8PVvpHF",
        "outputId": "e4748a14-8845-48ad-c9c3-adf944187de0"
      },
      "execution_count": 29,
      "outputs": [
        {
          "output_type": "stream",
          "name": "stdout",
          "text": [
            "{'one': 1, 'two': 2, 'four': 4, 'seven': 7}\n"
          ]
        }
      ]
    },
    {
      "cell_type": "code",
      "source": [
        "numbers['seven'] = 70 #値を上書き\n",
        "print(numbers)"
      ],
      "metadata": {
        "colab": {
          "base_uri": "https://localhost:8080/"
        },
        "id": "viteg3MSvoyq",
        "outputId": "ecf2b733-6234-47ee-cf9a-773bc80a2357"
      },
      "execution_count": 31,
      "outputs": [
        {
          "output_type": "stream",
          "name": "stdout",
          "text": [
            "{'one': 1, 'two': 2, 'four': 4, 'seven': 70}\n"
          ]
        }
      ]
    },
    {
      "cell_type": "code",
      "source": [
        "numbers['six'] = 6 #新たに追加\n",
        "print(numbers)"
      ],
      "metadata": {
        "colab": {
          "base_uri": "https://localhost:8080/"
        },
        "id": "iZSh1m3zwAno",
        "outputId": "23cb0756-4294-4adb-a9cc-9716a1e28289"
      },
      "execution_count": 32,
      "outputs": [
        {
          "output_type": "stream",
          "name": "stdout",
          "text": [
            "{'one': 1, 'two': 2, 'four': 4, 'seven': 70, 'six': 6}\n"
          ]
        }
      ]
    },
    {
      "cell_type": "code",
      "metadata": {
        "id": "XIzHrPTg0UdL",
        "colab": {
          "base_uri": "https://localhost:8080/"
        },
        "outputId": "4d922b6b-9bb5-470b-bb26-6f7b365bef87"
      },
      "source": [
        "print('nine' in numbers) #キーがあるかどうか調べる"
      ],
      "execution_count": 34,
      "outputs": [
        {
          "output_type": "stream",
          "name": "stdout",
          "text": [
            "False\n"
          ]
        }
      ]
    },
    {
      "cell_type": "code",
      "source": [
        "len(numbers) # lengthの略"
      ],
      "metadata": {
        "colab": {
          "base_uri": "https://localhost:8080/"
        },
        "id": "S5lycIcpwMh9",
        "outputId": "127bd8f2-ed75-4a2d-dad7-eb22d360b164"
      },
      "execution_count": 35,
      "outputs": [
        {
          "output_type": "execute_result",
          "data": {
            "text/plain": [
              "5"
            ]
          },
          "metadata": {},
          "execution_count": 35
        }
      ]
    },
    {
      "cell_type": "code",
      "source": [
        "l"
      ],
      "metadata": {
        "colab": {
          "base_uri": "https://localhost:8080/"
        },
        "id": "KTdqVmCfwe0C",
        "outputId": "10a1dd4b-ded0-45e0-8b73-cf162fd2c188"
      },
      "execution_count": 37,
      "outputs": [
        {
          "output_type": "execute_result",
          "data": {
            "text/plain": [
              "[-10, -8, -6, -4, -2, 0, 2, 4, 6, 8]"
            ]
          },
          "metadata": {},
          "execution_count": 37
        }
      ]
    },
    {
      "cell_type": "code",
      "source": [
        "ll = l * 3\n",
        "print(ll)"
      ],
      "metadata": {
        "colab": {
          "base_uri": "https://localhost:8080/"
        },
        "id": "HSnL8YiCwYPJ",
        "outputId": "6c4c698a-1159-403d-e840-394fe017bbf4"
      },
      "execution_count": 40,
      "outputs": [
        {
          "output_type": "stream",
          "name": "stdout",
          "text": [
            "[-10, -8, -6, -4, -2, 0, 2, 4, 6, 8, -10, -8, -6, -4, -2, 0, 2, 4, 6, 8, -10, -8, -6, -4, -2, 0, 2, 4, 6, 8]\n"
          ]
        }
      ]
    },
    {
      "cell_type": "code",
      "source": [
        "ll[5:9]"
      ],
      "metadata": {
        "colab": {
          "base_uri": "https://localhost:8080/"
        },
        "id": "tkd_zvE2wus2",
        "outputId": "fde0ad48-2fd7-4f1b-c631-2032e5f62eea"
      },
      "execution_count": 41,
      "outputs": [
        {
          "output_type": "execute_result",
          "data": {
            "text/plain": [
              "[0, 2, 4, 6]"
            ]
          },
          "metadata": {},
          "execution_count": 41
        }
      ]
    },
    {
      "cell_type": "markdown",
      "metadata": {
        "id": "6-LfUYbaj4qa"
      },
      "source": [
        "## 順序型に対する操作のまとめ\n",
        "* `seq[i]`は順序型のi番目の要素（ただし、最初の要素は0番目）\n",
        "* `len(seq)`は順序型の長さ\n",
        "* `seq1 + seq2`は二つの順序型を連結する（範囲型では使用不可）\n",
        "* `n * seq`は`seq`を`n`回繰り返した順序型（範囲型では使用不可）\n",
        "* `seq[start:end]`は順序型のスライス\n",
        "* `e in seq`は`e`が順序型の要素である場合`True`、それ以外`False`\n",
        "* `e not in seq`は`e`が順序型の要素でない場合`True`、それ以外`False`\n",
        "* `for e in seq`は順序型の要素を反復して取り出す\n"
      ]
    },
    {
      "cell_type": "markdown",
      "metadata": {
        "id": "JUtPMEJJkPSc"
      },
      "source": [
        "## 辞書"
      ]
    },
    {
      "cell_type": "code",
      "metadata": {
        "id": "A4QfcvZq0WMb",
        "colab": {
          "base_uri": "https://localhost:8080/"
        },
        "outputId": "e2ff8896-0e99-45de-a1f1-b491d8c321a5"
      },
      "source": [
        "d = dict()\n",
        "print(d)"
      ],
      "execution_count": 68,
      "outputs": [
        {
          "output_type": "stream",
          "name": "stdout",
          "text": [
            "{}\n"
          ]
        }
      ]
    },
    {
      "cell_type": "code",
      "source": [
        "d[\"xxx\"] = \"yyy\"\n",
        "print(d)"
      ],
      "metadata": {
        "colab": {
          "base_uri": "https://localhost:8080/"
        },
        "id": "M1ZhETVrxGGG",
        "outputId": "f56fe2ca-9fe2-4cc1-a1e1-5128adb156d5"
      },
      "execution_count": 69,
      "outputs": [
        {
          "output_type": "stream",
          "name": "stdout",
          "text": [
            "{'xxx': 'yyy'}\n"
          ]
        }
      ]
    },
    {
      "cell_type": "code",
      "metadata": {
        "id": "FlRwronn0Yeb",
        "colab": {
          "base_uri": "https://localhost:8080/"
        },
        "outputId": "5e9638ae-5b1f-46f5-b9a8-50a9938e567e"
      },
      "source": [
        "numbers = {'three':3 , 'one':1 , 'nine':9, 'four':4}\n",
        "for k in numbers:\n",
        "  print(k, numbers[k])"
      ],
      "execution_count": 44,
      "outputs": [
        {
          "output_type": "stream",
          "name": "stdout",
          "text": [
            "three 3\n",
            "one 1\n",
            "nine 9\n",
            "four 4\n"
          ]
        }
      ]
    },
    {
      "cell_type": "markdown",
      "metadata": {
        "id": "t7Hq09pkkSh4"
      },
      "source": [
        "### 辞書の`items`メソッド"
      ]
    },
    {
      "cell_type": "code",
      "metadata": {
        "id": "WQ0D05aH0Z2b",
        "colab": {
          "base_uri": "https://localhost:8080/"
        },
        "outputId": "959c6762-8d1c-4218-adcc-ef7c45d883c8"
      },
      "source": [
        "numbers = {'three':3 , 'one':1 , 'nine':9, 'four':4}\n",
        "for item in numbers.items():\n",
        "  print(item)"
      ],
      "execution_count": 45,
      "outputs": [
        {
          "output_type": "stream",
          "name": "stdout",
          "text": [
            "('three', 3)\n",
            "('one', 1)\n",
            "('nine', 9)\n",
            "('four', 4)\n"
          ]
        }
      ]
    },
    {
      "cell_type": "markdown",
      "metadata": {
        "id": "qLM1toH4kgbq"
      },
      "source": [
        "### 組み込み関数`sorted`"
      ]
    },
    {
      "cell_type": "code",
      "source": [
        "t = (4, -2, 3, 10, -8, 1)\n",
        "print(sorted(t))"
      ],
      "metadata": {
        "colab": {
          "base_uri": "https://localhost:8080/"
        },
        "id": "_gHiw-mQyTLc",
        "outputId": "26084be2-c775-4032-d906-744d084fed45"
      },
      "execution_count": 46,
      "outputs": [
        {
          "output_type": "stream",
          "name": "stdout",
          "text": [
            "[-8, -2, 1, 3, 4, 10]\n"
          ]
        }
      ]
    },
    {
      "cell_type": "code",
      "source": [
        "print(type(sorted(t)))"
      ],
      "metadata": {
        "colab": {
          "base_uri": "https://localhost:8080/"
        },
        "id": "B9ZUMr0GyeFA",
        "outputId": "4e6f9c6a-ccc8-4e72-ae72-63a0c9403f44"
      },
      "execution_count": 47,
      "outputs": [
        {
          "output_type": "stream",
          "name": "stdout",
          "text": [
            "<class 'list'>\n"
          ]
        }
      ]
    },
    {
      "cell_type": "code",
      "source": [
        "print(t)"
      ],
      "metadata": {
        "colab": {
          "base_uri": "https://localhost:8080/"
        },
        "id": "Od9zWS6xyjCK",
        "outputId": "ad894e4a-923b-4d13-f51b-984f69d2199c"
      },
      "execution_count": 48,
      "outputs": [
        {
          "output_type": "stream",
          "name": "stdout",
          "text": [
            "(4, -2, 3, 10, -8, 1)\n"
          ]
        }
      ]
    },
    {
      "cell_type": "code",
      "source": [
        "t2 = tuple(sorted(t))"
      ],
      "metadata": {
        "id": "tPqkhMgwyrBn"
      },
      "execution_count": 50,
      "outputs": []
    },
    {
      "cell_type": "code",
      "source": [
        "t2"
      ],
      "metadata": {
        "colab": {
          "base_uri": "https://localhost:8080/"
        },
        "id": "WXOaTjrsy8un",
        "outputId": "7d86ded9-89fa-4ac8-9eae-c681ef3d3742"
      },
      "execution_count": 51,
      "outputs": [
        {
          "output_type": "execute_result",
          "data": {
            "text/plain": [
              "(-8, -2, 1, 3, 4, 10)"
            ]
          },
          "metadata": {},
          "execution_count": 51
        }
      ]
    },
    {
      "cell_type": "code",
      "metadata": {
        "id": "DPXyEVIw0fdq",
        "colab": {
          "base_uri": "https://localhost:8080/"
        },
        "outputId": "19d5faea-215b-42b6-9069-ca02d89805e8"
      },
      "source": [
        "l = [1, -2, 8, 3, 23, 14]\n",
        "print(sorted(l))\n",
        "print(type(sorted(l)))\n",
        "print(l)"
      ],
      "execution_count": 52,
      "outputs": [
        {
          "output_type": "stream",
          "name": "stdout",
          "text": [
            "[-2, 1, 3, 8, 14, 23]\n",
            "<class 'list'>\n",
            "[1, -2, 8, 3, 23, 14]\n"
          ]
        }
      ]
    },
    {
      "cell_type": "code",
      "source": [
        "l.sort()\n",
        "print(l)"
      ],
      "metadata": {
        "colab": {
          "base_uri": "https://localhost:8080/"
        },
        "id": "PaHJrbjozJDD",
        "outputId": "b02549f1-e844-48ba-aaa4-dfc5a60b4aa0"
      },
      "execution_count": 53,
      "outputs": [
        {
          "output_type": "stream",
          "name": "stdout",
          "text": [
            "[-2, 1, 3, 8, 14, 23]\n"
          ]
        }
      ]
    },
    {
      "cell_type": "markdown",
      "metadata": {
        "id": "nw2hjVE4kfPW"
      },
      "source": [
        "### 辞書の要素をキーでソートする"
      ]
    },
    {
      "cell_type": "code",
      "source": [
        "numbers = {'three':3 , 'one':1 , 'nine':9, 'four':4}"
      ],
      "metadata": {
        "id": "94nDgWtAzWpz"
      },
      "execution_count": 54,
      "outputs": []
    },
    {
      "cell_type": "code",
      "source": [
        "sorted(numbers)"
      ],
      "metadata": {
        "colab": {
          "base_uri": "https://localhost:8080/"
        },
        "id": "oWqCQ7ZrzXbj",
        "outputId": "c2531581-828f-4461-a11a-f0a8d96849d1"
      },
      "execution_count": 55,
      "outputs": [
        {
          "output_type": "execute_result",
          "data": {
            "text/plain": [
              "['four', 'nine', 'one', 'three']"
            ]
          },
          "metadata": {},
          "execution_count": 55
        }
      ]
    },
    {
      "cell_type": "code",
      "source": [
        "sorted(numbers.items())"
      ],
      "metadata": {
        "colab": {
          "base_uri": "https://localhost:8080/"
        },
        "id": "KICcC6hmzhoT",
        "outputId": "34b18753-f4da-414d-99cd-78296552c0c0"
      },
      "execution_count": 56,
      "outputs": [
        {
          "output_type": "execute_result",
          "data": {
            "text/plain": [
              "[('four', 4), ('nine', 9), ('one', 1), ('three', 3)]"
            ]
          },
          "metadata": {},
          "execution_count": 56
        }
      ]
    },
    {
      "cell_type": "code",
      "metadata": {
        "id": "LUSe_4wa0g4K",
        "colab": {
          "base_uri": "https://localhost:8080/"
        },
        "outputId": "786f06e0-07fc-40b7-f268-2c911487c335"
      },
      "source": [
        "for item in sorted(numbers.items()):\n",
        "  print(item)"
      ],
      "execution_count": 57,
      "outputs": [
        {
          "output_type": "stream",
          "name": "stdout",
          "text": [
            "('four', 4)\n",
            "('nine', 9)\n",
            "('one', 1)\n",
            "('three', 3)\n"
          ]
        }
      ]
    },
    {
      "cell_type": "markdown",
      "metadata": {
        "id": "ddI1hZ21kjo-"
      },
      "source": [
        "### 辞書の要素を値でソートする"
      ]
    },
    {
      "cell_type": "code",
      "source": [
        "sorted(numbers.items())"
      ],
      "metadata": {
        "colab": {
          "base_uri": "https://localhost:8080/"
        },
        "id": "DDfekeQ-0AHM",
        "outputId": "08edc794-5320-4696-b238-f08bbc08d585"
      },
      "execution_count": 58,
      "outputs": [
        {
          "output_type": "execute_result",
          "data": {
            "text/plain": [
              "[('four', 4), ('nine', 9), ('one', 1), ('three', 3)]"
            ]
          },
          "metadata": {},
          "execution_count": 58
        }
      ]
    },
    {
      "cell_type": "code",
      "source": [
        "sorted(numbers.items(), key=lambda x: x[1])"
      ],
      "metadata": {
        "colab": {
          "base_uri": "https://localhost:8080/"
        },
        "id": "pGbsJ6FTz_li",
        "outputId": "bc50f090-8f87-4e97-c668-ba7285d70991"
      },
      "execution_count": 59,
      "outputs": [
        {
          "output_type": "execute_result",
          "data": {
            "text/plain": [
              "[('one', 1), ('three', 3), ('four', 4), ('nine', 9)]"
            ]
          },
          "metadata": {},
          "execution_count": 59
        }
      ]
    },
    {
      "cell_type": "code",
      "metadata": {
        "id": "PrDVPSKq0idi",
        "colab": {
          "base_uri": "https://localhost:8080/"
        },
        "outputId": "5c21f1be-5279-4049-a59a-de508797c495"
      },
      "source": [
        "numbers = {'three':3 , 'one':1 , 'nine':9, 'four':4}\n",
        "for item in sorted(numbers.items(), key=lambda x: x[1]):\n",
        "  print(item)"
      ],
      "execution_count": 63,
      "outputs": [
        {
          "output_type": "stream",
          "name": "stdout",
          "text": [
            "('one', 1)\n",
            "('three', 3)\n",
            "('four', 4)\n",
            "('nine', 9)\n"
          ]
        }
      ]
    },
    {
      "cell_type": "markdown",
      "metadata": {
        "id": "uwrwGkk9kuMR"
      },
      "source": [
        "### 辞書の`get`メソッド"
      ]
    },
    {
      "cell_type": "code",
      "source": [
        "numbers = {'three':3 , 'one':1 , 'nine':9, 'four':4}"
      ],
      "metadata": {
        "id": "khNVJ7Zs00bk"
      },
      "execution_count": 64,
      "outputs": []
    },
    {
      "cell_type": "code",
      "source": [
        "numbers.get(\"zzzzz\", 0)"
      ],
      "metadata": {
        "colab": {
          "base_uri": "https://localhost:8080/"
        },
        "id": "Zw9Q5PJZ034w",
        "outputId": "6d886814-0756-4e67-d137-e9cc83c15c66"
      },
      "execution_count": 66,
      "outputs": [
        {
          "output_type": "execute_result",
          "data": {
            "text/plain": [
              "0"
            ]
          },
          "metadata": {},
          "execution_count": 66
        }
      ]
    },
    {
      "cell_type": "code",
      "source": [
        "freq = dict() #空の辞書\n",
        "print(freq)"
      ],
      "metadata": {
        "colab": {
          "base_uri": "https://localhost:8080/"
        },
        "id": "nLAhEC5M1X8O",
        "outputId": "1d9c1cfb-2b3e-4043-ff40-f8bd0c26b3ca"
      },
      "execution_count": 67,
      "outputs": [
        {
          "output_type": "stream",
          "name": "stdout",
          "text": [
            "{}\n"
          ]
        }
      ]
    },
    {
      "cell_type": "code",
      "metadata": {
        "id": "vtfT1d650qBy",
        "colab": {
          "base_uri": "https://localhost:8080/"
        },
        "outputId": "72597918-69eb-4fa4-aae1-fbb42e3de327"
      },
      "source": [
        "l = ['a', 'b', 'a', 'a', 'c', 'b', 'c']\n",
        "for e in l:\n",
        "  freq[e] = freq.get(e, 0) + 1 #右辺がfreq[e] + 1だとエラー\n",
        "print(freq)"
      ],
      "execution_count": 70,
      "outputs": [
        {
          "output_type": "stream",
          "name": "stdout",
          "text": [
            "{'a': 3, 'b': 2, 'c': 2}\n"
          ]
        }
      ]
    },
    {
      "cell_type": "markdown",
      "metadata": {
        "id": "TkDxUIJAkmRG"
      },
      "source": [
        "## 補足: 予約語`lambda`"
      ]
    },
    {
      "cell_type": "code",
      "metadata": {
        "id": "I9h5cmSP0kEq"
      },
      "source": [
        "def applyFunc(x, func):\n",
        "  return func(x)\n",
        "\n",
        "print(applyFunc(3, lambda x: x**2))"
      ],
      "execution_count": null,
      "outputs": []
    },
    {
      "cell_type": "markdown",
      "metadata": {
        "id": "4t8eT3Jikoe1"
      },
      "source": [
        "## 補足: 高階関数`map`"
      ]
    },
    {
      "cell_type": "code",
      "metadata": {
        "id": "6hOtwdtm0lfy"
      },
      "source": [
        "ans = map(abs, range(-10, 11, 2))\n",
        "for e in ans:\n",
        "  print(e, end=' ')\n",
        "print()"
      ],
      "execution_count": null,
      "outputs": []
    },
    {
      "cell_type": "code",
      "metadata": {
        "id": "ujloBBOR0nNi"
      },
      "source": [
        "for e in map(lambda x: x//2, range(-10, 11, 2)):\n",
        "  print(e, end=' ')\n",
        "print()"
      ],
      "execution_count": null,
      "outputs": []
    },
    {
      "cell_type": "markdown",
      "metadata": {
        "id": "QjUILhrRkrsq"
      },
      "source": [
        "## 補足: 文字列の`split`メソッド"
      ]
    },
    {
      "cell_type": "code",
      "source": [
        "text = 'Donald Trump has his sights set on Amazon. He is reportedly “obsessed” with the internet commerce giant, and as is his wont, spent Thursday morning tweeting about it. And it’s not because he loves online shopping.'\n",
        "print(text)"
      ],
      "metadata": {
        "colab": {
          "base_uri": "https://localhost:8080/"
        },
        "id": "q0bdRdFw2oo0",
        "outputId": "daca502e-17ce-4c17-9bde-37449a513d57"
      },
      "execution_count": 71,
      "outputs": [
        {
          "output_type": "stream",
          "name": "stdout",
          "text": [
            "Donald Trump has his sights set on Amazon. He is reportedly “obsessed” with the internet commerce giant, and as is his wont, spent Thursday morning tweeting about it. And it’s not because he loves online shopping.\n"
          ]
        }
      ]
    },
    {
      "cell_type": "code",
      "source": [
        "print(text.split())"
      ],
      "metadata": {
        "colab": {
          "base_uri": "https://localhost:8080/"
        },
        "id": "BRXiPgjH2xZg",
        "outputId": "6ffec1fb-c10f-488c-c94b-2f83670f02f6"
      },
      "execution_count": 73,
      "outputs": [
        {
          "output_type": "stream",
          "name": "stdout",
          "text": [
            "['Donald', 'Trump', 'has', 'his', 'sights', 'set', 'on', 'Amazon.', 'He', 'is', 'reportedly', '“obsessed”', 'with', 'the', 'internet', 'commerce', 'giant,', 'and', 'as', 'is', 'his', 'wont,', 'spent', 'Thursday', 'morning', 'tweeting', 'about', 'it.', 'And', 'it’s', 'not', 'because', 'he', 'loves', 'online', 'shopping.']\n"
          ]
        }
      ]
    },
    {
      "cell_type": "code",
      "metadata": {
        "id": "sqdfnVy30oVi",
        "colab": {
          "base_uri": "https://localhost:8080/"
        },
        "outputId": "a36e0d35-bf5c-49ec-8c22-59cc18c306e0"
      },
      "source": [
        "text = 'Donald Trump has his sights set on Amazon. He is reportedly “obsessed” with the internet commerce giant, and as is his wont, spent Thursday morning tweeting about it. And it’s not because he loves online shopping.'\n",
        "word_seq = text.split()\n",
        "for word in word_seq:\n",
        "  print(word)"
      ],
      "execution_count": 74,
      "outputs": [
        {
          "output_type": "stream",
          "name": "stdout",
          "text": [
            "Donald\n",
            "Trump\n",
            "has\n",
            "his\n",
            "sights\n",
            "set\n",
            "on\n",
            "Amazon.\n",
            "He\n",
            "is\n",
            "reportedly\n",
            "“obsessed”\n",
            "with\n",
            "the\n",
            "internet\n",
            "commerce\n",
            "giant,\n",
            "and\n",
            "as\n",
            "is\n",
            "his\n",
            "wont,\n",
            "spent\n",
            "Thursday\n",
            "morning\n",
            "tweeting\n",
            "about\n",
            "it.\n",
            "And\n",
            "it’s\n",
            "not\n",
            "because\n",
            "he\n",
            "loves\n",
            "online\n",
            "shopping.\n"
          ]
        }
      ]
    },
    {
      "cell_type": "markdown",
      "metadata": {
        "id": "qy5aq0R5k-ny"
      },
      "source": [
        "## クラス\n",
        "* データとそれに対する処理とをまとめて扱いたいとき、クラスを自分で定義する。"
      ]
    },
    {
      "cell_type": "code",
      "metadata": {
        "id": "8yfVnKTl0rsI"
      },
      "source": [
        "class Greeter(object):\n",
        "\n",
        "  def __init__(self, name):\n",
        "    self.name = name\n",
        "\n",
        "  def greet(self, loud=False):\n",
        "    if loud:\n",
        "      print(f'HELLO, {self.name.upper()}!')\n",
        "    else:\n",
        "      print(f'Hello, {self.name}')"
      ],
      "execution_count": null,
      "outputs": []
    },
    {
      "cell_type": "markdown",
      "metadata": {
        "id": "Jf5q1h_QlBvH"
      },
      "source": [
        "### インスタンスの作成"
      ]
    },
    {
      "cell_type": "code",
      "metadata": {
        "id": "lYu7hf890tJh"
      },
      "source": [
        "g = Greeter('Fred')"
      ],
      "execution_count": null,
      "outputs": []
    },
    {
      "cell_type": "markdown",
      "metadata": {
        "id": "t1Fsx0BalEH3"
      },
      "source": [
        "### メソッドの呼出し"
      ]
    },
    {
      "cell_type": "code",
      "metadata": {
        "id": "vdstALIZ0uxa"
      },
      "source": [
        "g.greet()\n",
        "g.greet(loud=True)"
      ],
      "execution_count": null,
      "outputs": []
    },
    {
      "cell_type": "markdown",
      "metadata": {
        "id": "dC1Pn6N101tN"
      },
      "source": [
        "## 課題４\n",
        "* 適当な英文ニュース記事から本文だけをコピー・アンド・ペーストし、テキストファイル`news.txt`を作っておく\n",
        "* このテキストファイル`news.txt`を関数`open`で開き、そして読み込み、以下の処理をするコードをPythonで書く\n",
        "* 記事にどの単語が何回出現するかを、単語の出現回数の降順でソートして表示する。\n",
        "  * なお、ニュースサイトから、大量の記事をPythonのプログラムなどで自動的にダウンロードしてはいけません。"
      ]
    },
    {
      "cell_type": "code",
      "metadata": {
        "id": "5rtXSivo0v-B"
      },
      "source": [],
      "execution_count": null,
      "outputs": []
    }
  ]
}