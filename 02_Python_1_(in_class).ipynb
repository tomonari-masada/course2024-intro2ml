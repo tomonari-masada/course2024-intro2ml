{
  "nbformat": 4,
  "nbformat_minor": 0,
  "metadata": {
    "colab": {
      "provenance": [],
      "authorship_tag": "ABX9TyM2V72h9/1ObrBJqpntHQC+",
      "include_colab_link": true
    },
    "kernelspec": {
      "name": "python3",
      "display_name": "Python 3"
    },
    "language_info": {
      "name": "python"
    }
  },
  "cells": [
    {
      "cell_type": "markdown",
      "metadata": {
        "id": "view-in-github",
        "colab_type": "text"
      },
      "source": [
        "<a href=\"https://colab.research.google.com/github/tomonari-masada/course2024-intro2ml/blob/main/02_Python_1_(in_class).ipynb\" target=\"_parent\"><img src=\"https://colab.research.google.com/assets/colab-badge.svg\" alt=\"Open In Colab\"/></a>"
      ]
    },
    {
      "cell_type": "markdown",
      "metadata": {
        "id": "CKNt-nJvwMUk"
      },
      "source": [
        "# Python入門（１）"
      ]
    },
    {
      "cell_type": "markdown",
      "metadata": {
        "id": "gX7PqQlxeR0I"
      },
      "source": [
        "## Google Colabでコード片を実行する"
      ]
    },
    {
      "cell_type": "markdown",
      "source": [
        "memo\n"
      ],
      "metadata": {
        "id": "5xV8O25UdEP9"
      }
    },
    {
      "cell_type": "markdown",
      "source": [
        "this is a pen."
      ],
      "metadata": {
        "id": "Ko9TXqHMdCmr"
      }
    },
    {
      "cell_type": "code",
      "source": [
        "3.1 + 2.4"
      ],
      "metadata": {
        "colab": {
          "base_uri": "https://localhost:8080/"
        },
        "id": "zQ19Vc7NdAT1",
        "outputId": "e923c254-3e65-496a-df7d-8d7dbccb3bc2"
      },
      "execution_count": null,
      "outputs": [
        {
          "output_type": "execute_result",
          "data": {
            "text/plain": [
              "5.5"
            ]
          },
          "metadata": {},
          "execution_count": 12
        }
      ]
    },
    {
      "cell_type": "markdown",
      "source": [
        "* 代入文\n",
        "  * 「変数aに値3.1を代入する」は、下のようになる。"
      ],
      "metadata": {
        "id": "9w2wocpDeaZ5"
      }
    },
    {
      "cell_type": "code",
      "source": [
        "a = 3.1"
      ],
      "metadata": {
        "id": "SXottnCKeQnf"
      },
      "execution_count": null,
      "outputs": []
    },
    {
      "cell_type": "markdown",
      "source": [
        "「aという箱に3.1という値を入れる」というイメージは、\n",
        "Pythonだと、あまりふさわしくない。"
      ],
      "metadata": {
        "id": "INWJaaPJf8p7"
      }
    },
    {
      "cell_type": "markdown",
      "source": [
        "「3.1というモノにaというタグ（名札）をつける」"
      ],
      "metadata": {
        "id": "AYdyw-pFgOCw"
      }
    },
    {
      "cell_type": "code",
      "source": [
        "print(a)"
      ],
      "metadata": {
        "colab": {
          "base_uri": "https://localhost:8080/"
        },
        "id": "9rUGNC6ke1dQ",
        "outputId": "75565666-ccb8-43fb-b55f-7061d9ea8f12"
      },
      "execution_count": null,
      "outputs": [
        {
          "output_type": "stream",
          "name": "stdout",
          "text": [
            "3.1\n"
          ]
        }
      ]
    },
    {
      "cell_type": "code",
      "metadata": {
        "id": "fluONlNcuvDf",
        "colab": {
          "base_uri": "https://localhost:8080/"
        },
        "outputId": "67d73b04-1b4d-43dd-eb48-b5dc4267699c"
      },
      "source": [
        "b = 2.4\n",
        "c = a + b\n",
        "print(c)"
      ],
      "execution_count": null,
      "outputs": [
        {
          "output_type": "stream",
          "name": "stdout",
          "text": [
            "5.5\n"
          ]
        }
      ]
    },
    {
      "cell_type": "markdown",
      "metadata": {
        "id": "iqSn5bSyeTg5"
      },
      "source": [
        "## print関数"
      ]
    },
    {
      "cell_type": "code",
      "source": [
        "print('Hello!')"
      ],
      "metadata": {
        "colab": {
          "base_uri": "https://localhost:8080/"
        },
        "id": "nEamm9Qzg9Oa",
        "outputId": "6cb93c0f-db0e-4465-d2cf-34beaae58d17"
      },
      "execution_count": null,
      "outputs": [
        {
          "output_type": "stream",
          "name": "stdout",
          "text": [
            "Hello!\n"
          ]
        }
      ]
    },
    {
      "cell_type": "code",
      "metadata": {
        "id": "SLIgWKqwux4K",
        "colab": {
          "base_uri": "https://localhost:8080/"
        },
        "outputId": "7e30a08a-884e-4840-cc06-b1a0cc4e44ff"
      },
      "source": [
        "print('World!')\n",
        "print('Hello,', 'world!')"
      ],
      "execution_count": null,
      "outputs": [
        {
          "output_type": "stream",
          "name": "stdout",
          "text": [
            "World!\n",
            "Hello, world!\n"
          ]
        }
      ]
    },
    {
      "cell_type": "code",
      "source": [
        "print(c, c, c)"
      ],
      "metadata": {
        "colab": {
          "base_uri": "https://localhost:8080/"
        },
        "id": "W5HAphTghOfk",
        "outputId": "1d826c54-2917-4a4f-b598-b4e0ccf8e457"
      },
      "execution_count": null,
      "outputs": [
        {
          "output_type": "stream",
          "name": "stdout",
          "text": [
            "5.5 5.5 5.5\n"
          ]
        }
      ]
    },
    {
      "cell_type": "markdown",
      "metadata": {
        "id": "VpOjKvJkeX04"
      },
      "source": [
        "## Pythonのオブジェクト"
      ]
    },
    {
      "cell_type": "markdown",
      "metadata": {
        "id": "AHPOMKIzgmbH"
      },
      "source": [
        "* オブジェクト(object)\n",
        "  * Pythonのプログラムによって操作されるもののこと。\n",
        "  * すべてのオブジェクトは型(type)をもつ。\n",
        "* 型(type)\n",
        "  * スカラ(scalar): 分割不能。\n",
        "  * 非スカラ(non-scalar): 内部構造を持つ。例えば文字列。"
      ]
    },
    {
      "cell_type": "markdown",
      "metadata": {
        "id": "DGRUrV2vgyq8"
      },
      "source": [
        "### スカラ・オブジェクトの4つの型\n",
        "* int型\n",
        "  * int = integer\n",
        "* float型\n",
        "* bool型\n",
        "  * TrueとFalseの二種類の値しかない\n",
        "* None型\n",
        "  * Noneという一つの値しかない\n"
      ]
    },
    {
      "cell_type": "code",
      "source": [
        "d = 3\n",
        "3 == d"
      ],
      "metadata": {
        "colab": {
          "base_uri": "https://localhost:8080/"
        },
        "id": "gWaEa3QPjJAd",
        "outputId": "6abcd128-dca3-439c-ab17-ef01964d0208"
      },
      "execution_count": null,
      "outputs": [
        {
          "output_type": "execute_result",
          "data": {
            "text/plain": [
              "True"
            ]
          },
          "metadata": {},
          "execution_count": 15
        }
      ]
    },
    {
      "cell_type": "code",
      "source": [
        "print(type(3))"
      ],
      "metadata": {
        "colab": {
          "base_uri": "https://localhost:8080/"
        },
        "id": "ePGAiYfij6Hb",
        "outputId": "369cb107-45a3-4f9c-fa90-61318a2ca9d2"
      },
      "execution_count": null,
      "outputs": [
        {
          "output_type": "stream",
          "name": "stdout",
          "text": [
            "<class 'int'>\n"
          ]
        }
      ]
    },
    {
      "cell_type": "code",
      "source": [
        "print(type(3.0))"
      ],
      "metadata": {
        "colab": {
          "base_uri": "https://localhost:8080/"
        },
        "id": "33kZqrZckQfz",
        "outputId": "d54ab873-90a1-47e4-d10c-fffd54907f84"
      },
      "execution_count": null,
      "outputs": [
        {
          "output_type": "stream",
          "name": "stdout",
          "text": [
            "<class 'float'>\n"
          ]
        }
      ]
    },
    {
      "cell_type": "code",
      "source": [
        "3 != 2"
      ],
      "metadata": {
        "colab": {
          "base_uri": "https://localhost:8080/"
        },
        "id": "z1yDB67bkmIM",
        "outputId": "14faf88c-6f43-437e-eda9-9d53af475e1d"
      },
      "execution_count": null,
      "outputs": [
        {
          "output_type": "execute_result",
          "data": {
            "text/plain": [
              "True"
            ]
          },
          "metadata": {},
          "execution_count": 18
        }
      ]
    },
    {
      "cell_type": "code",
      "metadata": {
        "id": "r36vKH7ou8gF",
        "colab": {
          "base_uri": "https://localhost:8080/"
        },
        "outputId": "595a36fb-548d-445a-e30e-34d556bb0c30"
      },
      "source": [
        "print(type(3 != 2))"
      ],
      "execution_count": null,
      "outputs": [
        {
          "output_type": "stream",
          "name": "stdout",
          "text": [
            "<class 'bool'>\n"
          ]
        }
      ]
    },
    {
      "cell_type": "code",
      "metadata": {
        "id": "u4YZf-1tg6jz"
      },
      "source": [
        "a = None\n",
        "print(a is None)"
      ],
      "execution_count": null,
      "outputs": []
    },
    {
      "cell_type": "markdown",
      "metadata": {
        "id": "4ZUaJIZ7ehQ0"
      },
      "source": [
        "## 演算子"
      ]
    },
    {
      "cell_type": "markdown",
      "metadata": {
        "id": "8GQWjbbdhGHW"
      },
      "source": [
        "### 演算子の一覧\n",
        "\n",
        "\n",
        "> +, -, \\*, //, /, %, \\*\\*, ==, !=, >, >=, <, <=\n",
        "\n",
        "> and, or, not\n",
        "\n",
        "* 問：//と/の違いは？\n",
        "* 問：(5+2)\\*4と5+2\\*4の違いは？（演算子の優先順位）\n"
      ]
    },
    {
      "cell_type": "code",
      "source": [
        "11/3"
      ],
      "metadata": {
        "colab": {
          "base_uri": "https://localhost:8080/"
        },
        "id": "YoafRHeKoMtQ",
        "outputId": "ff893680-cbc3-4f9a-a07e-87bfeb88f4ca"
      },
      "execution_count": null,
      "outputs": [
        {
          "output_type": "execute_result",
          "data": {
            "text/plain": [
              "3.6666666666666665"
            ]
          },
          "metadata": {},
          "execution_count": 25
        }
      ]
    },
    {
      "cell_type": "code",
      "metadata": {
        "id": "4IU28wFwu-6d",
        "colab": {
          "base_uri": "https://localhost:8080/"
        },
        "outputId": "35cf020f-dfe2-496c-d13c-ae0b6210eaaa"
      },
      "source": [
        "print(3 + 2) # 整数の足し算\n",
        "print(3.0 + 2.0) # float型の足し算\n",
        "print(3 != 2) # bool型の演算"
      ],
      "execution_count": null,
      "outputs": [
        {
          "output_type": "stream",
          "name": "stdout",
          "text": [
            "5\n",
            "5.0\n",
            "True\n"
          ]
        }
      ]
    },
    {
      "cell_type": "code",
      "source": [
        "print(2 >= 2)"
      ],
      "metadata": {
        "colab": {
          "base_uri": "https://localhost:8080/"
        },
        "id": "YUIwekJQpoEs",
        "outputId": "4fe3a279-a12f-4d38-a7bc-7ae9fb36d4f4"
      },
      "execution_count": null,
      "outputs": [
        {
          "output_type": "stream",
          "name": "stdout",
          "text": [
            "True\n"
          ]
        }
      ]
    },
    {
      "cell_type": "markdown",
      "metadata": {
        "id": "KA94z1E_ejrV"
      },
      "source": [
        "## 変数と代入"
      ]
    },
    {
      "cell_type": "markdown",
      "metadata": {
        "id": "2M9pkBiNeqUL"
      },
      "source": [
        "### 変数名について\n",
        "* 大文字、小文字、数字、特殊文字'_'\n",
        "* 大文字と小文字は区別される\n",
        "* 予約語(reserved word)は変数名として使えない\n",
        "> and, as, assert, break, class, continue, def, del, elif, else, except, False, finally, for, from, global, if, import, in, is, lambda, nonlocal, None, not, or, pass, raise, return, True, try, while, with, yield\n"
      ]
    },
    {
      "cell_type": "code",
      "source": [
        "one_1 = 1"
      ],
      "metadata": {
        "id": "yhN66mXwqf51"
      },
      "execution_count": null,
      "outputs": []
    },
    {
      "cell_type": "code",
      "source": [
        "print(one_1)"
      ],
      "metadata": {
        "colab": {
          "base_uri": "https://localhost:8080/"
        },
        "id": "se4FLOomqhm5",
        "outputId": "c002afec-3223-4e3d-cb6b-a4b0386e1a10"
      },
      "execution_count": null,
      "outputs": [
        {
          "output_type": "stream",
          "name": "stdout",
          "text": [
            "1\n"
          ]
        }
      ]
    },
    {
      "cell_type": "markdown",
      "metadata": {
        "id": "UNvchLcvex0k"
      },
      "source": [
        "### 複数の代入を1つの文で"
      ]
    },
    {
      "cell_type": "code",
      "source": [
        "one = 1\n",
        "two = 2"
      ],
      "metadata": {
        "id": "UvVHjzLDq6Q5"
      },
      "execution_count": null,
      "outputs": []
    },
    {
      "cell_type": "code",
      "source": [
        "print(two)"
      ],
      "metadata": {
        "colab": {
          "base_uri": "https://localhost:8080/"
        },
        "id": "GjMQ8LzOq8SE",
        "outputId": "afee67b7-f122-46c1-daef-426398fc66a9"
      },
      "execution_count": null,
      "outputs": [
        {
          "output_type": "stream",
          "name": "stdout",
          "text": [
            "2\n"
          ]
        }
      ]
    },
    {
      "cell_type": "code",
      "source": [
        "a = 5\n",
        "b = 4"
      ],
      "metadata": {
        "id": "aZZOkqAPrIqH"
      },
      "execution_count": null,
      "outputs": []
    },
    {
      "cell_type": "code",
      "metadata": {
        "id": "vAyWYg3dvBS0",
        "colab": {
          "base_uri": "https://localhost:8080/"
        },
        "outputId": "799332bf-8241-4634-bae7-a37aad9b9872"
      },
      "source": [
        "a, b = 5, 4  #aと5, bと4が紐付けされる\n",
        "print(a, b)"
      ],
      "execution_count": null,
      "outputs": [
        {
          "output_type": "stream",
          "name": "stdout",
          "text": [
            "5 4\n"
          ]
        }
      ]
    },
    {
      "cell_type": "code",
      "metadata": {
        "id": "zXlghevzvEXc",
        "colab": {
          "base_uri": "https://localhost:8080/"
        },
        "outputId": "b0dce689-e32f-498c-8d76-4a88440aeed7"
      },
      "source": [
        "a, b = 5, 4\n",
        "a, b = b, a # 入れ替え\n",
        "print(a, b)"
      ],
      "execution_count": null,
      "outputs": [
        {
          "output_type": "stream",
          "name": "stdout",
          "text": [
            "4 5\n"
          ]
        }
      ]
    },
    {
      "cell_type": "markdown",
      "metadata": {
        "id": "5aQHIHDhjaw9"
      },
      "source": [
        "* 組み込み関数idを使うとオブジェクトの固有識別子が得られる\n"
      ]
    },
    {
      "cell_type": "code",
      "metadata": {
        "id": "lg5cLj5RvG90"
      },
      "source": [
        "print(id(2))\n",
        "a = 2\n",
        "print(a)\n",
        "print(id(a))\n",
        "b = 1 + 1\n",
        "print(b)\n",
        "print(id(b))"
      ],
      "execution_count": null,
      "outputs": []
    },
    {
      "cell_type": "markdown",
      "metadata": {
        "id": "aIjARcgke2Kd"
      },
      "source": [
        "## 分岐"
      ]
    },
    {
      "cell_type": "markdown",
      "source": [
        "* if~else文の中身はインデントする。"
      ],
      "metadata": {
        "id": "GOuw-Ik7syx7"
      }
    },
    {
      "cell_type": "code",
      "source": [
        "251 % 2"
      ],
      "metadata": {
        "colab": {
          "base_uri": "https://localhost:8080/"
        },
        "id": "sy06PbU3tg3w",
        "outputId": "238ea9e6-d7ed-4665-d760-922d804d750c"
      },
      "execution_count": null,
      "outputs": [
        {
          "output_type": "execute_result",
          "data": {
            "text/plain": [
              "1"
            ]
          },
          "metadata": {},
          "execution_count": 43
        }
      ]
    },
    {
      "cell_type": "code",
      "metadata": {
        "id": "MWREuv21vJcM",
        "colab": {
          "base_uri": "https://localhost:8080/"
        },
        "outputId": "80fec95a-b736-4416-d591-12faa3bd75fd"
      },
      "source": [
        "x = 251\n",
        "if x % 2 == 1:\n",
        "    print('Odd')\n",
        "    print('======')\n",
        "    print(\"sdawaeew\")\n",
        "else:\n",
        "    print('Even')\n",
        "    print(\"-----\")\n",
        "    print(\"rsdfbsfd\")"
      ],
      "execution_count": null,
      "outputs": [
        {
          "output_type": "stream",
          "name": "stdout",
          "text": [
            "Odd\n",
            "======\n",
            "sdawaeew\n"
          ]
        }
      ]
    },
    {
      "cell_type": "markdown",
      "metadata": {
        "id": "JSDgqqlRfsJ9"
      },
      "source": [
        "### 入れ子状の分岐"
      ]
    },
    {
      "cell_type": "code",
      "metadata": {
        "id": "-E3gw12gvLtc",
        "colab": {
          "base_uri": "https://localhost:8080/"
        },
        "outputId": "f63dce84-f40c-4d46-882b-99d70c1666d5"
      },
      "source": [
        "x = 35\n",
        "if x % 3 == 0:\n",
        "    if x % 5 == 0:\n",
        "        print('Divisible by 3 and 5')\n",
        "    else:\n",
        "        print('Divisible by 3 and not by 5')\n",
        "elif x % 5 == 0:\n",
        "    print('Divisible by 5 and not by 3')"
      ],
      "execution_count": null,
      "outputs": [
        {
          "output_type": "stream",
          "name": "stdout",
          "text": [
            "Divisible by 5 and not by 3\n"
          ]
        }
      ]
    },
    {
      "cell_type": "markdown",
      "metadata": {
        "id": "mA-bPy_he6r-"
      },
      "source": [
        "## 文字列型（str型）"
      ]
    },
    {
      "cell_type": "code",
      "metadata": {
        "id": "GnDPUVb-vNfc"
      },
      "source": [
        "print('a')\n",
        "print(3 * 'a')\n",
        "print('a' + 'b')\n",
        "#print('a' * 'a')"
      ],
      "execution_count": null,
      "outputs": []
    },
    {
      "cell_type": "markdown",
      "metadata": {
        "id": "V7Nfg-WRfzXY"
      },
      "source": [
        "### 順序型としての文字列型\n",
        "* 順序型には、以下の三種類の操作が、共通している\n",
        "  * 長さ\n",
        "  * 添え字\n",
        "  * スライシング"
      ]
    },
    {
      "cell_type": "code",
      "metadata": {
        "id": "lvB2EnbyvPKU"
      },
      "source": [
        "s = 'abcdef'\n",
        "print(len(s)) #長さを調べる\n",
        "print(s[3]) #添え字(index)で個々の要素を取り出す\n",
        "print(s[2:4]) #スライス表記(slicing)"
      ],
      "execution_count": null,
      "outputs": []
    },
    {
      "cell_type": "markdown",
      "metadata": {
        "id": "dt7EBik-fBof"
      },
      "source": [
        "## 入力"
      ]
    },
    {
      "cell_type": "code",
      "source": [
        "print(\"aaa\" + \"bbb\" + \"ccc\")"
      ],
      "metadata": {
        "colab": {
          "base_uri": "https://localhost:8080/"
        },
        "id": "UJNANlU_wHiI",
        "outputId": "b6758377-df98-423c-c1ad-c480f18760d7"
      },
      "execution_count": null,
      "outputs": [
        {
          "output_type": "stream",
          "name": "stdout",
          "text": [
            "aaabbbccc\n"
          ]
        }
      ]
    },
    {
      "cell_type": "code",
      "metadata": {
        "id": "MeOqyvNjvRZL",
        "colab": {
          "base_uri": "https://localhost:8080/"
        },
        "outputId": "3c316659-f4fd-402c-b4a3-a4218a31b482"
      },
      "source": [
        "name = input('Enter your name: ')\n",
        "print('Your name is ' + name +'.')"
      ],
      "execution_count": null,
      "outputs": [
        {
          "output_type": "stream",
          "name": "stdout",
          "text": [
            "Enter your name: Masada\n",
            "Your name is Masada.\n"
          ]
        }
      ]
    },
    {
      "cell_type": "code",
      "source": [
        "a = input(\"入力してください\")"
      ],
      "metadata": {
        "colab": {
          "base_uri": "https://localhost:8080/"
        },
        "id": "WDLTKQcOwiSW",
        "outputId": "cec9ece2-0d16-4e1f-a85b-7168b71f3017"
      },
      "execution_count": null,
      "outputs": [
        {
          "name": "stdout",
          "output_type": "stream",
          "text": [
            "入力してください123\n"
          ]
        }
      ]
    },
    {
      "cell_type": "code",
      "source": [
        "type(a)"
      ],
      "metadata": {
        "colab": {
          "base_uri": "https://localhost:8080/"
        },
        "id": "OSOKQMfWwoGl",
        "outputId": "41393648-697d-494c-fa4d-35e79ac7e069"
      },
      "execution_count": null,
      "outputs": [
        {
          "output_type": "execute_result",
          "data": {
            "text/plain": [
              "str"
            ]
          },
          "metadata": {},
          "execution_count": 67
        }
      ]
    },
    {
      "cell_type": "markdown",
      "metadata": {
        "id": "ZqQV6CDnf_az"
      },
      "source": [
        "### 文字列型以外の入力\n",
        "* キャストする"
      ]
    },
    {
      "cell_type": "code",
      "source": [
        "int(\"123\") / 3"
      ],
      "metadata": {
        "colab": {
          "base_uri": "https://localhost:8080/"
        },
        "id": "-jBtqwdoxQf1",
        "outputId": "0eb1079c-f1f3-470c-c509-3677ea48b3df"
      },
      "execution_count": null,
      "outputs": [
        {
          "output_type": "execute_result",
          "data": {
            "text/plain": [
              "41.0"
            ]
          },
          "metadata": {},
          "execution_count": 73
        }
      ]
    },
    {
      "cell_type": "code",
      "metadata": {
        "id": "3C3VPUMSvTq7",
        "colab": {
          "base_uri": "https://localhost:8080/"
        },
        "outputId": "21d84940-1b0b-44b6-9b22-82da397537f5"
      },
      "source": [
        "age = input('Enter your age: ')\n",
        "n = int(age) #文字列型からint型へキャスト\n",
        "print(n * 12)"
      ],
      "execution_count": null,
      "outputs": [
        {
          "output_type": "stream",
          "name": "stdout",
          "text": [
            "Enter your age: 53\n",
            "636\n"
          ]
        }
      ]
    },
    {
      "cell_type": "code",
      "source": [
        "int(\"434fsfge\")"
      ],
      "metadata": {
        "colab": {
          "base_uri": "https://localhost:8080/",
          "height": 156
        },
        "id": "as9vOgFCxwMv",
        "outputId": "7b87180e-e4d9-406d-a08e-2bc5be458a3c"
      },
      "execution_count": null,
      "outputs": [
        {
          "output_type": "error",
          "ename": "ValueError",
          "evalue": "invalid literal for int() with base 10: '434fsfge'",
          "traceback": [
            "\u001b[0;31m---------------------------------------------------------------------------\u001b[0m",
            "\u001b[0;31mValueError\u001b[0m                                Traceback (most recent call last)",
            "\u001b[0;32m<ipython-input-79-0bf82c1342ef>\u001b[0m in \u001b[0;36m<cell line: 1>\u001b[0;34m()\u001b[0m\n\u001b[0;32m----> 1\u001b[0;31m \u001b[0mint\u001b[0m\u001b[0;34m(\u001b[0m\u001b[0;34m\"434fsfge\"\u001b[0m\u001b[0;34m)\u001b[0m\u001b[0;34m\u001b[0m\u001b[0;34m\u001b[0m\u001b[0m\n\u001b[0m",
            "\u001b[0;31mValueError\u001b[0m: invalid literal for int() with base 10: '434fsfge'"
          ]
        }
      ]
    },
    {
      "cell_type": "markdown",
      "metadata": {
        "id": "o9QpUsucfE0M"
      },
      "source": [
        "## 補足：フォーマット付きのprint\n",
        "* フォーマット＝書式"
      ]
    },
    {
      "cell_type": "code",
      "metadata": {
        "id": "qEZYAS3ZvWVT",
        "colab": {
          "base_uri": "https://localhost:8080/"
        },
        "outputId": "e7f38711-4c05-4dc7-e961-626640d4e5cd"
      },
      "source": [
        "a = 2153326344554151451.3\n",
        "print(a)\n",
        "print(f\"a = {a}\")\n",
        "print(f'a = {a:.4f}')\n",
        "print(f'a = {a:.4e}') # 10の何乗というフォーマット"
      ],
      "execution_count": null,
      "outputs": [
        {
          "output_type": "stream",
          "name": "stdout",
          "text": [
            "2.1533263445541514e+18\n",
            "a = 2.1533263445541514e+18\n",
            "a = 2153326344554151424.0000\n",
            "a = 2.1533e+18\n"
          ]
        }
      ]
    },
    {
      "cell_type": "markdown",
      "metadata": {
        "id": "noTcnvulfH3e"
      },
      "source": [
        "## ループ（while文を使う）"
      ]
    },
    {
      "cell_type": "code",
      "source": [
        "a = 10\n",
        "a *= 5\n",
        "print(a)"
      ],
      "metadata": {
        "colab": {
          "base_uri": "https://localhost:8080/"
        },
        "id": "jYqYAdcFvWuj",
        "outputId": "61101d69-869c-4e73-df58-efbb97b6db4c"
      },
      "execution_count": null,
      "outputs": [
        {
          "output_type": "stream",
          "name": "stdout",
          "text": [
            "50\n"
          ]
        }
      ]
    },
    {
      "cell_type": "code",
      "metadata": {
        "id": "AFUCpcdMvZjj",
        "colab": {
          "base_uri": "https://localhost:8080/"
        },
        "outputId": "073dda08-9375-4351-9083-7b6cd9cf8759"
      },
      "source": [
        "s = 0\n",
        "n = 1\n",
        "while n <= 10:\n",
        "    s += n\n",
        "    n += 1\n",
        "print(s)"
      ],
      "execution_count": null,
      "outputs": [
        {
          "output_type": "stream",
          "name": "stdout",
          "text": [
            "55\n"
          ]
        }
      ]
    },
    {
      "cell_type": "markdown",
      "source": [
        "* 1から10の整数の総和"
      ],
      "metadata": {
        "id": "NGDVOOt8wuF2"
      }
    },
    {
      "cell_type": "markdown",
      "metadata": {
        "id": "lB91Gi2rgGjp"
      },
      "source": [
        "### 無限ループ\n",
        "* breakで抜ける"
      ]
    },
    {
      "cell_type": "code",
      "metadata": {
        "id": "b-buAMfUvbYa",
        "colab": {
          "base_uri": "https://localhost:8080/"
        },
        "outputId": "014fb319-9bb3-42e7-a22e-446177723c1c"
      },
      "source": [
        "s = 0\n",
        "n = 1\n",
        "while True:\n",
        "    if n > 10:\n",
        "        break\n",
        "    s += n\n",
        "    n += 1\n",
        "print(s)"
      ],
      "execution_count": null,
      "outputs": [
        {
          "output_type": "stream",
          "name": "stdout",
          "text": [
            "55\n"
          ]
        }
      ]
    },
    {
      "cell_type": "markdown",
      "source": [
        "* forループは後で。"
      ],
      "metadata": {
        "id": "crXmI4cExugh"
      }
    },
    {
      "cell_type": "markdown",
      "metadata": {
        "id": "5c9RtmDufPeN"
      },
      "source": [
        "## リスト"
      ]
    },
    {
      "cell_type": "code",
      "source": [
        "a = [2.5,-8.0,1.7,4.4,-0.6]\n",
        "print(a)"
      ],
      "metadata": {
        "colab": {
          "base_uri": "https://localhost:8080/"
        },
        "id": "K8MDycBeyO2d",
        "outputId": "f5dd59b0-fc36-40fc-d2c2-200ba4e7f9cc"
      },
      "execution_count": null,
      "outputs": [
        {
          "output_type": "stream",
          "name": "stdout",
          "text": [
            "[2.5, -8.0, 1.7, 4.4, -0.6]\n"
          ]
        }
      ]
    },
    {
      "cell_type": "markdown",
      "source": [
        "* 添え字(index)は0スタート"
      ],
      "metadata": {
        "id": "f0mzfpxdyxzO"
      }
    },
    {
      "cell_type": "code",
      "source": [
        "print(a[1])"
      ],
      "metadata": {
        "colab": {
          "base_uri": "https://localhost:8080/"
        },
        "id": "A0uzqNAMylhq",
        "outputId": "6ec2ddf3-b0a8-4b5d-e772-1fc586239c2c"
      },
      "execution_count": null,
      "outputs": [
        {
          "output_type": "stream",
          "name": "stdout",
          "text": [
            "-8.0\n"
          ]
        }
      ]
    },
    {
      "cell_type": "code",
      "source": [
        "print(len(a)) # lengthの略"
      ],
      "metadata": {
        "colab": {
          "base_uri": "https://localhost:8080/"
        },
        "id": "ixcEPASFy5hv",
        "outputId": "8d678edd-1781-4951-97e0-9cdb57f8d76e"
      },
      "execution_count": null,
      "outputs": [
        {
          "output_type": "stream",
          "name": "stdout",
          "text": [
            "5\n"
          ]
        }
      ]
    },
    {
      "cell_type": "code",
      "source": [
        "print(a[-2]) # マイナス＝後ろから"
      ],
      "metadata": {
        "colab": {
          "base_uri": "https://localhost:8080/"
        },
        "id": "03Zysx04zDGb",
        "outputId": "392e2b44-2dba-45a4-a088-22a8a06d6920"
      },
      "execution_count": null,
      "outputs": [
        {
          "output_type": "stream",
          "name": "stdout",
          "text": [
            "4.4\n"
          ]
        }
      ]
    },
    {
      "cell_type": "markdown",
      "source": [
        "* リストは変更できる。"
      ],
      "metadata": {
        "id": "z9cqGZ9PzXNl"
      }
    },
    {
      "cell_type": "code",
      "metadata": {
        "id": "7Ox-Ru0Fvkq6",
        "colab": {
          "base_uri": "https://localhost:8080/"
        },
        "outputId": "1fd4bfa1-2324-4ba7-9cca-e22b1c8ed782"
      },
      "source": [
        "a[3] = 4.3\n",
        "print(a)"
      ],
      "execution_count": null,
      "outputs": [
        {
          "output_type": "stream",
          "name": "stdout",
          "text": [
            "[2.5, -8.0, 1.7, 4.3, -0.6]\n"
          ]
        }
      ]
    },
    {
      "cell_type": "markdown",
      "source": [
        "* slicing"
      ],
      "metadata": {
        "id": "CQgNqa9Izuo-"
      }
    },
    {
      "cell_type": "code",
      "source": [
        "a = [ 2.5, -8.0, 1.7, 4.4, -0.6 ]\n",
        "print(a[1:4])"
      ],
      "metadata": {
        "colab": {
          "base_uri": "https://localhost:8080/"
        },
        "id": "M19iDDE-zz2J",
        "outputId": "9a64406e-5e0c-411e-f5e1-fe59bb4621eb"
      },
      "execution_count": null,
      "outputs": [
        {
          "output_type": "stream",
          "name": "stdout",
          "text": [
            "[-8.0, 1.7, 4.4]\n"
          ]
        }
      ]
    },
    {
      "cell_type": "code",
      "source": [
        "print(a[2:])\n",
        "print(a[:2])"
      ],
      "metadata": {
        "colab": {
          "base_uri": "https://localhost:8080/"
        },
        "id": "t-zgB50T0L7Q",
        "outputId": "523684e3-c310-4947-872a-aaf8ac13a6ed"
      },
      "execution_count": null,
      "outputs": [
        {
          "output_type": "stream",
          "name": "stdout",
          "text": [
            "[1.7, 4.4, -0.6]\n",
            "[2.5, -8.0]\n"
          ]
        }
      ]
    },
    {
      "cell_type": "code",
      "source": [
        "a[:3] + a[3:]"
      ],
      "metadata": {
        "colab": {
          "base_uri": "https://localhost:8080/"
        },
        "id": "7WG7GAEk0XB5",
        "outputId": "dfd4ec0c-2965-467b-c47f-d237d9b2449f"
      },
      "execution_count": null,
      "outputs": [
        {
          "output_type": "execute_result",
          "data": {
            "text/plain": [
              "[2.5, -8.0, 1.7, 4.4, -0.6]"
            ]
          },
          "metadata": {},
          "execution_count": 22
        }
      ]
    },
    {
      "cell_type": "code",
      "metadata": {
        "id": "906Zj_rMvn3i",
        "colab": {
          "base_uri": "https://localhost:8080/"
        },
        "outputId": "24bafb57-a579-4cb5-f44e-5b0c2d3df11e"
      },
      "source": [
        "print(a)\n",
        "print(a[0:5:2])"
      ],
      "execution_count": null,
      "outputs": [
        {
          "output_type": "stream",
          "name": "stdout",
          "text": [
            "[2.5, -8.0, 1.7, 4.4, -0.6]\n",
            "[2.5, 1.7, -0.6]\n"
          ]
        }
      ]
    },
    {
      "cell_type": "markdown",
      "metadata": {
        "id": "wfySSpJ8gMYF"
      },
      "source": [
        "### リストのメソッド"
      ]
    },
    {
      "cell_type": "code",
      "source": [
        "a = [ 2.5, -8.0, 1.7, 4.4, -0.6 ]\n",
        "a.append(-5.3)\n",
        "print(a)"
      ],
      "metadata": {
        "colab": {
          "base_uri": "https://localhost:8080/"
        },
        "id": "8WIKFh051iip",
        "outputId": "f1f2d7af-0a65-4282-93e3-3a53fc857cea"
      },
      "execution_count": null,
      "outputs": [
        {
          "output_type": "stream",
          "name": "stdout",
          "text": [
            "[2.5, -8.0, 1.7, 4.4, -0.6, -5.3]\n"
          ]
        }
      ]
    },
    {
      "cell_type": "code",
      "source": [
        "a.reverse() # 変数aの中身が変わります。\n",
        "print(a)"
      ],
      "metadata": {
        "colab": {
          "base_uri": "https://localhost:8080/"
        },
        "id": "sjmW4cth1339",
        "outputId": "1a4306f0-6545-4af6-c7a2-13e6ff386cad"
      },
      "execution_count": null,
      "outputs": [
        {
          "output_type": "stream",
          "name": "stdout",
          "text": [
            "[-5.3, -0.6, 4.4, 1.7, -8.0, 2.5]\n"
          ]
        }
      ]
    },
    {
      "cell_type": "code",
      "metadata": {
        "id": "CoTJnwbhvpSq",
        "colab": {
          "base_uri": "https://localhost:8080/"
        },
        "outputId": "a35c69c4-dbd6-407e-fb3f-6242490850c9"
      },
      "source": [
        "a.sort() # 並びかえ\n",
        "print(a)"
      ],
      "execution_count": null,
      "outputs": [
        {
          "output_type": "stream",
          "name": "stdout",
          "text": [
            "[-8.0, -5.3, -0.6, 1.7, 2.5, 4.4]\n"
          ]
        }
      ]
    },
    {
      "cell_type": "code",
      "metadata": {
        "id": "TPTL3t8ogTc0",
        "colab": {
          "base_uri": "https://localhost:8080/"
        },
        "outputId": "2bdad8e8-bb4f-4513-ac19-0d7d5a5b1153"
      },
      "source": [
        "a = [ 2.5, -8.0, 1.7, 4.4, -0.6 ]\n",
        "print(2.5 in a) # 入っているからTrue\n",
        "print(1.1 in a) # 入っていないからFalse"
      ],
      "execution_count": null,
      "outputs": [
        {
          "output_type": "stream",
          "name": "stdout",
          "text": [
            "True\n",
            "False\n"
          ]
        }
      ]
    },
    {
      "cell_type": "markdown",
      "metadata": {
        "id": "UTtDLnFSfUWL"
      },
      "source": [
        "## タプル\n",
        "* **要素を後から変更できない**"
      ]
    },
    {
      "cell_type": "code",
      "source": [
        "a = ( 2.5, -8.0, 1.7, 4.4, -0.6 )\n",
        "print(a)\n",
        "print(a[2])\n",
        "print(len(a))\n",
        "print(a[-1])"
      ],
      "metadata": {
        "colab": {
          "base_uri": "https://localhost:8080/"
        },
        "id": "P1P3kjDC2-jt",
        "outputId": "14c7eb6a-86b7-4c41-c470-f2c12ce5b387"
      },
      "execution_count": null,
      "outputs": [
        {
          "output_type": "stream",
          "name": "stdout",
          "text": [
            "(2.5, -8.0, 1.7, 4.4, -0.6)\n",
            "1.7\n",
            "5\n",
            "-0.6\n"
          ]
        }
      ]
    },
    {
      "cell_type": "code",
      "source": [
        "a[3] = 4.3 #エラーが出るはず"
      ],
      "metadata": {
        "colab": {
          "base_uri": "https://localhost:8080/",
          "height": 153
        },
        "id": "FX_VO1xI3Ivh",
        "outputId": "3340315f-e42f-44f6-9e8e-38a622163c23"
      },
      "execution_count": null,
      "outputs": [
        {
          "output_type": "error",
          "ename": "TypeError",
          "evalue": "'tuple' object does not support item assignment",
          "traceback": [
            "\u001b[0;31m---------------------------------------------------------------------------\u001b[0m",
            "\u001b[0;31mTypeError\u001b[0m                                 Traceback (most recent call last)",
            "\u001b[0;32m<ipython-input-30-2c1705c288b6>\u001b[0m in \u001b[0;36m<cell line: 1>\u001b[0;34m()\u001b[0m\n\u001b[0;32m----> 1\u001b[0;31m \u001b[0ma\u001b[0m\u001b[0;34m[\u001b[0m\u001b[0;36m3\u001b[0m\u001b[0;34m]\u001b[0m \u001b[0;34m=\u001b[0m \u001b[0;36m4.3\u001b[0m \u001b[0;31m#エラーが出るはず\u001b[0m\u001b[0;34m\u001b[0m\u001b[0;34m\u001b[0m\u001b[0m\n\u001b[0m",
            "\u001b[0;31mTypeError\u001b[0m: 'tuple' object does not support item assignment"
          ]
        }
      ]
    },
    {
      "cell_type": "markdown",
      "source": [
        "* debugする際は、エラーメッセージを読もう。"
      ],
      "metadata": {
        "id": "bKqqwFrg3Rjw"
      }
    },
    {
      "cell_type": "code",
      "metadata": {
        "id": "GONB2Q76vqwp",
        "colab": {
          "base_uri": "https://localhost:8080/"
        },
        "outputId": "6dff3f08-fec0-4e7c-b37f-30aa133a2e19"
      },
      "source": [
        "b = list(a) #タプルをリストにする\n",
        "print(b)"
      ],
      "execution_count": null,
      "outputs": [
        {
          "output_type": "stream",
          "name": "stdout",
          "text": [
            "[2.5, -8.0, 1.7, 4.4, -0.6]\n"
          ]
        }
      ]
    },
    {
      "cell_type": "code",
      "source": [
        "type(b)"
      ],
      "metadata": {
        "colab": {
          "base_uri": "https://localhost:8080/"
        },
        "id": "fcUhNgsm3sLY",
        "outputId": "d6b49866-da6c-499f-bf0d-19591fa158d5"
      },
      "execution_count": null,
      "outputs": [
        {
          "output_type": "execute_result",
          "data": {
            "text/plain": [
              "list"
            ]
          },
          "metadata": {},
          "execution_count": 34
        }
      ]
    },
    {
      "cell_type": "code",
      "source": [
        "b[3] = 4.3"
      ],
      "metadata": {
        "id": "xLU-8xwV30cw"
      },
      "execution_count": null,
      "outputs": []
    },
    {
      "cell_type": "code",
      "source": [
        "b"
      ],
      "metadata": {
        "colab": {
          "base_uri": "https://localhost:8080/"
        },
        "id": "64Oz291N320U",
        "outputId": "86c37123-af75-488f-9176-7db9c860f9a0"
      },
      "execution_count": null,
      "outputs": [
        {
          "output_type": "execute_result",
          "data": {
            "text/plain": [
              "[2.5, -8.0, 1.7, 4.3, -0.6]"
            ]
          },
          "metadata": {},
          "execution_count": 36
        }
      ]
    },
    {
      "cell_type": "markdown",
      "metadata": {
        "id": "wQFrwH5UfYX4"
      },
      "source": [
        "## 辞書\n",
        "* キー(key)と値(value)のペア"
      ]
    },
    {
      "cell_type": "code",
      "source": [
        "dic = {'one':1, 'three':3, 'nine':9, 'four':4}\n",
        "print(dic)"
      ],
      "metadata": {
        "colab": {
          "base_uri": "https://localhost:8080/"
        },
        "id": "1cwhr8Ka6XcX",
        "outputId": "435a9461-13ae-4e25-d477-1a00d0030bb0"
      },
      "execution_count": null,
      "outputs": [
        {
          "output_type": "stream",
          "name": "stdout",
          "text": [
            "{'one': 1, 'three': 3, 'nine': 9, 'four': 4}\n"
          ]
        }
      ]
    },
    {
      "cell_type": "code",
      "source": [
        "print(dic['three'])"
      ],
      "metadata": {
        "colab": {
          "base_uri": "https://localhost:8080/"
        },
        "id": "zFTiqFYW6KWV",
        "outputId": "76f700de-5d06-47c9-c441-2c2482ec07bf"
      },
      "execution_count": null,
      "outputs": [
        {
          "output_type": "stream",
          "name": "stdout",
          "text": [
            "3\n"
          ]
        }
      ]
    },
    {
      "cell_type": "code",
      "source": [
        "dic['seven'] = 7\n",
        "print(dic)"
      ],
      "metadata": {
        "colab": {
          "base_uri": "https://localhost:8080/"
        },
        "id": "5KGrfMu563p8",
        "outputId": "0b30e757-9eed-4b0a-944e-9332927d808d"
      },
      "execution_count": null,
      "outputs": [
        {
          "output_type": "stream",
          "name": "stdout",
          "text": [
            "{'one': 1, 'three': 3, 'nine': 9, 'four': 4, 'seven': 7}\n"
          ]
        }
      ]
    },
    {
      "cell_type": "code",
      "source": [
        "print(dic['seven'])"
      ],
      "metadata": {
        "colab": {
          "base_uri": "https://localhost:8080/"
        },
        "id": "60hQ2DS07J4w",
        "outputId": "c890551d-8859-47f0-8f69-a167b52aadef"
      },
      "execution_count": null,
      "outputs": [
        {
          "output_type": "stream",
          "name": "stdout",
          "text": [
            "7\n"
          ]
        }
      ]
    },
    {
      "cell_type": "code",
      "metadata": {
        "id": "wRqL_JxXvsaZ",
        "colab": {
          "base_uri": "https://localhost:8080/"
        },
        "outputId": "a179d9c1-cf05-4791-8cb5-94eb6e472793"
      },
      "source": [
        "print('nine' in dic)\n",
        "print('six' in dic)"
      ],
      "execution_count": null,
      "outputs": [
        {
          "output_type": "stream",
          "name": "stdout",
          "text": [
            "True\n",
            "False\n"
          ]
        }
      ]
    },
    {
      "cell_type": "code",
      "source": [
        "dic = {'one':1, 'three':3, 'nine':9, 'four':4}\n",
        "print(dic)"
      ],
      "metadata": {
        "colab": {
          "base_uri": "https://localhost:8080/"
        },
        "id": "PTJQPQ0n7ZgQ",
        "outputId": "03217727-f1e3-4c4a-d885-d158f5697ddf"
      },
      "execution_count": null,
      "outputs": [
        {
          "output_type": "stream",
          "name": "stdout",
          "text": [
            "{'one': 1, 'three': 3, 'nine': 9, 'four': 4}\n"
          ]
        }
      ]
    },
    {
      "cell_type": "code",
      "source": [
        "c = list(dic)\n",
        "print(c)"
      ],
      "metadata": {
        "colab": {
          "base_uri": "https://localhost:8080/"
        },
        "id": "YPF0rvgX7bcB",
        "outputId": "788d4973-e7f1-4dad-907c-014478e28a3c"
      },
      "execution_count": null,
      "outputs": [
        {
          "output_type": "stream",
          "name": "stdout",
          "text": [
            "['one', 'three', 'nine', 'four']\n"
          ]
        }
      ]
    },
    {
      "cell_type": "code",
      "source": [
        "print(dic.keys())"
      ],
      "metadata": {
        "colab": {
          "base_uri": "https://localhost:8080/"
        },
        "id": "eINy0BrU7oig",
        "outputId": "44095130-fd01-44ed-c561-86b25becc12e"
      },
      "execution_count": null,
      "outputs": [
        {
          "output_type": "stream",
          "name": "stdout",
          "text": [
            "dict_keys(['one', 'three', 'nine', 'four'])\n"
          ]
        }
      ]
    },
    {
      "cell_type": "code",
      "source": [
        "print(dic.values())"
      ],
      "metadata": {
        "colab": {
          "base_uri": "https://localhost:8080/"
        },
        "id": "X40IwVvy7uas",
        "outputId": "65128dea-36ae-4e20-a411-19334c811cbe"
      },
      "execution_count": null,
      "outputs": [
        {
          "output_type": "stream",
          "name": "stdout",
          "text": [
            "dict_values([1, 3, 9, 4])\n"
          ]
        }
      ]
    },
    {
      "cell_type": "code",
      "metadata": {
        "id": "I56BGAT6vwsJ",
        "colab": {
          "base_uri": "https://localhost:8080/"
        },
        "outputId": "b5333e51-9eb0-4bc9-c5b6-ed15bb2fa1a2"
      },
      "source": [
        "print(dic.items())"
      ],
      "execution_count": null,
      "outputs": [
        {
          "output_type": "stream",
          "name": "stdout",
          "text": [
            "dict_items([('one', 1), ('three', 3), ('nine', 9), ('four', 4)])\n"
          ]
        }
      ]
    },
    {
      "cell_type": "markdown",
      "metadata": {
        "id": "wYHQQS6Qgd5L"
      },
      "source": [
        "## Pythonにおける流れの制御と関数定義\n",
        "* if文（既出。）\n",
        "* while文（既出。）\n",
        "* for文\n",
        "* defによる関数定義\n"
      ]
    },
    {
      "cell_type": "markdown",
      "metadata": {
        "id": "0Swl_lupfdFJ"
      },
      "source": [
        "## リストを使ったfor文"
      ]
    },
    {
      "cell_type": "code",
      "source": [
        "s = 0.0\n",
        "for c in [ 3.0, -1.2, 6.9, 0.2, -5.3 ]:\n",
        "    s += c\n",
        "print(s)"
      ],
      "metadata": {
        "colab": {
          "base_uri": "https://localhost:8080/"
        },
        "id": "LkW5l7vg8Scn",
        "outputId": "84a55960-1eaf-4f70-c225-3393f2244f25"
      },
      "execution_count": null,
      "outputs": [
        {
          "output_type": "stream",
          "name": "stdout",
          "text": [
            "3.6000000000000005\n"
          ]
        }
      ]
    },
    {
      "cell_type": "code",
      "metadata": {
        "id": "Vfi3XW9DvyKx",
        "colab": {
          "base_uri": "https://localhost:8080/"
        },
        "outputId": "fa580a7b-b0d2-40bf-bc24-11da5dfa9f4c"
      },
      "source": [
        "a = [] # 中身が空のリストを作っている\n",
        "for c in [ 3.0, -1.2, 6.9, 0.2, -5.3 ]:\n",
        "    a.append(c)\n",
        "    print(a)"
      ],
      "execution_count": null,
      "outputs": [
        {
          "output_type": "stream",
          "name": "stdout",
          "text": [
            "[3.0]\n",
            "[3.0, -1.2]\n",
            "[3.0, -1.2, 6.9]\n",
            "[3.0, -1.2, 6.9, 0.2]\n",
            "[3.0, -1.2, 6.9, 0.2, -5.3]\n"
          ]
        }
      ]
    },
    {
      "cell_type": "markdown",
      "metadata": {
        "id": "vhML1zeLffit"
      },
      "source": [
        "## range関数を使ったfor文"
      ]
    },
    {
      "cell_type": "code",
      "metadata": {
        "id": "nbtmjDcOvz45",
        "colab": {
          "base_uri": "https://localhost:8080/"
        },
        "outputId": "3dc20d4c-f76b-4919-9776-afbf705c1378"
      },
      "source": [
        "for i in range(10):\n",
        "    print(i)"
      ],
      "execution_count": null,
      "outputs": [
        {
          "output_type": "stream",
          "name": "stdout",
          "text": [
            "0\n",
            "1\n",
            "2\n",
            "3\n",
            "4\n",
            "5\n",
            "6\n",
            "7\n",
            "8\n",
            "9\n"
          ]
        }
      ]
    },
    {
      "cell_type": "code",
      "metadata": {
        "id": "AyNW_eNJv1YB",
        "colab": {
          "base_uri": "https://localhost:8080/"
        },
        "outputId": "30470b7b-f846-43aa-c6c4-d81d004e5890"
      },
      "source": [
        "for i in range(10):\n",
        "    if i > 5:\n",
        "        break\n",
        "    else:\n",
        "        print(i)"
      ],
      "execution_count": null,
      "outputs": [
        {
          "output_type": "stream",
          "name": "stdout",
          "text": [
            "0\n",
            "1\n",
            "2\n",
            "3\n",
            "4\n",
            "5\n"
          ]
        }
      ]
    },
    {
      "cell_type": "markdown",
      "metadata": {
        "id": "MZiBm_Nvfhya"
      },
      "source": [
        "## for文と辞書\n",
        "* キーをひとつずつ拾っていく"
      ]
    },
    {
      "cell_type": "code",
      "metadata": {
        "id": "ZuvIstxIv3Nx",
        "colab": {
          "base_uri": "https://localhost:8080/"
        },
        "outputId": "d5184726-8fbb-4321-c230-2916fa3e79fc"
      },
      "source": [
        "d = {'one':1, 'three':3, 'nine':9, 'four':4}\n",
        "for k in d:\n",
        "    print(k, d[k])"
      ],
      "execution_count": null,
      "outputs": [
        {
          "output_type": "stream",
          "name": "stdout",
          "text": [
            "one 1\n",
            "three 3\n",
            "nine 9\n",
            "four 4\n"
          ]
        }
      ]
    },
    {
      "cell_type": "markdown",
      "metadata": {
        "id": "y7vVJFxofmUc"
      },
      "source": [
        "## 関数を自分で定義する（defと書く）"
      ]
    },
    {
      "cell_type": "markdown",
      "source": [
        "* 値の自乗を計算する関数"
      ],
      "metadata": {
        "id": "Od9-cbFA_X2W"
      }
    },
    {
      "cell_type": "code",
      "source": [
        "def my_square(x):\n",
        "  if x < 0.0:\n",
        "    return x\n",
        "  else:\n",
        "    return x * x"
      ],
      "metadata": {
        "id": "4b3MVvoA_VMZ"
      },
      "execution_count": null,
      "outputs": []
    },
    {
      "cell_type": "code",
      "metadata": {
        "id": "Zillp-DTv4jh",
        "colab": {
          "base_uri": "https://localhost:8080/"
        },
        "outputId": "4fb4856e-252b-4346-d659-8043a9e2d365"
      },
      "source": [
        "y = my_square(3) # 関数を呼び出す\n",
        "print(y)"
      ],
      "execution_count": null,
      "outputs": [
        {
          "output_type": "stream",
          "name": "stdout",
          "text": [
            "9\n"
          ]
        }
      ]
    },
    {
      "cell_type": "code",
      "source": [
        "def my_func(x, y): #引数\n",
        "  if x > y:\n",
        "    return x\n",
        "  else:\n",
        "    return y"
      ],
      "metadata": {
        "id": "SM3svWommSLt"
      },
      "execution_count": null,
      "outputs": []
    },
    {
      "cell_type": "code",
      "source": [
        "my_func(10, 100)"
      ],
      "metadata": {
        "colab": {
          "base_uri": "https://localhost:8080/"
        },
        "id": "z5FDgSHomrXU",
        "outputId": "0e8f1ed4-0bd9-4bf2-e362-ced85f90a1da"
      },
      "execution_count": null,
      "outputs": [
        {
          "output_type": "execute_result",
          "data": {
            "text/plain": [
              "100"
            ]
          },
          "metadata": {},
          "execution_count": 17
        }
      ]
    },
    {
      "cell_type": "markdown",
      "metadata": {
        "id": "oUYjDAOLwF9S"
      },
      "source": [
        "## 課題２\n",
        "* 以下のことを実現するコードをPythonで書こう\n",
        "  * ユーザに6つの正の整数を入力してもらう（`input`関数を使う）\n",
        "  * そのうち、一番大きな値だけを表示する\n"
      ]
    },
    {
      "cell_type": "code",
      "source": [
        "if 3 > 2:\n",
        "  print(\"asasdas\")"
      ],
      "metadata": {
        "id": "G5NO8bF3yTus",
        "outputId": "65283c8a-abe3-42ef-ab92-0244f63d370c",
        "colab": {
          "base_uri": "https://localhost:8080/"
        }
      },
      "execution_count": null,
      "outputs": [
        {
          "output_type": "stream",
          "name": "stdout",
          "text": [
            "asasdas\n"
          ]
        }
      ]
    },
    {
      "cell_type": "code",
      "metadata": {
        "id": "gW-qbvRQwKrA"
      },
      "source": [],
      "execution_count": null,
      "outputs": []
    },
    {
      "cell_type": "markdown",
      "metadata": {
        "id": "L84BJwCSv9JZ"
      },
      "source": [
        "## 課題３\n",
        "* まず、与えられた数が偶数であればbool型のTrueを、奇数であればbool型のFalseを返す関数`is_even`を定義せよ。\n",
        "  * 文字列の\"True\"や\"False\"を返すのではなく、bool型のTrueやFalseを返す関数を書くこと。\n",
        "* そして、この関数`is_even`を使って、1から1000までの範囲にある偶数の和を求めよ。\n"
      ]
    },
    {
      "cell_type": "code",
      "metadata": {
        "id": "dDZFDhj1wBom"
      },
      "source": [
        "def is_even(a):\n",
        "  # ここに自分で書く\n",
        "\n",
        "\n",
        "# ここに、関数is_evenを使ったコードを自分で書く"
      ],
      "execution_count": null,
      "outputs": []
    }
  ]
}