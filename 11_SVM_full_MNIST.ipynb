{
  "nbformat": 4,
  "nbformat_minor": 0,
  "metadata": {
    "colab": {
      "provenance": [],
      "authorship_tag": "ABX9TyPwaNI+EUqHqov5RtTGdrWs",
      "include_colab_link": true
    },
    "kernelspec": {
      "name": "python3",
      "display_name": "Python 3"
    },
    "language_info": {
      "name": "python"
    }
  },
  "cells": [
    {
      "cell_type": "markdown",
      "metadata": {
        "id": "view-in-github",
        "colab_type": "text"
      },
      "source": [
        "<a href=\"https://colab.research.google.com/github/tomonari-masada/course2023-intro2ml/blob/main/12_SVM_full_MNIST.ipynb\" target=\"_parent\"><img src=\"https://colab.research.google.com/assets/colab-badge.svg\" alt=\"Open In Colab\"/></a>"
      ]
    },
    {
      "cell_type": "markdown",
      "metadata": {
        "id": "Gan0WLEv-ZGC"
      },
      "source": [
        "# 問題：SVMを使ってMNISTの10値分類を行う"
      ]
    },
    {
      "cell_type": "code",
      "metadata": {
        "id": "JIcOWnYu-YMX"
      },
      "source": [
        "import numpy as np\n",
        "import matplotlib.pyplot as plt\n",
        "\n",
        "%config InlineBackend.figure_format = 'retina'"
      ],
      "execution_count": 1,
      "outputs": []
    },
    {
      "cell_type": "code",
      "metadata": {
        "id": "k5T4xL1tBWoV",
        "colab": {
          "base_uri": "https://localhost:8080/"
        },
        "outputId": "92d5ebad-6606-4105-b1a3-0e8b7d05b70d"
      },
      "source": [
        "from sklearn.datasets import fetch_openml\n",
        "mnist = fetch_openml('mnist_784')\n",
        "X, y = mnist.data, mnist.target\n",
        "print(X.shape)\n",
        "print(y.shape)"
      ],
      "execution_count": 10,
      "outputs": [
        {
          "output_type": "stream",
          "name": "stderr",
          "text": [
            "/usr/local/lib/python3.10/dist-packages/sklearn/datasets/_openml.py:968: FutureWarning: The default value of `parser` will change from `'liac-arff'` to `'auto'` in 1.4. You can set `parser='auto'` to silence this warning. Therefore, an `ImportError` will be raised from 1.4 if the dataset is dense and pandas is not installed. Note that the pandas parser may return different data types. See the Notes Section in fetch_openml's API doc for details.\n",
            "  warn(\n"
          ]
        },
        {
          "output_type": "stream",
          "name": "stdout",
          "text": [
            "(70000, 784)\n",
            "(70000,)\n"
          ]
        }
      ]
    },
    {
      "cell_type": "markdown",
      "metadata": {
        "id": "7ActyQkLdS4d"
      },
      "source": [
        "* 通常、MNISTデータは最後の10000件をテストデータとして使う。"
      ]
    },
    {
      "cell_type": "markdown",
      "source": [
        "* 以下のセルにある、データの分割の仕方を、変更しないこと。"
      ],
      "metadata": {
        "id": "rpy3BHr42STo"
      }
    },
    {
      "cell_type": "code",
      "metadata": {
        "id": "xAcCKb0_Bgud"
      },
      "source": [
        "X_train, X_test = X[:60000], X[60000:]\n",
        "y_train, y_test = y[:60000], y[60000:]"
      ],
      "execution_count": 11,
      "outputs": []
    },
    {
      "cell_type": "markdown",
      "metadata": {
        "id": "JX8Jf3OPdeIE"
      },
      "source": [
        "* テストデータ以外の60000件を、訓練データ50000件と検証データ10000件へ分割しておく。\n",
        " * この分割は、変えないでください。"
      ]
    },
    {
      "cell_type": "code",
      "metadata": {
        "id": "Hf0hxjN0BlcM"
      },
      "source": [
        "from sklearn.model_selection import train_test_split\n",
        "\n",
        "X_train, X_valid, y_train, y_valid = train_test_split(\n",
        "    X_train, y_train,\n",
        "    test_size=10000,\n",
        "    random_state=42,\n",
        "    )"
      ],
      "execution_count": 12,
      "outputs": []
    },
    {
      "cell_type": "code",
      "metadata": {
        "id": "UlnqcUGzBsA2",
        "colab": {
          "base_uri": "https://localhost:8080/"
        },
        "outputId": "e1e5760c-3f86-4a89-f891-31b7c1dcbf7d"
      },
      "source": [
        "print(X_train.shape, X_valid.shape, X_test.shape)"
      ],
      "execution_count": 13,
      "outputs": [
        {
          "output_type": "stream",
          "name": "stdout",
          "text": [
            "(50000, 784) (10000, 784) (10000, 784)\n"
          ]
        }
      ]
    },
    {
      "cell_type": "markdown",
      "metadata": {
        "id": "QecEjxyMdXQe"
      },
      "source": [
        "* MNISTデータの最初の100個を可視化してみる。"
      ]
    },
    {
      "cell_type": "code",
      "metadata": {
        "id": "zacmZ9O3BjVW",
        "colab": {
          "base_uri": "https://localhost:8080/",
          "height": 406
        },
        "outputId": "2e9e6cc4-e653-4ee7-b78b-9f266f539fe5"
      },
      "source": [
        "fig, axes = plt.subplots(10, 10)\n",
        "for x, ax in zip(X_train.values[:100], axes.ravel()):\n",
        "  ax.axis('off') # 軸を消す\n",
        "  ax.matshow(x.reshape(28, 28), cmap=plt.cm.gray)"
      ],
      "execution_count": 14,
      "outputs": [
        {
          "output_type": "display_data",
          "data": {
            "text/plain": [
              "<Figure size 640x480 with 100 Axes>"
            ],
            "image/png": "[encoded data removed]"
          },
          "metadata": {
            "image/png": {
              "width": 505,
              "height": 389
            }
          }
        }
      ]
    },
    {
      "cell_type": "markdown",
      "metadata": {
        "id": "F3sU13WRB6F3"
      },
      "source": [
        "* 今回は、「０」〜「９」の10値分類問題のまま解く。"
      ]
    },
    {
      "cell_type": "code",
      "source": [
        "y_train.values"
      ],
      "metadata": {
        "colab": {
          "base_uri": "https://localhost:8080/"
        },
        "id": "ub6PYE1tHAKq",
        "outputId": "70eb0655-f291-4a9e-e6df-d992f17dd853"
      },
      "execution_count": 17,
      "outputs": [
        {
          "output_type": "execute_result",
          "data": {
            "text/plain": [
              "['8', '5', '1', '8', '9', ..., '3', '8', '0', '0', '4']\n",
              "Length: 50000\n",
              "Categories (10, object): ['0', '1', '2', '3', ..., '6', '7', '8', '9']"
            ]
          },
          "metadata": {},
          "execution_count": 17
        }
      ]
    },
    {
      "cell_type": "markdown",
      "metadata": {
        "id": "dVBy-HpMmBOZ"
      },
      "source": [
        "## 前処理：標準化\n",
        "* 各ピクセルでの平均が0、標準偏差が1になるように、データを標準化しておく。\n",
        "* こうすると分類精度が良くなったりする。"
      ]
    },
    {
      "cell_type": "code",
      "metadata": {
        "id": "uMjXRf6LmBla"
      },
      "source": [
        "from sklearn.preprocessing import StandardScaler\n",
        "\n",
        "scaler = StandardScaler()\n",
        "scaler.fit(X_train) # 訓練データで平均と標準偏差を計算\n",
        "X_train = scaler.transform(X_train) # 訓練データで求めた平均と標準偏差を使って標準化する\n",
        "X_valid = scaler.transform(X_valid)\n",
        "X_test = scaler.transform(X_test)"
      ],
      "execution_count": 15,
      "outputs": []
    },
    {
      "cell_type": "markdown",
      "metadata": {
        "id": "BwClOs7ZduMt"
      },
      "source": [
        "## SVMによる分類の実行\n",
        "* `LinearSVC`クラスを使う。\n",
        "* 分類器を準備し、訓練データを渡して係数と切片を推定させる。\n",
        " * 訓練データの個数が多いので、少し時間がかかる。\n",
        " * 推定計算が収束しない場合は、`max_iter`を増やしてみる。"
      ]
    },
    {
      "cell_type": "markdown",
      "metadata": {
        "id": "n8X4NBHhb8Zq"
      },
      "source": [
        "## SVMでの正則化\n",
        "* scikit-learnの`LinearSVC`では、`C`というパラメータを調整する。\n",
        "* `C`は、小さいほど、正則化が強く効く＝係数をより強くゼロに近づける。\n",
        " * デフォルトの設定は`C=1.0`。\n",
        " * リッジ回帰やLassoの`alpha`とは、向きが逆であることに、注意。"
      ]
    },
    {
      "cell_type": "markdown",
      "source": [
        "## 訓練データの個数を減らす"
      ],
      "metadata": {
        "id": "KvO7KvP2wVMM"
      }
    },
    {
      "cell_type": "markdown",
      "source": [
        "* `LinearSVC`の学習に時間がかかりすぎるので、訓練データの個数を減らす。"
      ],
      "metadata": {
        "id": "2rjFTj48wzPi"
      }
    },
    {
      "cell_type": "code",
      "source": [
        "len(X_train)"
      ],
      "metadata": {
        "id": "yRIUyiZjwmGK",
        "colab": {
          "base_uri": "https://localhost:8080/"
        },
        "outputId": "a395edd7-5b33-4761-c4fd-a334df3dcee0"
      },
      "execution_count": 18,
      "outputs": [
        {
          "output_type": "execute_result",
          "data": {
            "text/plain": [
              "50000"
            ]
          },
          "metadata": {},
          "execution_count": 18
        }
      ]
    },
    {
      "cell_type": "markdown",
      "source": [
        "* 訓練データは50000個ある。\n",
        "* と言うことは添字(index)は、0〜49999。\n",
        "* indexが5で割り切れる訓練データだけ使う。\n",
        " * つまり、訓練データのデータ数を10000個に減らす。"
      ],
      "metadata": {
        "id": "o3Q3rs_OwvJV"
      }
    },
    {
      "cell_type": "code",
      "source": [
        "X_train[49999]"
      ],
      "metadata": {
        "id": "3FXEx1H63Qel"
      },
      "execution_count": null,
      "outputs": []
    },
    {
      "cell_type": "code",
      "source": [
        "index_filter = (np.arange(len(X_train)) % 5 == 0)"
      ],
      "metadata": {
        "id": "MGNiKuYowjyf"
      },
      "execution_count": 19,
      "outputs": []
    },
    {
      "cell_type": "code",
      "source": [
        "index_filter"
      ],
      "metadata": {
        "id": "V2jx-Pz53dv2",
        "colab": {
          "base_uri": "https://localhost:8080/"
        },
        "outputId": "7133b6c3-d4f9-4074-db16-0e873ffd38ec"
      },
      "execution_count": 20,
      "outputs": [
        {
          "output_type": "execute_result",
          "data": {
            "text/plain": [
              "array([ True, False, False, ..., False, False, False])"
            ]
          },
          "metadata": {},
          "execution_count": 20
        }
      ]
    },
    {
      "cell_type": "code",
      "source": [
        "len(X_train[index_filter])"
      ],
      "metadata": {
        "id": "Gw4IuzBk3h59",
        "colab": {
          "base_uri": "https://localhost:8080/"
        },
        "outputId": "e30994c8-4b33-4ebb-c717-7a5db82545b9"
      },
      "execution_count": 21,
      "outputs": [
        {
          "output_type": "execute_result",
          "data": {
            "text/plain": [
              "10000"
            ]
          },
          "metadata": {},
          "execution_count": 21
        }
      ]
    },
    {
      "cell_type": "code",
      "source": [
        "y_train"
      ],
      "metadata": {
        "id": "Am6UoXjn303y"
      },
      "execution_count": null,
      "outputs": []
    },
    {
      "cell_type": "markdown",
      "source": [
        "## `LinearSVC`の学習"
      ],
      "metadata": {
        "id": "lb-CldpxyjtY"
      }
    },
    {
      "cell_type": "markdown",
      "source": [
        "* `ConvergenceWarning`が出る場合は、`max_iter`を増やすと良いかもしれない。"
      ],
      "metadata": {
        "id": "_81U5K7Fynfo"
      }
    },
    {
      "cell_type": "code",
      "metadata": {
        "id": "eANdkjTaB5gF"
      },
      "source": [
        "from sklearn.svm import LinearSVC\n",
        "clf = LinearSVC() # デフォルトの設定\n",
        "clf.fit(X_train[index_filter], y_train[index_filter]) # 訓練データは1/5に減らした"
      ],
      "execution_count": null,
      "outputs": []
    },
    {
      "cell_type": "code",
      "metadata": {
        "id": "qywf9D3xCAgM"
      },
      "source": [
        "print(f'Accuracy: {clf.score(X_valid, y_valid):.4f}')"
      ],
      "execution_count": null,
      "outputs": []
    },
    {
      "cell_type": "markdown",
      "source": [
        "* 試行錯誤する。\n",
        " * Cの値としては、ゼロより大きければOK。0.01のような値も試す。"
      ],
      "metadata": {
        "id": "b-KTC_oGoEcu"
      }
    },
    {
      "cell_type": "code",
      "source": [
        "clf = LinearSVC(C=0.01)\n",
        "clf.fit(X_train[index_filter], y_train[index_filter])\n",
        "print(f'Accuracy: {clf.score(X_valid, y_valid):.4f}')"
      ],
      "metadata": {
        "id": "_5ioXTjKoC24"
      },
      "execution_count": null,
      "outputs": []
    },
    {
      "cell_type": "code",
      "source": [
        "clf = LinearSVC(C=100.0)\n",
        "clf.fit(X_train[index_filter], y_train[index_filter])\n",
        "print(f'Accuracy: {clf.score(X_valid, y_valid):.4f}')"
      ],
      "metadata": {
        "id": "vOT4fURD571m"
      },
      "execution_count": null,
      "outputs": []
    },
    {
      "cell_type": "code",
      "source": [
        "clf = LinearSVC(C=0.009)\n",
        "clf.fit(X_train[index_filter], y_train[index_filter])\n",
        "print(f'Accuracy: {clf.score(X_valid, y_valid):.4f}')"
      ],
      "metadata": {
        "id": "AAUw0d2U894Q"
      },
      "execution_count": null,
      "outputs": []
    },
    {
      "cell_type": "markdown",
      "source": [
        "# 救済課題（10点満点）"
      ],
      "metadata": {
        "id": "emjcVBgtyJWO"
      }
    },
    {
      "cell_type": "markdown",
      "source": [
        "## (1) 検証データでの正解率が↑この0.8951より大きい設定を見つける"
      ],
      "metadata": {
        "id": "ddu33CgeytNk"
      }
    },
    {
      "cell_type": "markdown",
      "source": [
        "* もし、訓練データを全て使って`LinearSVC`に学習させると・・・\n",
        " * 10分~12分待ちましょう。"
      ],
      "metadata": {
        "id": "Ssmy55Q404SI"
      }
    },
    {
      "cell_type": "code",
      "source": [
        "clf = LinearSVC()\n",
        "clf.fit(X_train, y_train)\n",
        "print(f'Accuracy: {clf.score(X_valid, y_valid):.4f}')"
      ],
      "metadata": {
        "id": "vD5ZXMI80064"
      },
      "execution_count": null,
      "outputs": []
    },
    {
      "cell_type": "markdown",
      "metadata": {
        "id": "Wa2ury-amZ7U"
      },
      "source": [
        "## (2) 見つけ出した設定を使って最後にテストデータ上で評価\n"
      ]
    },
    {
      "cell_type": "code",
      "metadata": {
        "id": "xKJT7Fe0kZy3"
      },
      "source": [
        "clf = LinearSVC() # ()の中にベストだったCの値の設定を書く。\n",
        "clf.fit(X_train[index_filter], y_train[index_filter])\n",
        "#clf.fit(X_train, y_train) # 訓練データを全て使う場合はこの行をコメントでなくする\n",
        "print(f'test accuracy: {clf.score(X_test, y_test):.4f}')"
      ],
      "execution_count": null,
      "outputs": []
    },
    {
      "cell_type": "code",
      "metadata": {
        "id": "mdC8f7BupXdS"
      },
      "source": [],
      "execution_count": null,
      "outputs": []
    }
  ]
}
