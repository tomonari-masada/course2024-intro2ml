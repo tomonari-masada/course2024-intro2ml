{
  "nbformat": 4,
  "nbformat_minor": 0,
  "metadata": {
    "colab": {
      "provenance": [],
      "authorship_tag": "ABX9TyOlOcnESIHjTsyGsI+dRzJd",
      "include_colab_link": true
    },
    "kernelspec": {
      "name": "python3",
      "display_name": "Python 3"
    },
    "language_info": {
      "name": "python"
    }
  },
  "cells": [
    {
      "cell_type": "markdown",
      "metadata": {
        "id": "view-in-github",
        "colab_type": "text"
      },
      "source": [
        "<a href=\"https://colab.research.google.com/github/tomonari-masada/course2023-intro2ml/blob/main/10_logistic_regression.ipynb\" target=\"_parent\"><img src=\"https://colab.research.google.com/assets/colab-badge.svg\" alt=\"Open In Colab\"/></a>"
      ]
    },
    {
      "cell_type": "markdown",
      "metadata": {
        "id": "Gan0WLEv-ZGC"
      },
      "source": [
        "# ロジスティック回帰\n",
        "* 線形回帰を少し変えれば、２値分類に使うこともできるようになる。\n",
        "* 線形モデルの出力を、シグモイド関数と呼ばれる関数で$[0,1]$の範囲の値へ変換する。\n",
        "* 目的変数の値が0のときは、0に近い値が出力されるように、また・・・\n",
        "* 目的変数の値が1のときは、1に近い値が出力されるように、モデルの学習を行う。"
      ]
    },
    {
      "cell_type": "markdown",
      "metadata": {
        "id": "WogkMbdP-eCh"
      },
      "source": [
        "## シグモイド関数\n",
        "$$ \\sigma(s) = \\frac{1}{1 + e^{- s}} $$\n",
        "* 正確には、ロジスティック関数と呼ばれる。\n",
        "* シグモイド関数のひとつとしてロジスティック関数がある、ということ。だが・・・\n",
        "* シグモイド関数という呼び名の方が広く流通している感じ。\n",
        " * https://en.wikipedia.org/wiki/Sigmoid_function"
      ]
    },
    {
      "cell_type": "code",
      "metadata": {
        "id": "JIcOWnYu-YMX"
      },
      "source": [
        "import numpy as np\n",
        "import matplotlib.pyplot as plt\n",
        "\n",
        "%config InlineBackend.figure_format = 'retina'"
      ],
      "execution_count": null,
      "outputs": []
    },
    {
      "cell_type": "markdown",
      "metadata": {
        "id": "Vvj1x0y8_cpo"
      },
      "source": [
        "* シグモイド関数の値（縦軸の値）が0から1の範囲に収まっていることを確認してみる。"
      ]
    },
    {
      "cell_type": "code",
      "metadata": {
        "id": "MdmOBZv7-g_g"
      },
      "source": [
        "x = np.linspace(-6, 6, 101)\n",
        "y = 1 / (1 + np.exp( - x))\n",
        "fig = plt.figure(figsize=(9,7))\n",
        "plt.plot(x, y)\n",
        "plt.title('sigmoid function')\n",
        "plt.show()"
      ],
      "execution_count": null,
      "outputs": []
    },
    {
      "cell_type": "markdown",
      "source": [
        "## toy dataでロジスティック回帰の使い方を把握"
      ],
      "metadata": {
        "id": "F59NTUVhTICX"
      }
    },
    {
      "cell_type": "code",
      "source": [
        "fig = plt.figure(figsize=(8,6))\n",
        "x = [1, 2, 7, 8]\n",
        "y = [0, 0, 1, 1]\n",
        "plt.plot(x, y, '.')\n",
        "plt.show()"
      ],
      "metadata": {
        "id": "GxM5_dStTWNY"
      },
      "execution_count": null,
      "outputs": []
    },
    {
      "cell_type": "code",
      "source": [
        "from sklearn.linear_model import LogisticRegression\n",
        "clf = LogisticRegression()"
      ],
      "metadata": {
        "id": "jdQTZvMSTmz5"
      },
      "execution_count": null,
      "outputs": []
    },
    {
      "cell_type": "code",
      "source": [
        "clf.fit(x, y)"
      ],
      "metadata": {
        "id": "5uOYkCm7Tspb"
      },
      "execution_count": null,
      "outputs": []
    },
    {
      "cell_type": "code",
      "source": [
        "x = np.array(x).reshape(-1, 1)\n",
        "print(x)"
      ],
      "metadata": {
        "id": "suUiWdrYTtrG"
      },
      "execution_count": null,
      "outputs": []
    },
    {
      "cell_type": "code",
      "source": [
        "clf.fit(x, y)"
      ],
      "metadata": {
        "id": "1VVkS0dbTxzN"
      },
      "execution_count": null,
      "outputs": []
    },
    {
      "cell_type": "code",
      "source": [
        "a = clf.coef_\n",
        "b = clf.intercept_\n",
        "print(a, b)"
      ],
      "metadata": {
        "id": "LlsjJk71TEEb"
      },
      "execution_count": null,
      "outputs": []
    },
    {
      "cell_type": "markdown",
      "source": [
        "* どのような関数が、２値分類を実現する関数として推定されたのか、描いてみる。"
      ],
      "metadata": {
        "id": "PH2jQvPQUOhc"
      }
    },
    {
      "cell_type": "code",
      "source": [
        "fig = plt.figure(figsize=(10,7))\n",
        "xs = np.linspace(0,9,101)\n",
        "ys = clf.predict_proba(xs.reshape(-1,1))\n",
        "plt.plot(x, y, '.')\n",
        "plt.plot(xs, ys[:,1])\n",
        "plt.show()"
      ],
      "metadata": {
        "id": "VB85Rp0DTTj0"
      },
      "execution_count": null,
      "outputs": []
    },
    {
      "cell_type": "markdown",
      "metadata": {
        "id": "hLkP2yeo_h8i"
      },
      "source": [
        "## 手書き数字画像の分類\n",
        "* digitsデータセットを使う。\n",
        "* ただし、digitsデータセットは10値分類なので・・・\n",
        "* 今回は、「0」かそうでないかの、2値分類問題を、ロジスティック回帰で解く。"
      ]
    },
    {
      "cell_type": "code",
      "metadata": {
        "id": "dB8oUPsz-tNf"
      },
      "source": [
        "from sklearn.datasets import load_digits\n",
        "digits = load_digits()"
      ],
      "execution_count": null,
      "outputs": []
    },
    {
      "cell_type": "markdown",
      "metadata": {
        "id": "dEY_Nts7AK9C"
      },
      "source": [
        "### 訓練データ/検証データ/テストデータに分割"
      ]
    },
    {
      "cell_type": "code",
      "metadata": {
        "id": "lb7xXmL-AEqk"
      },
      "source": [
        "from sklearn.model_selection import train_test_split\n",
        "\n",
        "X_train, X_test, y_train, y_test = train_test_split(digits.data,\n",
        "                                                    digits.target, test_size=0.2,\n",
        "                                                    random_state=42)\n",
        "\n",
        "X_train, X_valid, y_train, y_valid = train_test_split(X_train, y_train,\n",
        "                                                      test_size=0.25,\n",
        "                                                      random_state=42)\n",
        "\n",
        "print(X_train.shape, X_valid.shape, X_test.shape)"
      ],
      "execution_count": null,
      "outputs": []
    },
    {
      "cell_type": "code",
      "source": [
        "np.unique(y_train)"
      ],
      "metadata": {
        "id": "ssBlX-i0yxQz"
      },
      "execution_count": null,
      "outputs": []
    },
    {
      "cell_type": "markdown",
      "metadata": {
        "id": "68j3S9r6AVI1"
      },
      "source": [
        "### ２値分類の問題へ変える\n",
        "* 「0」であるものは正解ラベルを0、そうでないものは全て正解ラベルを1にする。"
      ]
    },
    {
      "cell_type": "code",
      "metadata": {
        "id": "YKSNlRt0AQG0"
      },
      "source": [
        "y_train = (y_train != 0) * 1"
      ],
      "execution_count": null,
      "outputs": []
    },
    {
      "cell_type": "markdown",
      "source": [
        "* クラスラベルは0と1だけになっている。"
      ],
      "metadata": {
        "id": "IfDFK-4Cy6lU"
      }
    },
    {
      "cell_type": "code",
      "metadata": {
        "id": "3fbDxzqRAglj"
      },
      "source": [
        "np.unique(y_train)"
      ],
      "execution_count": null,
      "outputs": []
    },
    {
      "cell_type": "markdown",
      "metadata": {
        "id": "8owmxFTIbp2I"
      },
      "source": [
        "* 検証データとテストデータも同様にラベルを変更する。"
      ]
    },
    {
      "cell_type": "code",
      "metadata": {
        "id": "54wotJhDAljC"
      },
      "source": [
        "y_valid = (y_valid != 0) * 1\n",
        "y_test = (y_test != 0) * 1"
      ],
      "execution_count": null,
      "outputs": []
    },
    {
      "cell_type": "markdown",
      "metadata": {
        "id": "fCaefTJ-A7I5"
      },
      "source": [
        "### ロジスティック回帰で２値分類"
      ]
    },
    {
      "cell_type": "markdown",
      "metadata": {
        "id": "tGsmiaaGCZ2M"
      },
      "source": [
        "* ロジスティック回帰の予測の式\n",
        " * $i$番目のデータについて、以下の式で、0/1の２値ラベルを予測する。\n",
        "$$ p_i = \\frac{1}{1 + e^{ - ( \\beta_0 + \\beta_1 x_{i,1} + \\cdots + \\beta_d x_{i, d} ) }} $$\n",
        "\n",
        "* 真のラベル$t_i$とのズレを表す式\n",
        "$$ - \\{ t_i \\log p_i + ( 1 - t_i ) \\log (1 - p_i) \\} $$\n",
        " * この式の値を全てのデータ点にわたって足し合わせたものを最小化する。"
      ]
    },
    {
      "cell_type": "markdown",
      "metadata": {
        "id": "gwFCGZ5SBLk5"
      },
      "source": [
        "* モデルを準備し、訓練データを渡して係数と切片を推定させる。"
      ]
    },
    {
      "cell_type": "code",
      "metadata": {
        "id": "_-R0n5yrA-XJ"
      },
      "source": [
        "from sklearn.linear_model import LogisticRegression\n",
        "clf = LogisticRegression()\n",
        "clf.fit(X_train, y_train)"
      ],
      "execution_count": null,
      "outputs": []
    },
    {
      "cell_type": "markdown",
      "metadata": {
        "id": "kb79aQODBJG4"
      },
      "source": [
        "* `max_iter`を増やしてみる"
      ]
    },
    {
      "cell_type": "code",
      "metadata": {
        "id": "VZ9D3fY-BBsq"
      },
      "source": [
        "clf = LogisticRegression(max_iter=1000)\n",
        "clf.fit(X_train, y_train)"
      ],
      "execution_count": null,
      "outputs": []
    },
    {
      "cell_type": "code",
      "metadata": {
        "id": "So5gRVh9BRBj"
      },
      "source": [
        "print(f'Accuracy: {clf.score(X_valid, y_valid):.4f}')"
      ],
      "execution_count": null,
      "outputs": []
    },
    {
      "cell_type": "markdown",
      "metadata": {
        "id": "UMAM9JHYdBxA"
      },
      "source": [
        "* digitsデータを0とそれ以外の2値分類にしてしまうと、問題として簡単になってしまうらしい・・・。"
      ]
    },
    {
      "cell_type": "markdown",
      "metadata": {
        "id": "jW09_g8mBZAc"
      },
      "source": [
        "# 応用：MNISTデータの分類"
      ]
    },
    {
      "cell_type": "markdown",
      "source": [
        "### データの３分割とEDA"
      ],
      "metadata": {
        "id": "VuSLyxWiU0bn"
      }
    },
    {
      "cell_type": "markdown",
      "metadata": {
        "id": "qalamp07dMpR"
      },
      "source": [
        "* scikit-learnに用意されている仕組みを利用してMNISTデータをダウンロードする。"
      ]
    },
    {
      "cell_type": "code",
      "metadata": {
        "id": "k5T4xL1tBWoV"
      },
      "source": [
        "from sklearn.datasets import fetch_openml\n",
        "mnist = fetch_openml('mnist_784')\n",
        "X, y = mnist.data, mnist.target\n",
        "print(X.shape)\n",
        "print(y.shape)"
      ],
      "execution_count": null,
      "outputs": []
    },
    {
      "cell_type": "markdown",
      "metadata": {
        "id": "7ActyQkLdS4d"
      },
      "source": [
        "* 通常、MNISTデータは最後の10000件をテストデータとして使う。"
      ]
    },
    {
      "cell_type": "code",
      "metadata": {
        "id": "xAcCKb0_Bgud"
      },
      "source": [
        "X_train, X_test = X[:60000], X[60000:]\n",
        "y_train, y_test = y[:60000], y[60000:]"
      ],
      "execution_count": null,
      "outputs": []
    },
    {
      "cell_type": "markdown",
      "metadata": {
        "id": "JX8Jf3OPdeIE"
      },
      "source": [
        "* テストデータ以外の60000件を、訓練データ50000件と検証データ10000件へ分割しておく。"
      ]
    },
    {
      "cell_type": "code",
      "metadata": {
        "id": "Hf0hxjN0BlcM"
      },
      "source": [
        "from sklearn.model_selection import train_test_split\n",
        "\n",
        "X_train, X_valid, y_train, y_valid = train_test_split(X_train, y_train,\n",
        "                                                      test_size=10000,\n",
        "                                                      random_state=42)"
      ],
      "execution_count": null,
      "outputs": []
    },
    {
      "cell_type": "code",
      "metadata": {
        "id": "UlnqcUGzBsA2"
      },
      "source": [
        "print(X_train.shape, X_valid.shape, X_test.shape)"
      ],
      "execution_count": null,
      "outputs": []
    },
    {
      "cell_type": "markdown",
      "source": [
        "* 訓練データから一つの画像を眺めてみる。"
      ],
      "metadata": {
        "id": "yXo3NAZXzu2S"
      }
    },
    {
      "cell_type": "code",
      "source": [
        "type(X_train)"
      ],
      "metadata": {
        "id": "3IMlCRFYz4qj"
      },
      "execution_count": null,
      "outputs": []
    },
    {
      "cell_type": "code",
      "source": [
        "plt.imshow(X_train.values[0].reshape(28, -1), cmap=plt.cm.gray);"
      ],
      "metadata": {
        "id": "hj6Kf1mvzmEI"
      },
      "execution_count": null,
      "outputs": []
    },
    {
      "cell_type": "markdown",
      "metadata": {
        "id": "QecEjxyMdXQe"
      },
      "source": [
        "* 訓練データの最初の100個を可視化してみる。"
      ]
    },
    {
      "cell_type": "code",
      "metadata": {
        "id": "zacmZ9O3BjVW"
      },
      "source": [
        "fig, axes = plt.subplots(10, 10)\n",
        "for x, ax in zip(X_train.values, axes.ravel()):\n",
        "  ax.axis('off') # 軸を消す\n",
        "  ax.matshow(x.reshape(28, 28), cmap=plt.cm.gray)\n",
        "plt.show()"
      ],
      "execution_count": null,
      "outputs": []
    },
    {
      "cell_type": "markdown",
      "metadata": {
        "id": "F3sU13WRB6F3"
      },
      "source": [
        "* 問題を２値分類問題に変える。\n",
        " * 0とそれ以外の2値分類問題にしてしまう。"
      ]
    },
    {
      "cell_type": "code",
      "metadata": {
        "id": "Znn2YGyvBw4W"
      },
      "source": [
        "y_train = (y_train != '0') * 1\n",
        "y_valid = (y_valid != '0') * 1\n",
        "y_test = (y_test != '0') * 1"
      ],
      "execution_count": null,
      "outputs": []
    },
    {
      "cell_type": "code",
      "metadata": {
        "id": "onJS3wEufkyr"
      },
      "source": [
        "print(f'{(y_train == 0).sum()} zero digits and {(y_train == 1).sum()} non-zero digits in training set')"
      ],
      "execution_count": null,
      "outputs": []
    },
    {
      "cell_type": "markdown",
      "metadata": {
        "id": "BwClOs7ZduMt"
      },
      "source": [
        "## ロジスティック回帰による分類の実行\n",
        "* ロジスティック回帰を準備し、訓練データを渡して係数と切片を推定させる。\n",
        " * 訓練データの個数が多いので、少し時間がかかる。\n",
        " * 推定計算が収束しない場合は、`max_iter`を増やしてみる（デフォルトの設定は`max_iter=100`）。\n",
        " * `solver`（最適化アルゴリズムの設定）を`'saga'`にしているのは、こうしないと時間がかかってしまうため。"
      ]
    },
    {
      "cell_type": "markdown",
      "metadata": {
        "id": "n8X4NBHhb8Zq"
      },
      "source": [
        "## ロジスティック回帰での正則化\n",
        "* scikit-learnのロジスティック回帰では、`C`というパラメータを調整する。\n",
        "* `C`は、小さいほど、正則化が強く効く＝係数をより強くゼロに近づける。\n",
        " * デフォルトの設定は`C=1.0`。\n",
        " * リッジ回帰やLassoの`alpha`とは、向きが逆であることに、注意。\n",
        "* 正則化の種類は`penalty`を`'l2'`か`'l1'`に設定することでおこなう。\n",
        " * `l2`だと、係数の二乗の和を最小化する。\n",
        " * `l1`だと、係数の絶対値の和を最小化する。"
      ]
    },
    {
      "cell_type": "code",
      "metadata": {
        "id": "eANdkjTaB5gF"
      },
      "source": [
        "from sklearn.linear_model import LogisticRegression\n",
        "clf = LogisticRegression(penalty='l2', solver='saga')\n",
        "clf.fit(X_train, y_train)"
      ],
      "execution_count": null,
      "outputs": []
    },
    {
      "cell_type": "markdown",
      "source": [
        "* 検証データで評価\n",
        " * テストデータは最終評価で一回使うだけです。"
      ],
      "metadata": {
        "id": "iYqREMGV0vMj"
      }
    },
    {
      "cell_type": "code",
      "metadata": {
        "id": "qywf9D3xCAgM"
      },
      "source": [
        "print(f'Accuracy: {clf.score(X_valid, y_valid):.4f}')"
      ],
      "execution_count": null,
      "outputs": []
    },
    {
      "cell_type": "markdown",
      "metadata": {
        "id": "kITRwRt2kX7f"
      },
      "source": [
        "* 推定された係数を可視化してみる。"
      ]
    },
    {
      "cell_type": "code",
      "metadata": {
        "id": "yEvBK8yUkXLO"
      },
      "source": [
        "plt.imshow(clf.coef_.reshape(28,28), cmap=plt.cm.gray);"
      ],
      "execution_count": null,
      "outputs": []
    },
    {
      "cell_type": "markdown",
      "metadata": {
        "id": "uXvvYHellZW9"
      },
      "source": [
        "## 今回の設定をテストデータ上で評価"
      ]
    },
    {
      "cell_type": "code",
      "metadata": {
        "id": "xKJT7Fe0kZy3"
      },
      "source": [
        "clf = LogisticRegression(penalty='l1', solver='saga')\n",
        "clf.fit(X_train, y_train)\n",
        "print(f'Accuracy: {clf.score(X_test, y_test):.4f}')"
      ],
      "execution_count": null,
      "outputs": []
    },
    {
      "cell_type": "markdown",
      "source": [
        "# 課題\n",
        "* 上に示したテスト性能よりも良い性能になるよう、\n",
        " * モデルの設定を調整して、\n",
        " * X_trainにモデルをfitさせ、\n",
        " * X_validで評価する、\n",
        "* ということを繰り返し行なってみてください。\n",
        "* 最後にX_testで評価するのを、忘れずに。"
      ],
      "metadata": {
        "id": "5WIF_MvV0UMe"
      }
    },
    {
      "cell_type": "code",
      "source": [],
      "metadata": {
        "id": "GIHsNtaE0l5N"
      },
      "execution_count": null,
      "outputs": []
    }
  ]
}
